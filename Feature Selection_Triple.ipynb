{
 "cells": [
  {
   "cell_type": "code",
   "execution_count": 45,
   "id": "fef410d0-c657-4f20-9db6-a8c41922942f",
   "metadata": {},
   "outputs": [],
   "source": [
    "import scipy\n",
    "from scipy import stats\n",
    "import seaborn as sns\n",
    "import matplotlib.pyplot as plt\n",
    "import sklearn\n",
    "from sklearn import preprocessing\n",
    "from sklearn.model_selection import GridSearchCV\n",
    "from sklearn.model_selection import train_test_split\n",
    "from sklearn.tree import DecisionTreeClassifier\n",
    "from sklearn.metrics import classification_report, confusion_matrix\n",
    "from sklearn.model_selection import cross_val_predict\n",
    "from sklearn.model_selection import cross_val_score\n",
    "from sklearn.linear_model import LogisticRegression\n",
    "from sklearn import metrics\n",
    "from sklearn.metrics import jaccard_score\n",
    "from sklearn.metrics import log_loss"
   ]
  },
  {
   "cell_type": "code",
   "execution_count": 46,
   "id": "387f6a90-39c6-4cac-83ec-c9ad867467fd",
   "metadata": {},
   "outputs": [
    {
     "name": "stdout",
     "output_type": "stream",
     "text": [
      "Requirement already satisfied: pandas in d:\\nueva carpeta\\lib\\site-packages (1.5.1)\n",
      "Requirement already satisfied: numpy>=1.20.3 in d:\\nueva carpeta\\lib\\site-packages (from pandas) (1.21.5)\n",
      "Requirement already satisfied: python-dateutil>=2.8.1 in d:\\nueva carpeta\\lib\\site-packages (from pandas) (2.8.2)\n",
      "Requirement already satisfied: pytz>=2020.1 in d:\\nueva carpeta\\lib\\site-packages (from pandas) (2021.3)\n",
      "Requirement already satisfied: six>=1.5 in d:\\nueva carpeta\\lib\\site-packages (from python-dateutil>=2.8.1->pandas) (1.16.0)\n",
      "Note: you may need to restart the kernel to use updated packages.\n"
     ]
    }
   ],
   "source": [
    "%pip install --user pandas\n",
    "import pandas as pd\n",
    "import numpy as np\n",
    "\n",
    "df = pd.read_excel(r\"C:\\Users\\USUARIO\\Desktop\\quiniela origen.xlsx\")"
   ]
  },
  {
   "cell_type": "code",
   "execution_count": 47,
   "id": "cd3c5e73-35c2-47e8-bec4-711053791440",
   "metadata": {},
   "outputs": [],
   "source": [
    "df.drop(['Temporada','Local', 'Visitante', 'V','V.1','E','E.1','D','D.1', 'sin perder', 'sin ganar', 'sin perder.1', 'sin ganar.1'], axis=1, inplace=True)"
   ]
  },
  {
   "cell_type": "code",
   "execution_count": 48,
   "id": "44a91dee-f7c1-4308-b16b-8ff451f9dfd1",
   "metadata": {},
   "outputs": [],
   "source": [
    "df= df.dropna(subset=['resultado'], axis=0)"
   ]
  },
  {
   "cell_type": "code",
   "execution_count": 49,
   "id": "cb3b22b2-f817-4cc6-b75b-494932160b6f",
   "metadata": {},
   "outputs": [],
   "source": [
    "df.drop(['Jornada', 'dif.', 'dif..1'], axis=1, inplace=True)"
   ]
  },
  {
   "cell_type": "code",
   "execution_count": 50,
   "id": "2307dfae-2587-444a-b199-87ba90ae31a3",
   "metadata": {},
   "outputs": [],
   "source": [
    "df['Puntos Local']=pd.cut(df['PUNTOS'], bins=3, labels=['menos de 3', 'de 3 a 5', '6 o más'], right=False)\n",
    "df['Puntos Visitante']=pd.cut(df['PUNTOS.1'], bins=3, labels=['menos de 3', 'de 3 a 5', '6 o más'], right=False)"
   ]
  },
  {
   "cell_type": "code",
   "execution_count": 51,
   "id": "d098bd58-b0d9-46c8-8e04-1d1eb9d5da1d",
   "metadata": {},
   "outputs": [],
   "source": [
    "df['MPSP_l']=pd.qcut(df['partidos consecutivos sin perder'],q= [0, 0.4, 1])\n",
    "df['MPSG_l']=pd.qcut(df['media de partidos sin ganar'], q= [0, 0.4, 1])\n",
    "df['MPSP_v']=pd.qcut(df['partidos consecutivos sin perder.1'], q= [0, 0.4, 1])\n",
    "df['MPSG_v']=pd.qcut(df['media de partidos sin ganar.1'], q= [0, 0.4, 1])"
   ]
  },
  {
   "cell_type": "code",
   "execution_count": 52,
   "id": "119972ba-f76c-4755-92ff-210a88d94df7",
   "metadata": {},
   "outputs": [],
   "source": [
    "df['GF_local'] = pd.qcut(df['AF'], q= [0, 0.6, 1], labels = ['0-1.33', '>1.33'])\n",
    "df['GC_local'] = pd.qcut(df['AC'], q= [0, 0.7, 1])"
   ]
  },
  {
   "cell_type": "code",
   "execution_count": 53,
   "id": "c77f9143-7427-4615-a034-dd6c58dc07f5",
   "metadata": {},
   "outputs": [
    {
     "data": {
      "text/html": [
       "<div>\n",
       "<style scoped>\n",
       "    .dataframe tbody tr th:only-of-type {\n",
       "        vertical-align: middle;\n",
       "    }\n",
       "\n",
       "    .dataframe tbody tr th {\n",
       "        vertical-align: top;\n",
       "    }\n",
       "\n",
       "    .dataframe thead th {\n",
       "        text-align: right;\n",
       "    }\n",
       "</style>\n",
       "<table border=\"1\" class=\"dataframe\">\n",
       "  <thead>\n",
       "    <tr style=\"text-align: right;\">\n",
       "      <th></th>\n",
       "      <th>cuartil</th>\n",
       "      <th>partidos consecutivos sin perder</th>\n",
       "      <th>media de partidos sin ganar</th>\n",
       "      <th>PUNTOS</th>\n",
       "      <th>último partido como local</th>\n",
       "      <th>último partido</th>\n",
       "      <th>AF</th>\n",
       "      <th>AC</th>\n",
       "      <th>cuartil.1</th>\n",
       "      <th>partidos consecutivos sin perder.1</th>\n",
       "      <th>...</th>\n",
       "      <th>Puntos Local</th>\n",
       "      <th>Puntos Visitante</th>\n",
       "      <th>MPSP_l</th>\n",
       "      <th>MPSG_l</th>\n",
       "      <th>MPSP_v</th>\n",
       "      <th>MPSG_v</th>\n",
       "      <th>GF_local</th>\n",
       "      <th>GC_local</th>\n",
       "      <th>GF_visitante</th>\n",
       "      <th>GC_visitante</th>\n",
       "    </tr>\n",
       "  </thead>\n",
       "  <tbody>\n",
       "    <tr>\n",
       "      <th>0</th>\n",
       "      <td>1</td>\n",
       "      <td>6.800000</td>\n",
       "      <td>1.333333</td>\n",
       "      <td>9</td>\n",
       "      <td>3</td>\n",
       "      <td>3</td>\n",
       "      <td>2.380000</td>\n",
       "      <td>0.250000</td>\n",
       "      <td>2</td>\n",
       "      <td>4.142857</td>\n",
       "      <td>...</td>\n",
       "      <td>6 o más</td>\n",
       "      <td>6 o más</td>\n",
       "      <td>(2.27, 12.0]</td>\n",
       "      <td>(-0.001, 2.25]</td>\n",
       "      <td>(2.233, 12.0]</td>\n",
       "      <td>(-0.001, 2.25]</td>\n",
       "      <td>&gt;1.33</td>\n",
       "      <td>(-0.001, 1.309]</td>\n",
       "      <td>&gt;1.1</td>\n",
       "      <td>0-1.1</td>\n",
       "    </tr>\n",
       "    <tr>\n",
       "      <th>1</th>\n",
       "      <td>1</td>\n",
       "      <td>6.800000</td>\n",
       "      <td>1.300000</td>\n",
       "      <td>6</td>\n",
       "      <td>0</td>\n",
       "      <td>3</td>\n",
       "      <td>1.480000</td>\n",
       "      <td>1.190000</td>\n",
       "      <td>2</td>\n",
       "      <td>1.666667</td>\n",
       "      <td>...</td>\n",
       "      <td>6 o más</td>\n",
       "      <td>menos de 3</td>\n",
       "      <td>(2.27, 12.0]</td>\n",
       "      <td>(-0.001, 2.25]</td>\n",
       "      <td>(0.999, 2.233]</td>\n",
       "      <td>(2.25, 11.0]</td>\n",
       "      <td>0-1.33</td>\n",
       "      <td>(-0.001, 1.309]</td>\n",
       "      <td>0-1.1</td>\n",
       "      <td>&gt;1.4</td>\n",
       "    </tr>\n",
       "    <tr>\n",
       "      <th>2</th>\n",
       "      <td>1</td>\n",
       "      <td>4.428571</td>\n",
       "      <td>1.555556</td>\n",
       "      <td>7</td>\n",
       "      <td>1</td>\n",
       "      <td>1</td>\n",
       "      <td>2.420000</td>\n",
       "      <td>1.080000</td>\n",
       "      <td>4</td>\n",
       "      <td>2.000000</td>\n",
       "      <td>...</td>\n",
       "      <td>6 o más</td>\n",
       "      <td>de 3 a 5</td>\n",
       "      <td>(2.27, 12.0]</td>\n",
       "      <td>(-0.001, 2.25]</td>\n",
       "      <td>(0.999, 2.233]</td>\n",
       "      <td>(2.25, 11.0]</td>\n",
       "      <td>&gt;1.33</td>\n",
       "      <td>(-0.001, 1.309]</td>\n",
       "      <td>0-1.1</td>\n",
       "      <td>0-1.1</td>\n",
       "    </tr>\n",
       "    <tr>\n",
       "      <th>3</th>\n",
       "      <td>3</td>\n",
       "      <td>2.400000</td>\n",
       "      <td>2.250000</td>\n",
       "      <td>4</td>\n",
       "      <td>3</td>\n",
       "      <td>3</td>\n",
       "      <td>1.380000</td>\n",
       "      <td>0.630000</td>\n",
       "      <td>1</td>\n",
       "      <td>4.428571</td>\n",
       "      <td>...</td>\n",
       "      <td>de 3 a 5</td>\n",
       "      <td>6 o más</td>\n",
       "      <td>(2.27, 12.0]</td>\n",
       "      <td>(-0.001, 2.25]</td>\n",
       "      <td>(2.233, 12.0]</td>\n",
       "      <td>(-0.001, 2.25]</td>\n",
       "      <td>0-1.33</td>\n",
       "      <td>(-0.001, 1.309]</td>\n",
       "      <td>&gt;1.1</td>\n",
       "      <td>0-1.1</td>\n",
       "    </tr>\n",
       "    <tr>\n",
       "      <th>4</th>\n",
       "      <td>3</td>\n",
       "      <td>2.555556</td>\n",
       "      <td>2.900000</td>\n",
       "      <td>4</td>\n",
       "      <td>0</td>\n",
       "      <td>0</td>\n",
       "      <td>1.640000</td>\n",
       "      <td>1.560000</td>\n",
       "      <td>1</td>\n",
       "      <td>6.800000</td>\n",
       "      <td>...</td>\n",
       "      <td>de 3 a 5</td>\n",
       "      <td>6 o más</td>\n",
       "      <td>(2.27, 12.0]</td>\n",
       "      <td>(2.25, 11.0]</td>\n",
       "      <td>(2.233, 12.0]</td>\n",
       "      <td>(-0.001, 2.25]</td>\n",
       "      <td>&gt;1.33</td>\n",
       "      <td>(1.309, 4.0]</td>\n",
       "      <td>&gt;1.1</td>\n",
       "      <td>0-1.1</td>\n",
       "    </tr>\n",
       "    <tr>\n",
       "      <th>...</th>\n",
       "      <td>...</td>\n",
       "      <td>...</td>\n",
       "      <td>...</td>\n",
       "      <td>...</td>\n",
       "      <td>...</td>\n",
       "      <td>...</td>\n",
       "      <td>...</td>\n",
       "      <td>...</td>\n",
       "      <td>...</td>\n",
       "      <td>...</td>\n",
       "      <td>...</td>\n",
       "      <td>...</td>\n",
       "      <td>...</td>\n",
       "      <td>...</td>\n",
       "      <td>...</td>\n",
       "      <td>...</td>\n",
       "      <td>...</td>\n",
       "      <td>...</td>\n",
       "      <td>...</td>\n",
       "      <td>...</td>\n",
       "      <td>...</td>\n",
       "    </tr>\n",
       "    <tr>\n",
       "      <th>777</th>\n",
       "      <td>3</td>\n",
       "      <td>2.000000</td>\n",
       "      <td>2.000000</td>\n",
       "      <td>4</td>\n",
       "      <td>3</td>\n",
       "      <td>1</td>\n",
       "      <td>1.333333</td>\n",
       "      <td>1.000000</td>\n",
       "      <td>4</td>\n",
       "      <td>1.500000</td>\n",
       "      <td>...</td>\n",
       "      <td>de 3 a 5</td>\n",
       "      <td>6 o más</td>\n",
       "      <td>(0.999, 2.27]</td>\n",
       "      <td>(-0.001, 2.25]</td>\n",
       "      <td>(0.999, 2.233]</td>\n",
       "      <td>(-0.001, 2.25]</td>\n",
       "      <td>0-1.33</td>\n",
       "      <td>(-0.001, 1.309]</td>\n",
       "      <td>0-1.1</td>\n",
       "      <td>&gt;1.4</td>\n",
       "    </tr>\n",
       "    <tr>\n",
       "      <th>778</th>\n",
       "      <td>1</td>\n",
       "      <td>12.000000</td>\n",
       "      <td>0.000000</td>\n",
       "      <td>9</td>\n",
       "      <td>3</td>\n",
       "      <td>3</td>\n",
       "      <td>2.600000</td>\n",
       "      <td>1.000000</td>\n",
       "      <td>4</td>\n",
       "      <td>1.500000</td>\n",
       "      <td>...</td>\n",
       "      <td>6 o más</td>\n",
       "      <td>menos de 3</td>\n",
       "      <td>(2.27, 12.0]</td>\n",
       "      <td>(-0.001, 2.25]</td>\n",
       "      <td>(0.999, 2.233]</td>\n",
       "      <td>(2.25, 11.0]</td>\n",
       "      <td>&gt;1.33</td>\n",
       "      <td>(-0.001, 1.309]</td>\n",
       "      <td>0-1.1</td>\n",
       "      <td>&gt;1.4</td>\n",
       "    </tr>\n",
       "    <tr>\n",
       "      <th>779</th>\n",
       "      <td>2</td>\n",
       "      <td>2.250000</td>\n",
       "      <td>2.000000</td>\n",
       "      <td>1</td>\n",
       "      <td>0</td>\n",
       "      <td>0</td>\n",
       "      <td>1.333333</td>\n",
       "      <td>0.666667</td>\n",
       "      <td>2</td>\n",
       "      <td>2.000000</td>\n",
       "      <td>...</td>\n",
       "      <td>menos de 3</td>\n",
       "      <td>6 o más</td>\n",
       "      <td>(0.999, 2.27]</td>\n",
       "      <td>(-0.001, 2.25]</td>\n",
       "      <td>(0.999, 2.233]</td>\n",
       "      <td>(-0.001, 2.25]</td>\n",
       "      <td>0-1.33</td>\n",
       "      <td>(-0.001, 1.309]</td>\n",
       "      <td>0-1.1</td>\n",
       "      <td>0-1.1</td>\n",
       "    </tr>\n",
       "    <tr>\n",
       "      <th>780</th>\n",
       "      <td>2</td>\n",
       "      <td>2.666667</td>\n",
       "      <td>1.666667</td>\n",
       "      <td>6</td>\n",
       "      <td>3</td>\n",
       "      <td>0</td>\n",
       "      <td>1.200000</td>\n",
       "      <td>1.200000</td>\n",
       "      <td>2</td>\n",
       "      <td>2.250000</td>\n",
       "      <td>...</td>\n",
       "      <td>6 o más</td>\n",
       "      <td>de 3 a 5</td>\n",
       "      <td>(2.27, 12.0]</td>\n",
       "      <td>(-0.001, 2.25]</td>\n",
       "      <td>(2.233, 12.0]</td>\n",
       "      <td>(-0.001, 2.25]</td>\n",
       "      <td>0-1.33</td>\n",
       "      <td>(-0.001, 1.309]</td>\n",
       "      <td>0-1.1</td>\n",
       "      <td>0-1.1</td>\n",
       "    </tr>\n",
       "    <tr>\n",
       "      <th>781</th>\n",
       "      <td>4</td>\n",
       "      <td>1.000000</td>\n",
       "      <td>11.000000</td>\n",
       "      <td>2</td>\n",
       "      <td>0</td>\n",
       "      <td>1</td>\n",
       "      <td>0.600000</td>\n",
       "      <td>2.000000</td>\n",
       "      <td>3</td>\n",
       "      <td>2.333333</td>\n",
       "      <td>...</td>\n",
       "      <td>menos de 3</td>\n",
       "      <td>de 3 a 5</td>\n",
       "      <td>(0.999, 2.27]</td>\n",
       "      <td>(2.25, 11.0]</td>\n",
       "      <td>(2.233, 12.0]</td>\n",
       "      <td>(2.25, 11.0]</td>\n",
       "      <td>0-1.33</td>\n",
       "      <td>(1.309, 4.0]</td>\n",
       "      <td>0-1.1</td>\n",
       "      <td>&gt;1.4</td>\n",
       "    </tr>\n",
       "  </tbody>\n",
       "</table>\n",
       "<p>782 rows × 26 columns</p>\n",
       "</div>"
      ],
      "text/plain": [
       "     cuartil  partidos consecutivos sin perder  media de partidos sin ganar  \\\n",
       "0          1                          6.800000                     1.333333   \n",
       "1          1                          6.800000                     1.300000   \n",
       "2          1                          4.428571                     1.555556   \n",
       "3          3                          2.400000                     2.250000   \n",
       "4          3                          2.555556                     2.900000   \n",
       "..       ...                               ...                          ...   \n",
       "777        3                          2.000000                     2.000000   \n",
       "778        1                         12.000000                     0.000000   \n",
       "779        2                          2.250000                     2.000000   \n",
       "780        2                          2.666667                     1.666667   \n",
       "781        4                          1.000000                    11.000000   \n",
       "\n",
       "     PUNTOS  último partido como local  último partido        AF        AC  \\\n",
       "0         9                          3               3  2.380000  0.250000   \n",
       "1         6                          0               3  1.480000  1.190000   \n",
       "2         7                          1               1  2.420000  1.080000   \n",
       "3         4                          3               3  1.380000  0.630000   \n",
       "4         4                          0               0  1.640000  1.560000   \n",
       "..      ...                        ...             ...       ...       ...   \n",
       "777       4                          3               1  1.333333  1.000000   \n",
       "778       9                          3               3  2.600000  1.000000   \n",
       "779       1                          0               0  1.333333  0.666667   \n",
       "780       6                          3               0  1.200000  1.200000   \n",
       "781       2                          0               1  0.600000  2.000000   \n",
       "\n",
       "     cuartil.1  partidos consecutivos sin perder.1  ...  Puntos Local  \\\n",
       "0            2                            4.142857  ...       6 o más   \n",
       "1            2                            1.666667  ...       6 o más   \n",
       "2            4                            2.000000  ...       6 o más   \n",
       "3            1                            4.428571  ...      de 3 a 5   \n",
       "4            1                            6.800000  ...      de 3 a 5   \n",
       "..         ...                                 ...  ...           ...   \n",
       "777          4                            1.500000  ...      de 3 a 5   \n",
       "778          4                            1.500000  ...       6 o más   \n",
       "779          2                            2.000000  ...    menos de 3   \n",
       "780          2                            2.250000  ...       6 o más   \n",
       "781          3                            2.333333  ...    menos de 3   \n",
       "\n",
       "     Puntos Visitante         MPSP_l          MPSG_l          MPSP_v  \\\n",
       "0             6 o más   (2.27, 12.0]  (-0.001, 2.25]   (2.233, 12.0]   \n",
       "1          menos de 3   (2.27, 12.0]  (-0.001, 2.25]  (0.999, 2.233]   \n",
       "2            de 3 a 5   (2.27, 12.0]  (-0.001, 2.25]  (0.999, 2.233]   \n",
       "3             6 o más   (2.27, 12.0]  (-0.001, 2.25]   (2.233, 12.0]   \n",
       "4             6 o más   (2.27, 12.0]    (2.25, 11.0]   (2.233, 12.0]   \n",
       "..                ...            ...             ...             ...   \n",
       "777           6 o más  (0.999, 2.27]  (-0.001, 2.25]  (0.999, 2.233]   \n",
       "778        menos de 3   (2.27, 12.0]  (-0.001, 2.25]  (0.999, 2.233]   \n",
       "779           6 o más  (0.999, 2.27]  (-0.001, 2.25]  (0.999, 2.233]   \n",
       "780          de 3 a 5   (2.27, 12.0]  (-0.001, 2.25]   (2.233, 12.0]   \n",
       "781          de 3 a 5  (0.999, 2.27]    (2.25, 11.0]   (2.233, 12.0]   \n",
       "\n",
       "             MPSG_v GF_local         GC_local GF_visitante GC_visitante  \n",
       "0    (-0.001, 2.25]    >1.33  (-0.001, 1.309]         >1.1        0-1.1  \n",
       "1      (2.25, 11.0]   0-1.33  (-0.001, 1.309]        0-1.1         >1.4  \n",
       "2      (2.25, 11.0]    >1.33  (-0.001, 1.309]        0-1.1        0-1.1  \n",
       "3    (-0.001, 2.25]   0-1.33  (-0.001, 1.309]         >1.1        0-1.1  \n",
       "4    (-0.001, 2.25]    >1.33     (1.309, 4.0]         >1.1        0-1.1  \n",
       "..              ...      ...              ...          ...          ...  \n",
       "777  (-0.001, 2.25]   0-1.33  (-0.001, 1.309]        0-1.1         >1.4  \n",
       "778    (2.25, 11.0]    >1.33  (-0.001, 1.309]        0-1.1         >1.4  \n",
       "779  (-0.001, 2.25]   0-1.33  (-0.001, 1.309]        0-1.1        0-1.1  \n",
       "780  (-0.001, 2.25]   0-1.33  (-0.001, 1.309]        0-1.1        0-1.1  \n",
       "781    (2.25, 11.0]   0-1.33     (1.309, 4.0]        0-1.1         >1.4  \n",
       "\n",
       "[782 rows x 26 columns]"
      ]
     },
     "execution_count": 53,
     "metadata": {},
     "output_type": "execute_result"
    }
   ],
   "source": [
    "df['GF_visitante'] = pd.qcut(df['AF.1'], q= [0, 0.6, 1], labels = ['0-1.1', '>1.1'])\n",
    "df['GC_visitante'] = pd.qcut(df['AC.1'], q= [0, 0.55, 1], labels = ['0-1.1', '>1.4'])\n",
    "df"
   ]
  },
  {
   "cell_type": "markdown",
   "id": "ee660372-3373-4a23-9dbb-11378d1b199a",
   "metadata": {},
   "source": [
    "# Histórico"
   ]
  },
  {
   "cell_type": "markdown",
   "id": "adba2088-9851-41ff-be78-f9479f9a81d4",
   "metadata": {},
   "source": [
    "## Dos años anteriores"
   ]
  },
  {
   "cell_type": "markdown",
   "id": "43edae60-238c-4e77-aa38-7f66c4b978a5",
   "metadata": {},
   "source": [
    "---"
   ]
  },
  {
   "cell_type": "code",
   "execution_count": 54,
   "id": "a9b54c55-4842-4bab-8d33-62a74ed5d26c",
   "metadata": {},
   "outputs": [
    {
     "data": {
      "text/html": [
       "<div>\n",
       "<style scoped>\n",
       "    .dataframe tbody tr th:only-of-type {\n",
       "        vertical-align: middle;\n",
       "    }\n",
       "\n",
       "    .dataframe tbody tr th {\n",
       "        vertical-align: top;\n",
       "    }\n",
       "\n",
       "    .dataframe thead th {\n",
       "        text-align: right;\n",
       "    }\n",
       "</style>\n",
       "<table border=\"1\" class=\"dataframe\">\n",
       "  <thead>\n",
       "    <tr style=\"text-align: right;\">\n",
       "      <th>resultado</th>\n",
       "      <th>0</th>\n",
       "      <th>1</th>\n",
       "      <th>2</th>\n",
       "    </tr>\n",
       "    <tr>\n",
       "      <th>cuartil</th>\n",
       "      <th></th>\n",
       "      <th></th>\n",
       "      <th></th>\n",
       "    </tr>\n",
       "  </thead>\n",
       "  <tbody>\n",
       "    <tr>\n",
       "      <th>1</th>\n",
       "      <td>31</td>\n",
       "      <td>89</td>\n",
       "      <td>20</td>\n",
       "    </tr>\n",
       "    <tr>\n",
       "      <th>2</th>\n",
       "      <td>45</td>\n",
       "      <td>81</td>\n",
       "      <td>49</td>\n",
       "    </tr>\n",
       "    <tr>\n",
       "      <th>3</th>\n",
       "      <td>80</td>\n",
       "      <td>90</td>\n",
       "      <td>81</td>\n",
       "    </tr>\n",
       "    <tr>\n",
       "      <th>4</th>\n",
       "      <td>62</td>\n",
       "      <td>81</td>\n",
       "      <td>73</td>\n",
       "    </tr>\n",
       "  </tbody>\n",
       "</table>\n",
       "</div>"
      ],
      "text/plain": [
       "resultado   0   1   2\n",
       "cuartil              \n",
       "1          31  89  20\n",
       "2          45  81  49\n",
       "3          80  90  81\n",
       "4          62  81  73"
      ]
     },
     "execution_count": 54,
     "metadata": {},
     "output_type": "execute_result"
    }
   ],
   "source": [
    "chisq_cuartil = pd.crosstab(df['cuartil'], df['resultado'])\n",
    "chisq_cuartil"
   ]
  },
  {
   "cell_type": "code",
   "execution_count": 55,
   "id": "4812c7c0-2d51-4175-9fc6-d363ea514524",
   "metadata": {},
   "outputs": [
    {
     "data": {
      "text/plain": [
       "(35.13565011109789,\n",
       " 4.056397041509435e-06,\n",
       " 6,\n",
       " array([[ 39.02813299,  61.04859335,  39.92327366],\n",
       "        [ 48.78516624,  76.31074169,  49.90409207],\n",
       "        [ 69.97186701, 109.45140665,  71.57672634],\n",
       "        [ 60.21483376,  94.18925831,  61.59590793]]))"
      ]
     },
     "execution_count": 55,
     "metadata": {},
     "output_type": "execute_result"
    }
   ],
   "source": [
    "scipy.stats.contingency.chi2_contingency(chisq_cuartil)"
   ]
  },
  {
   "cell_type": "markdown",
   "id": "92afbad3-1030-418f-babe-650b231490a5",
   "metadata": {},
   "source": [
    "---"
   ]
  },
  {
   "cell_type": "code",
   "execution_count": 56,
   "id": "0878fd6f-d9bd-4915-9cf1-6a231b304020",
   "metadata": {},
   "outputs": [
    {
     "data": {
      "text/html": [
       "<div>\n",
       "<style scoped>\n",
       "    .dataframe tbody tr th:only-of-type {\n",
       "        vertical-align: middle;\n",
       "    }\n",
       "\n",
       "    .dataframe tbody tr th {\n",
       "        vertical-align: top;\n",
       "    }\n",
       "\n",
       "    .dataframe thead th {\n",
       "        text-align: right;\n",
       "    }\n",
       "</style>\n",
       "<table border=\"1\" class=\"dataframe\">\n",
       "  <thead>\n",
       "    <tr style=\"text-align: right;\">\n",
       "      <th>resultado</th>\n",
       "      <th>0</th>\n",
       "      <th>1</th>\n",
       "      <th>2</th>\n",
       "    </tr>\n",
       "    <tr>\n",
       "      <th>cuartil.1</th>\n",
       "      <th></th>\n",
       "      <th></th>\n",
       "      <th></th>\n",
       "    </tr>\n",
       "  </thead>\n",
       "  <tbody>\n",
       "    <tr>\n",
       "      <th>1</th>\n",
       "      <td>34</td>\n",
       "      <td>26</td>\n",
       "      <td>78</td>\n",
       "    </tr>\n",
       "    <tr>\n",
       "      <th>2</th>\n",
       "      <td>46</td>\n",
       "      <td>80</td>\n",
       "      <td>48</td>\n",
       "    </tr>\n",
       "    <tr>\n",
       "      <th>3</th>\n",
       "      <td>85</td>\n",
       "      <td>106</td>\n",
       "      <td>62</td>\n",
       "    </tr>\n",
       "    <tr>\n",
       "      <th>4</th>\n",
       "      <td>53</td>\n",
       "      <td>129</td>\n",
       "      <td>35</td>\n",
       "    </tr>\n",
       "  </tbody>\n",
       "</table>\n",
       "</div>"
      ],
      "text/plain": [
       "resultado   0    1   2\n",
       "cuartil.1             \n",
       "1          34   26  78\n",
       "2          46   80  48\n",
       "3          85  106  62\n",
       "4          53  129  35"
      ]
     },
     "execution_count": 56,
     "metadata": {},
     "output_type": "execute_result"
    }
   ],
   "source": [
    "chisq_cuartil_1 = pd.crosstab(df['cuartil.1'], df['resultado'])\n",
    "chisq_cuartil_1"
   ]
  },
  {
   "cell_type": "code",
   "execution_count": 57,
   "id": "d364a6e3-efff-48c7-9b83-a2d55d97a8fb",
   "metadata": {},
   "outputs": [
    {
     "data": {
      "text/plain": [
       "(87.94830063626274,\n",
       " 8.079412259415815e-17,\n",
       " 6,\n",
       " array([[ 38.47058824,  60.17647059,  39.35294118],\n",
       "        [ 48.50639386,  75.87468031,  49.61892583],\n",
       "        [ 70.52941176, 110.32352941,  72.14705882],\n",
       "        [ 60.49360614,  94.62531969,  61.88107417]]))"
      ]
     },
     "execution_count": 57,
     "metadata": {},
     "output_type": "execute_result"
    }
   ],
   "source": [
    "scipy.stats.contingency.chi2_contingency(chisq_cuartil_1)"
   ]
  },
  {
   "cell_type": "markdown",
   "id": "13ba5c9e-ed0b-4550-8f8b-0c2c4aa8c572",
   "metadata": {},
   "source": [
    "---"
   ]
  },
  {
   "cell_type": "markdown",
   "id": "3d70bbf7-1ec9-4f5b-8392-ff6be56d2756",
   "metadata": {},
   "source": [
    "# Racha"
   ]
  },
  {
   "cell_type": "markdown",
   "id": "8908bd3f-c756-42e6-a174-17660e4b1da3",
   "metadata": {},
   "source": [
    "## Tres últimos partidos\n",
    "---"
   ]
  },
  {
   "cell_type": "code",
   "execution_count": 58,
   "id": "e8d35cf9-bc9c-4d85-b363-4c93f2a071f3",
   "metadata": {},
   "outputs": [
    {
     "data": {
      "text/html": [
       "<div>\n",
       "<style scoped>\n",
       "    .dataframe tbody tr th:only-of-type {\n",
       "        vertical-align: middle;\n",
       "    }\n",
       "\n",
       "    .dataframe tbody tr th {\n",
       "        vertical-align: top;\n",
       "    }\n",
       "\n",
       "    .dataframe thead th {\n",
       "        text-align: right;\n",
       "    }\n",
       "</style>\n",
       "<table border=\"1\" class=\"dataframe\">\n",
       "  <thead>\n",
       "    <tr style=\"text-align: right;\">\n",
       "      <th>resultado</th>\n",
       "      <th>0</th>\n",
       "      <th>1</th>\n",
       "      <th>2</th>\n",
       "    </tr>\n",
       "    <tr>\n",
       "      <th>PUNTOS</th>\n",
       "      <th></th>\n",
       "      <th></th>\n",
       "      <th></th>\n",
       "    </tr>\n",
       "  </thead>\n",
       "  <tbody>\n",
       "    <tr>\n",
       "      <th>0</th>\n",
       "      <td>18</td>\n",
       "      <td>15</td>\n",
       "      <td>13</td>\n",
       "    </tr>\n",
       "    <tr>\n",
       "      <th>1</th>\n",
       "      <td>29</td>\n",
       "      <td>36</td>\n",
       "      <td>31</td>\n",
       "    </tr>\n",
       "    <tr>\n",
       "      <th>2</th>\n",
       "      <td>17</td>\n",
       "      <td>21</td>\n",
       "      <td>29</td>\n",
       "    </tr>\n",
       "    <tr>\n",
       "      <th>3</th>\n",
       "      <td>39</td>\n",
       "      <td>58</td>\n",
       "      <td>33</td>\n",
       "    </tr>\n",
       "    <tr>\n",
       "      <th>4</th>\n",
       "      <td>42</td>\n",
       "      <td>81</td>\n",
       "      <td>51</td>\n",
       "    </tr>\n",
       "    <tr>\n",
       "      <th>5</th>\n",
       "      <td>16</td>\n",
       "      <td>22</td>\n",
       "      <td>16</td>\n",
       "    </tr>\n",
       "    <tr>\n",
       "      <th>6</th>\n",
       "      <td>26</td>\n",
       "      <td>44</td>\n",
       "      <td>23</td>\n",
       "    </tr>\n",
       "    <tr>\n",
       "      <th>7</th>\n",
       "      <td>18</td>\n",
       "      <td>30</td>\n",
       "      <td>18</td>\n",
       "    </tr>\n",
       "    <tr>\n",
       "      <th>9</th>\n",
       "      <td>13</td>\n",
       "      <td>34</td>\n",
       "      <td>9</td>\n",
       "    </tr>\n",
       "  </tbody>\n",
       "</table>\n",
       "</div>"
      ],
      "text/plain": [
       "resultado   0   1   2\n",
       "PUNTOS               \n",
       "0          18  15  13\n",
       "1          29  36  31\n",
       "2          17  21  29\n",
       "3          39  58  33\n",
       "4          42  81  51\n",
       "5          16  22  16\n",
       "6          26  44  23\n",
       "7          18  30  18\n",
       "9          13  34   9"
      ]
     },
     "execution_count": 58,
     "metadata": {},
     "output_type": "execute_result"
    }
   ],
   "source": [
    "chisq_PUNTOS_L = pd.crosstab(df['PUNTOS'], df['resultado'])\n",
    "chisq_PUNTOS_L"
   ]
  },
  {
   "cell_type": "code",
   "execution_count": 59,
   "id": "41a24007-0312-4a84-9e48-6f1a78dd980f",
   "metadata": {},
   "outputs": [
    {
     "data": {
      "text/plain": [
       "(22.66219184488437,\n",
       " 0.12306762743197185,\n",
       " 16,\n",
       " array([[12.82352941, 20.05882353, 13.11764706],\n",
       "        [26.76214834, 41.86189258, 27.37595908],\n",
       "        [18.67774936, 29.21611253, 19.10613811],\n",
       "        [36.24040921, 56.68797954, 37.07161125],\n",
       "        [48.50639386, 75.87468031, 49.61892583],\n",
       "        [15.05370844, 23.54731458, 15.39897698],\n",
       "        [25.9258312 , 40.55370844, 26.52046036],\n",
       "        [18.39897698, 28.78005115, 18.82097187],\n",
       "        [15.6112532 , 24.41943734, 15.96930946]]))"
      ]
     },
     "execution_count": 59,
     "metadata": {},
     "output_type": "execute_result"
    }
   ],
   "source": [
    "scipy.stats.contingency.chi2_contingency(chisq_PUNTOS_L)"
   ]
  },
  {
   "cell_type": "markdown",
   "id": "e596026c-cb4d-48b8-bdcd-6971b5ec2e2c",
   "metadata": {},
   "source": [
    "---"
   ]
  },
  {
   "cell_type": "code",
   "execution_count": 60,
   "id": "30524acb-779c-4a25-828b-f9df25f32dab",
   "metadata": {},
   "outputs": [
    {
     "data": {
      "text/html": [
       "<div>\n",
       "<style scoped>\n",
       "    .dataframe tbody tr th:only-of-type {\n",
       "        vertical-align: middle;\n",
       "    }\n",
       "\n",
       "    .dataframe tbody tr th {\n",
       "        vertical-align: top;\n",
       "    }\n",
       "\n",
       "    .dataframe thead th {\n",
       "        text-align: right;\n",
       "    }\n",
       "</style>\n",
       "<table border=\"1\" class=\"dataframe\">\n",
       "  <thead>\n",
       "    <tr style=\"text-align: right;\">\n",
       "      <th>resultado</th>\n",
       "      <th>0</th>\n",
       "      <th>1</th>\n",
       "      <th>2</th>\n",
       "    </tr>\n",
       "    <tr>\n",
       "      <th>Puntos Local</th>\n",
       "      <th></th>\n",
       "      <th></th>\n",
       "      <th></th>\n",
       "    </tr>\n",
       "  </thead>\n",
       "  <tbody>\n",
       "    <tr>\n",
       "      <th>menos de 3</th>\n",
       "      <td>64</td>\n",
       "      <td>72</td>\n",
       "      <td>73</td>\n",
       "    </tr>\n",
       "    <tr>\n",
       "      <th>de 3 a 5</th>\n",
       "      <td>97</td>\n",
       "      <td>161</td>\n",
       "      <td>100</td>\n",
       "    </tr>\n",
       "    <tr>\n",
       "      <th>6 o más</th>\n",
       "      <td>57</td>\n",
       "      <td>108</td>\n",
       "      <td>50</td>\n",
       "    </tr>\n",
       "  </tbody>\n",
       "</table>\n",
       "</div>"
      ],
      "text/plain": [
       "resultado      0    1    2\n",
       "Puntos Local              \n",
       "menos de 3    64   72   73\n",
       "de 3 a 5      97  161  100\n",
       "6 o más       57  108   50"
      ]
     },
     "execution_count": 60,
     "metadata": {},
     "output_type": "execute_result"
    }
   ],
   "source": [
    "chisq_PUNTOS_Lo = pd.crosstab(df['Puntos Local'], df['resultado'])\n",
    "chisq_PUNTOS_Lo"
   ]
  },
  {
   "cell_type": "code",
   "execution_count": 61,
   "id": "29fb51c8-ac40-4624-a4d9-eabf15f09f44",
   "metadata": {},
   "outputs": [
    {
     "data": {
      "text/plain": [
       "(12.265973639597007,\n",
       " 0.015479220548034052,\n",
       " 4,\n",
       " array([[ 58.26342711,  91.13682864,  59.59974425],\n",
       "        [ 99.80051151, 156.10997442, 102.08951407],\n",
       "        [ 59.93606138,  93.75319693,  61.31074169]]))"
      ]
     },
     "execution_count": 61,
     "metadata": {},
     "output_type": "execute_result"
    }
   ],
   "source": [
    "scipy.stats.contingency.chi2_contingency(chisq_PUNTOS_Lo)"
   ]
  },
  {
   "cell_type": "markdown",
   "id": "0d0cb61d-70e3-4d92-a64f-985a69aca668",
   "metadata": {},
   "source": [
    "---"
   ]
  },
  {
   "cell_type": "code",
   "execution_count": 62,
   "id": "b4a0fb9f-e7fc-4999-95f4-d02357559cd3",
   "metadata": {},
   "outputs": [
    {
     "data": {
      "text/html": [
       "<div>\n",
       "<style scoped>\n",
       "    .dataframe tbody tr th:only-of-type {\n",
       "        vertical-align: middle;\n",
       "    }\n",
       "\n",
       "    .dataframe tbody tr th {\n",
       "        vertical-align: top;\n",
       "    }\n",
       "\n",
       "    .dataframe thead th {\n",
       "        text-align: right;\n",
       "    }\n",
       "</style>\n",
       "<table border=\"1\" class=\"dataframe\">\n",
       "  <thead>\n",
       "    <tr style=\"text-align: right;\">\n",
       "      <th>resultado</th>\n",
       "      <th>0</th>\n",
       "      <th>1</th>\n",
       "      <th>2</th>\n",
       "    </tr>\n",
       "    <tr>\n",
       "      <th>PUNTOS.1</th>\n",
       "      <th></th>\n",
       "      <th></th>\n",
       "      <th></th>\n",
       "    </tr>\n",
       "  </thead>\n",
       "  <tbody>\n",
       "    <tr>\n",
       "      <th>0</th>\n",
       "      <td>6</td>\n",
       "      <td>22</td>\n",
       "      <td>7</td>\n",
       "    </tr>\n",
       "    <tr>\n",
       "      <th>1</th>\n",
       "      <td>31</td>\n",
       "      <td>45</td>\n",
       "      <td>20</td>\n",
       "    </tr>\n",
       "    <tr>\n",
       "      <th>2</th>\n",
       "      <td>23</td>\n",
       "      <td>35</td>\n",
       "      <td>13</td>\n",
       "    </tr>\n",
       "    <tr>\n",
       "      <th>3</th>\n",
       "      <td>41</td>\n",
       "      <td>51</td>\n",
       "      <td>28</td>\n",
       "    </tr>\n",
       "    <tr>\n",
       "      <th>4</th>\n",
       "      <td>39</td>\n",
       "      <td>63</td>\n",
       "      <td>42</td>\n",
       "    </tr>\n",
       "    <tr>\n",
       "      <th>5</th>\n",
       "      <td>15</td>\n",
       "      <td>25</td>\n",
       "      <td>17</td>\n",
       "    </tr>\n",
       "    <tr>\n",
       "      <th>6</th>\n",
       "      <td>28</td>\n",
       "      <td>46</td>\n",
       "      <td>35</td>\n",
       "    </tr>\n",
       "    <tr>\n",
       "      <th>7</th>\n",
       "      <td>29</td>\n",
       "      <td>43</td>\n",
       "      <td>37</td>\n",
       "    </tr>\n",
       "    <tr>\n",
       "      <th>9</th>\n",
       "      <td>6</td>\n",
       "      <td>11</td>\n",
       "      <td>24</td>\n",
       "    </tr>\n",
       "  </tbody>\n",
       "</table>\n",
       "</div>"
      ],
      "text/plain": [
       "resultado   0   1   2\n",
       "PUNTOS.1             \n",
       "0           6  22   7\n",
       "1          31  45  20\n",
       "2          23  35  13\n",
       "3          41  51  28\n",
       "4          39  63  42\n",
       "5          15  25  17\n",
       "6          28  46  35\n",
       "7          29  43  37\n",
       "9           6  11  24"
      ]
     },
     "execution_count": 62,
     "metadata": {},
     "output_type": "execute_result"
    }
   ],
   "source": [
    "chisq_PUNTOS_V = pd.crosstab(df['PUNTOS.1'], df['resultado'])\n",
    "chisq_PUNTOS_V"
   ]
  },
  {
   "cell_type": "code",
   "execution_count": 63,
   "id": "0ffa4956-131b-420f-8c24-0359c4fe05d0",
   "metadata": {},
   "outputs": [
    {
     "data": {
      "text/plain": [
       "(35.38667219249776,\n",
       " 0.0035172195393826586,\n",
       " 16,\n",
       " array([[ 9.75703325, 15.26214834,  9.98081841],\n",
       "        [26.76214834, 41.86189258, 27.37595908],\n",
       "        [19.79283887, 30.96035806, 20.24680307],\n",
       "        [33.45268542, 52.32736573, 34.21994885],\n",
       "        [40.14322251, 62.79283887, 41.06393862],\n",
       "        [15.89002558, 24.85549872, 16.2544757 ],\n",
       "        [30.38618926, 47.53069054, 31.0831202 ],\n",
       "        [30.38618926, 47.53069054, 31.0831202 ],\n",
       "        [11.42966752, 17.87851662, 11.69181586]]))"
      ]
     },
     "execution_count": 63,
     "metadata": {},
     "output_type": "execute_result"
    }
   ],
   "source": [
    "scipy.stats.contingency.chi2_contingency(chisq_PUNTOS_V)\n",
    "#p-value= 0.0002\n",
    "#critical value = 29.7"
   ]
  },
  {
   "cell_type": "markdown",
   "id": "7c60bb44-e017-4b9b-a4b1-f583582e0fc2",
   "metadata": {},
   "source": [
    "---"
   ]
  },
  {
   "cell_type": "code",
   "execution_count": 64,
   "id": "a320e320-4c25-42ac-911c-1ff8290a095c",
   "metadata": {},
   "outputs": [
    {
     "data": {
      "text/html": [
       "<div>\n",
       "<style scoped>\n",
       "    .dataframe tbody tr th:only-of-type {\n",
       "        vertical-align: middle;\n",
       "    }\n",
       "\n",
       "    .dataframe tbody tr th {\n",
       "        vertical-align: top;\n",
       "    }\n",
       "\n",
       "    .dataframe thead th {\n",
       "        text-align: right;\n",
       "    }\n",
       "</style>\n",
       "<table border=\"1\" class=\"dataframe\">\n",
       "  <thead>\n",
       "    <tr style=\"text-align: right;\">\n",
       "      <th>resultado</th>\n",
       "      <th>0</th>\n",
       "      <th>1</th>\n",
       "      <th>2</th>\n",
       "    </tr>\n",
       "    <tr>\n",
       "      <th>Puntos Visitante</th>\n",
       "      <th></th>\n",
       "      <th></th>\n",
       "      <th></th>\n",
       "    </tr>\n",
       "  </thead>\n",
       "  <tbody>\n",
       "    <tr>\n",
       "      <th>menos de 3</th>\n",
       "      <td>60</td>\n",
       "      <td>102</td>\n",
       "      <td>40</td>\n",
       "    </tr>\n",
       "    <tr>\n",
       "      <th>de 3 a 5</th>\n",
       "      <td>95</td>\n",
       "      <td>139</td>\n",
       "      <td>87</td>\n",
       "    </tr>\n",
       "    <tr>\n",
       "      <th>6 o más</th>\n",
       "      <td>63</td>\n",
       "      <td>100</td>\n",
       "      <td>96</td>\n",
       "    </tr>\n",
       "  </tbody>\n",
       "</table>\n",
       "</div>"
      ],
      "text/plain": [
       "resultado          0    1   2\n",
       "Puntos Visitante             \n",
       "menos de 3        60  102  40\n",
       "de 3 a 5          95  139  87\n",
       "6 o más           63  100  96"
      ]
     },
     "execution_count": 64,
     "metadata": {},
     "output_type": "execute_result"
    }
   ],
   "source": [
    "chisq_PUNTOS_Vi = pd.crosstab(df['Puntos Visitante'], df['resultado'])\n",
    "chisq_PUNTOS_Vi"
   ]
  },
  {
   "cell_type": "code",
   "execution_count": 65,
   "id": "c50845d3-c164-46fb-adfb-0550a3ae49f9",
   "metadata": {},
   "outputs": [
    {
     "data": {
      "text/plain": [
       "(17.684435221810404,\n",
       " 0.0014222195585764852,\n",
       " 4,\n",
       " array([[ 56.31202046,  88.08439898,  57.60358056],\n",
       "        [ 89.4859335 , 139.97570332,  91.53836317],\n",
       "        [ 72.20204604, 112.9398977 ,  73.85805627]]))"
      ]
     },
     "execution_count": 65,
     "metadata": {},
     "output_type": "execute_result"
    }
   ],
   "source": [
    "scipy.stats.contingency.chi2_contingency(chisq_PUNTOS_Vi)"
   ]
  },
  {
   "cell_type": "markdown",
   "id": "fd336914-2036-4a6e-a037-87c4ade0c25c",
   "metadata": {},
   "source": [
    "---"
   ]
  },
  {
   "cell_type": "markdown",
   "id": "d5668804-0f1e-485a-a649-c6b06c72c7b0",
   "metadata": {},
   "source": [
    "## Último partido\n",
    "---"
   ]
  },
  {
   "cell_type": "code",
   "execution_count": 66,
   "id": "b2fc7827-f108-427c-bbdb-a3d409cb7c0e",
   "metadata": {},
   "outputs": [
    {
     "data": {
      "text/html": [
       "<div>\n",
       "<style scoped>\n",
       "    .dataframe tbody tr th:only-of-type {\n",
       "        vertical-align: middle;\n",
       "    }\n",
       "\n",
       "    .dataframe tbody tr th {\n",
       "        vertical-align: top;\n",
       "    }\n",
       "\n",
       "    .dataframe thead th {\n",
       "        text-align: right;\n",
       "    }\n",
       "</style>\n",
       "<table border=\"1\" class=\"dataframe\">\n",
       "  <thead>\n",
       "    <tr style=\"text-align: right;\">\n",
       "      <th>resultado</th>\n",
       "      <th>0</th>\n",
       "      <th>1</th>\n",
       "      <th>2</th>\n",
       "    </tr>\n",
       "    <tr>\n",
       "      <th>último partido como local</th>\n",
       "      <th></th>\n",
       "      <th></th>\n",
       "      <th></th>\n",
       "    </tr>\n",
       "  </thead>\n",
       "  <tbody>\n",
       "    <tr>\n",
       "      <th>0</th>\n",
       "      <td>72</td>\n",
       "      <td>95</td>\n",
       "      <td>60</td>\n",
       "    </tr>\n",
       "    <tr>\n",
       "      <th>1</th>\n",
       "      <td>64</td>\n",
       "      <td>79</td>\n",
       "      <td>78</td>\n",
       "    </tr>\n",
       "    <tr>\n",
       "      <th>3</th>\n",
       "      <td>82</td>\n",
       "      <td>167</td>\n",
       "      <td>85</td>\n",
       "    </tr>\n",
       "  </tbody>\n",
       "</table>\n",
       "</div>"
      ],
      "text/plain": [
       "resultado                   0    1   2\n",
       "último partido como local             \n",
       "0                          72   95  60\n",
       "1                          64   79  78\n",
       "3                          82  167  85"
      ]
     },
     "execution_count": 66,
     "metadata": {},
     "output_type": "execute_result"
    }
   ],
   "source": [
    "chisq_UPL = pd.crosstab(df['último partido como local'], df['resultado'])\n",
    "chisq_UPL"
   ]
  },
  {
   "cell_type": "code",
   "execution_count": 67,
   "id": "66bc0e6f-7099-429a-8886-74263734f535",
   "metadata": {},
   "outputs": [
    {
     "data": {
      "text/plain": [
       "(14.05016322135952,\n",
       " 0.007136664474913709,\n",
       " 4,\n",
       " array([[ 63.28132992,  98.9859335 ,  64.73273657],\n",
       "        [ 61.60869565,  96.36956522,  63.02173913],\n",
       "        [ 93.10997442, 145.64450128,  95.2455243 ]]))"
      ]
     },
     "execution_count": 67,
     "metadata": {},
     "output_type": "execute_result"
    }
   ],
   "source": [
    "scipy.stats.contingency.chi2_contingency(chisq_UPL)\n",
    "#p-value= 0.03\n",
    "#critical value = 7.0"
   ]
  },
  {
   "cell_type": "markdown",
   "id": "7e26dff2-1769-4f2b-a14d-5ecb2479187c",
   "metadata": {},
   "source": [
    "---"
   ]
  },
  {
   "cell_type": "code",
   "execution_count": 68,
   "id": "1ffa2add-ef62-454b-bb2a-f7ef5432bbbe",
   "metadata": {},
   "outputs": [
    {
     "data": {
      "text/html": [
       "<div>\n",
       "<style scoped>\n",
       "    .dataframe tbody tr th:only-of-type {\n",
       "        vertical-align: middle;\n",
       "    }\n",
       "\n",
       "    .dataframe tbody tr th {\n",
       "        vertical-align: top;\n",
       "    }\n",
       "\n",
       "    .dataframe thead th {\n",
       "        text-align: right;\n",
       "    }\n",
       "</style>\n",
       "<table border=\"1\" class=\"dataframe\">\n",
       "  <thead>\n",
       "    <tr style=\"text-align: right;\">\n",
       "      <th>resultado</th>\n",
       "      <th>0</th>\n",
       "      <th>1</th>\n",
       "      <th>2</th>\n",
       "    </tr>\n",
       "    <tr>\n",
       "      <th>último partido</th>\n",
       "      <th></th>\n",
       "      <th></th>\n",
       "      <th></th>\n",
       "    </tr>\n",
       "  </thead>\n",
       "  <tbody>\n",
       "    <tr>\n",
       "      <th>0</th>\n",
       "      <td>82</td>\n",
       "      <td>137</td>\n",
       "      <td>101</td>\n",
       "    </tr>\n",
       "    <tr>\n",
       "      <th>1</th>\n",
       "      <td>57</td>\n",
       "      <td>88</td>\n",
       "      <td>62</td>\n",
       "    </tr>\n",
       "    <tr>\n",
       "      <th>3</th>\n",
       "      <td>79</td>\n",
       "      <td>116</td>\n",
       "      <td>60</td>\n",
       "    </tr>\n",
       "  </tbody>\n",
       "</table>\n",
       "</div>"
      ],
      "text/plain": [
       "resultado        0    1    2\n",
       "último partido              \n",
       "0               82  137  101\n",
       "1               57   88   62\n",
       "3               79  116   60"
      ]
     },
     "execution_count": 68,
     "metadata": {},
     "output_type": "execute_result"
    }
   ],
   "source": [
    "chisq_UP = pd.crosstab(df['último partido'], df['resultado'])\n",
    "chisq_UP"
   ]
  },
  {
   "cell_type": "code",
   "execution_count": 69,
   "id": "c0cbe208-8b79-45a9-801a-3919541282f1",
   "metadata": {},
   "outputs": [
    {
     "data": {
      "text/plain": [
       "(5.19704160874133,\n",
       " 0.2676706610011784,\n",
       " 4,\n",
       " array([[ 89.20716113, 139.53964194,  91.25319693],\n",
       "        [ 57.70588235,  90.26470588,  59.02941176],\n",
       "        [ 71.08695652, 111.19565217,  72.7173913 ]]))"
      ]
     },
     "execution_count": 69,
     "metadata": {},
     "output_type": "execute_result"
    }
   ],
   "source": [
    "scipy.stats.contingency.chi2_contingency(chisq_UP)"
   ]
  },
  {
   "cell_type": "markdown",
   "id": "32dab8c2-20ca-4def-bba6-140741ac1033",
   "metadata": {},
   "source": [
    "---"
   ]
  },
  {
   "cell_type": "code",
   "execution_count": 70,
   "id": "dfe47a25-cd9a-4fb3-9b9c-91ba84fedfe1",
   "metadata": {},
   "outputs": [
    {
     "data": {
      "text/html": [
       "<div>\n",
       "<style scoped>\n",
       "    .dataframe tbody tr th:only-of-type {\n",
       "        vertical-align: middle;\n",
       "    }\n",
       "\n",
       "    .dataframe tbody tr th {\n",
       "        vertical-align: top;\n",
       "    }\n",
       "\n",
       "    .dataframe thead th {\n",
       "        text-align: right;\n",
       "    }\n",
       "</style>\n",
       "<table border=\"1\" class=\"dataframe\">\n",
       "  <thead>\n",
       "    <tr style=\"text-align: right;\">\n",
       "      <th>resultado</th>\n",
       "      <th>0</th>\n",
       "      <th>1</th>\n",
       "      <th>2</th>\n",
       "    </tr>\n",
       "    <tr>\n",
       "      <th>último partido.1</th>\n",
       "      <th></th>\n",
       "      <th></th>\n",
       "      <th></th>\n",
       "    </tr>\n",
       "  </thead>\n",
       "  <tbody>\n",
       "    <tr>\n",
       "      <th>0</th>\n",
       "      <td>72</td>\n",
       "      <td>109</td>\n",
       "      <td>66</td>\n",
       "    </tr>\n",
       "    <tr>\n",
       "      <th>1</th>\n",
       "      <td>70</td>\n",
       "      <td>93</td>\n",
       "      <td>64</td>\n",
       "    </tr>\n",
       "    <tr>\n",
       "      <th>3</th>\n",
       "      <td>76</td>\n",
       "      <td>139</td>\n",
       "      <td>93</td>\n",
       "    </tr>\n",
       "  </tbody>\n",
       "</table>\n",
       "</div>"
      ],
      "text/plain": [
       "resultado          0    1   2\n",
       "último partido.1             \n",
       "0                 72  109  66\n",
       "1                 70   93  64\n",
       "3                 76  139  93"
      ]
     },
     "execution_count": 70,
     "metadata": {},
     "output_type": "execute_result"
    }
   ],
   "source": [
    "chisq_UPV = pd.crosstab(df['último partido.1'], df['resultado'])\n",
    "chisq_UPV"
   ]
  },
  {
   "cell_type": "code",
   "execution_count": 71,
   "id": "4de16f55-d12a-4ae0-9398-8a663d94a4b9",
   "metadata": {},
   "outputs": [
    {
     "data": {
      "text/plain": [
       "(3.122879517711342,\n",
       " 0.5374764936654439,\n",
       " 4,\n",
       " array([[ 68.85677749, 107.70716113,  70.43606138],\n",
       "        [ 63.28132992,  98.9859335 ,  64.73273657],\n",
       "        [ 85.86189258, 134.30690537,  87.83120205]]))"
      ]
     },
     "execution_count": 71,
     "metadata": {},
     "output_type": "execute_result"
    }
   ],
   "source": [
    "scipy.stats.contingency.chi2_contingency(chisq_UPV)"
   ]
  },
  {
   "cell_type": "markdown",
   "id": "379e9afc-52ce-49f6-9cc1-2057824b1066",
   "metadata": {},
   "source": [
    "---"
   ]
  },
  {
   "cell_type": "markdown",
   "id": "95ff5212-51e5-4559-a9ef-47995c6ed4a9",
   "metadata": {},
   "source": [
    "# Goles"
   ]
  },
  {
   "cell_type": "markdown",
   "id": "1191db23-2793-4105-b650-5d191c47a22a",
   "metadata": {},
   "source": [
    "## Local\n",
    "---"
   ]
  },
  {
   "cell_type": "code",
   "execution_count": 72,
   "id": "de448c11-e2ba-49e5-a9c0-5cebcb5e6186",
   "metadata": {},
   "outputs": [
    {
     "data": {
      "text/html": [
       "<div>\n",
       "<style scoped>\n",
       "    .dataframe tbody tr th:only-of-type {\n",
       "        vertical-align: middle;\n",
       "    }\n",
       "\n",
       "    .dataframe tbody tr th {\n",
       "        vertical-align: top;\n",
       "    }\n",
       "\n",
       "    .dataframe thead th {\n",
       "        text-align: right;\n",
       "    }\n",
       "</style>\n",
       "<table border=\"1\" class=\"dataframe\">\n",
       "  <thead>\n",
       "    <tr style=\"text-align: right;\">\n",
       "      <th>resultado</th>\n",
       "      <th>0</th>\n",
       "      <th>1</th>\n",
       "      <th>2</th>\n",
       "    </tr>\n",
       "    <tr>\n",
       "      <th>GF_local</th>\n",
       "      <th></th>\n",
       "      <th></th>\n",
       "      <th></th>\n",
       "    </tr>\n",
       "  </thead>\n",
       "  <tbody>\n",
       "    <tr>\n",
       "      <th>0-1.33</th>\n",
       "      <td>139</td>\n",
       "      <td>187</td>\n",
       "      <td>164</td>\n",
       "    </tr>\n",
       "    <tr>\n",
       "      <th>&gt;1.33</th>\n",
       "      <td>79</td>\n",
       "      <td>154</td>\n",
       "      <td>59</td>\n",
       "    </tr>\n",
       "  </tbody>\n",
       "</table>\n",
       "</div>"
      ],
      "text/plain": [
       "resultado    0    1    2\n",
       "GF_local                \n",
       "0-1.33     139  187  164\n",
       ">1.33       79  154   59"
      ]
     },
     "execution_count": 72,
     "metadata": {},
     "output_type": "execute_result"
    }
   ],
   "source": [
    "chisq_gfl = pd.crosstab(df['GF_local'], df['resultado'])\n",
    "chisq_gfl"
   ]
  },
  {
   "cell_type": "code",
   "execution_count": 73,
   "id": "a3c5bf29-0bda-4dc0-85d9-98e4bfa4a051",
   "metadata": {},
   "outputs": [
    {
     "data": {
      "text/plain": [
       "(20.316225958467484,\n",
       " 3.876034076809873e-05,\n",
       " 2,\n",
       " array([[136.59846547, 213.67007673, 139.7314578 ],\n",
       "        [ 81.40153453, 127.32992327,  83.2685422 ]]))"
      ]
     },
     "execution_count": 73,
     "metadata": {},
     "output_type": "execute_result"
    }
   ],
   "source": [
    "scipy.stats.contingency.chi2_contingency(chisq_gfl)"
   ]
  },
  {
   "cell_type": "markdown",
   "id": "38baf504-6c68-46d9-a475-b5a5ae1bab76",
   "metadata": {},
   "source": [
    "---"
   ]
  },
  {
   "cell_type": "code",
   "execution_count": 74,
   "id": "4ecc5891-b500-44f7-9e06-724aa9ebc170",
   "metadata": {},
   "outputs": [
    {
     "data": {
      "text/html": [
       "<div>\n",
       "<style scoped>\n",
       "    .dataframe tbody tr th:only-of-type {\n",
       "        vertical-align: middle;\n",
       "    }\n",
       "\n",
       "    .dataframe tbody tr th {\n",
       "        vertical-align: top;\n",
       "    }\n",
       "\n",
       "    .dataframe thead th {\n",
       "        text-align: right;\n",
       "    }\n",
       "</style>\n",
       "<table border=\"1\" class=\"dataframe\">\n",
       "  <thead>\n",
       "    <tr style=\"text-align: right;\">\n",
       "      <th>resultado</th>\n",
       "      <th>0</th>\n",
       "      <th>1</th>\n",
       "      <th>2</th>\n",
       "    </tr>\n",
       "    <tr>\n",
       "      <th>GC_local</th>\n",
       "      <th></th>\n",
       "      <th></th>\n",
       "      <th></th>\n",
       "    </tr>\n",
       "  </thead>\n",
       "  <tbody>\n",
       "    <tr>\n",
       "      <th>(-0.001, 1.309]</th>\n",
       "      <td>135</td>\n",
       "      <td>258</td>\n",
       "      <td>154</td>\n",
       "    </tr>\n",
       "    <tr>\n",
       "      <th>(1.309, 4.0]</th>\n",
       "      <td>83</td>\n",
       "      <td>83</td>\n",
       "      <td>69</td>\n",
       "    </tr>\n",
       "  </tbody>\n",
       "</table>\n",
       "</div>"
      ],
      "text/plain": [
       "resultado          0    1    2\n",
       "GC_local                      \n",
       "(-0.001, 1.309]  135  258  154\n",
       "(1.309, 4.0]      83   83   69"
      ]
     },
     "execution_count": 74,
     "metadata": {},
     "output_type": "execute_result"
    }
   ],
   "source": [
    "chisq_gcl = pd.crosstab(df['GC_local'], df['resultado'])\n",
    "chisq_gcl"
   ]
  },
  {
   "cell_type": "code",
   "execution_count": 75,
   "id": "bf09a35a-57e9-44a5-9c5a-b332b93df6b2",
   "metadata": {},
   "outputs": [
    {
     "data": {
      "text/plain": [
       "(12.049392653146626,\n",
       " 0.002418285825014783,\n",
       " 2,\n",
       " array([[152.48849105, 238.52557545, 155.9859335 ],\n",
       "        [ 65.51150895, 102.47442455,  67.0140665 ]]))"
      ]
     },
     "execution_count": 75,
     "metadata": {},
     "output_type": "execute_result"
    }
   ],
   "source": [
    "scipy.stats.contingency.chi2_contingency(chisq_gcl)"
   ]
  },
  {
   "cell_type": "markdown",
   "id": "d7665631-9252-4282-a66a-712c997ed35d",
   "metadata": {},
   "source": [
    "---"
   ]
  },
  {
   "cell_type": "markdown",
   "id": "04723a1b-95dc-4ede-b61d-a394270aadc6",
   "metadata": {},
   "source": [
    "## Visitante"
   ]
  },
  {
   "cell_type": "markdown",
   "id": "4e30074f-cf5d-4114-9442-1c58e4744b6a",
   "metadata": {},
   "source": [
    "---"
   ]
  },
  {
   "cell_type": "code",
   "execution_count": 76,
   "id": "17276fc5-a8a5-4d75-a734-afe79efbfd31",
   "metadata": {},
   "outputs": [
    {
     "data": {
      "text/html": [
       "<div>\n",
       "<style scoped>\n",
       "    .dataframe tbody tr th:only-of-type {\n",
       "        vertical-align: middle;\n",
       "    }\n",
       "\n",
       "    .dataframe tbody tr th {\n",
       "        vertical-align: top;\n",
       "    }\n",
       "\n",
       "    .dataframe thead th {\n",
       "        text-align: right;\n",
       "    }\n",
       "</style>\n",
       "<table border=\"1\" class=\"dataframe\">\n",
       "  <thead>\n",
       "    <tr style=\"text-align: right;\">\n",
       "      <th>resultado</th>\n",
       "      <th>0</th>\n",
       "      <th>1</th>\n",
       "      <th>2</th>\n",
       "    </tr>\n",
       "    <tr>\n",
       "      <th>GF_visitante</th>\n",
       "      <th></th>\n",
       "      <th></th>\n",
       "      <th></th>\n",
       "    </tr>\n",
       "  </thead>\n",
       "  <tbody>\n",
       "    <tr>\n",
       "      <th>0-1.1</th>\n",
       "      <td>133</td>\n",
       "      <td>247</td>\n",
       "      <td>94</td>\n",
       "    </tr>\n",
       "    <tr>\n",
       "      <th>&gt;1.1</th>\n",
       "      <td>85</td>\n",
       "      <td>94</td>\n",
       "      <td>129</td>\n",
       "    </tr>\n",
       "  </tbody>\n",
       "</table>\n",
       "</div>"
      ],
      "text/plain": [
       "resultado       0    1    2\n",
       "GF_visitante               \n",
       "0-1.1         133  247   94\n",
       ">1.1           85   94  129"
      ]
     },
     "execution_count": 76,
     "metadata": {},
     "output_type": "execute_result"
    }
   ],
   "source": [
    "chisq_gfv = pd.crosstab(df['GF_visitante'], df['resultado'])\n",
    "chisq_gfv"
   ]
  },
  {
   "cell_type": "code",
   "execution_count": 77,
   "id": "ce91109d-9e5e-4c3a-b7e8-49046619cfea",
   "metadata": {},
   "outputs": [
    {
     "data": {
      "text/plain": [
       "(51.80679915291836,\n",
       " 5.627253777898079e-12,\n",
       " 2,\n",
       " array([[132.13810742, 206.69309463, 135.16879795],\n",
       "        [ 85.86189258, 134.30690537,  87.83120205]]))"
      ]
     },
     "execution_count": 77,
     "metadata": {},
     "output_type": "execute_result"
    }
   ],
   "source": [
    "scipy.stats.contingency.chi2_contingency(chisq_gfv)"
   ]
  },
  {
   "cell_type": "markdown",
   "id": "5888e91d-a5dc-4e38-9817-f81e63d87f1a",
   "metadata": {},
   "source": [
    "---"
   ]
  },
  {
   "cell_type": "code",
   "execution_count": 78,
   "id": "f4f16b0e-255a-4093-b41e-6526f546b782",
   "metadata": {},
   "outputs": [
    {
     "data": {
      "text/html": [
       "<div>\n",
       "<style scoped>\n",
       "    .dataframe tbody tr th:only-of-type {\n",
       "        vertical-align: middle;\n",
       "    }\n",
       "\n",
       "    .dataframe tbody tr th {\n",
       "        vertical-align: top;\n",
       "    }\n",
       "\n",
       "    .dataframe thead th {\n",
       "        text-align: right;\n",
       "    }\n",
       "</style>\n",
       "<table border=\"1\" class=\"dataframe\">\n",
       "  <thead>\n",
       "    <tr style=\"text-align: right;\">\n",
       "      <th>resultado</th>\n",
       "      <th>0</th>\n",
       "      <th>1</th>\n",
       "      <th>2</th>\n",
       "    </tr>\n",
       "    <tr>\n",
       "      <th>GC_visitante</th>\n",
       "      <th></th>\n",
       "      <th></th>\n",
       "      <th></th>\n",
       "    </tr>\n",
       "  </thead>\n",
       "  <tbody>\n",
       "    <tr>\n",
       "      <th>0-1.1</th>\n",
       "      <td>122</td>\n",
       "      <td>170</td>\n",
       "      <td>140</td>\n",
       "    </tr>\n",
       "    <tr>\n",
       "      <th>&gt;1.4</th>\n",
       "      <td>96</td>\n",
       "      <td>171</td>\n",
       "      <td>83</td>\n",
       "    </tr>\n",
       "  </tbody>\n",
       "</table>\n",
       "</div>"
      ],
      "text/plain": [
       "resultado       0    1    2\n",
       "GC_visitante               \n",
       "0-1.1         122  170  140\n",
       ">1.4           96  171   83"
      ]
     },
     "execution_count": 78,
     "metadata": {},
     "output_type": "execute_result"
    }
   ],
   "source": [
    "chisq_gcv = pd.crosstab(df['GC_visitante'], df['resultado'])\n",
    "chisq_gcv"
   ]
  },
  {
   "cell_type": "code",
   "execution_count": 79,
   "id": "451a6f61-fcbf-4f6c-a296-594215b4c294",
   "metadata": {},
   "outputs": [
    {
     "data": {
      "text/plain": [
       "(9.17578337978834,\n",
       " 0.010174286327730537,\n",
       " 2,\n",
       " array([[120.42966752, 188.37851662, 123.19181586],\n",
       "        [ 97.57033248, 152.62148338,  99.80818414]]))"
      ]
     },
     "execution_count": 79,
     "metadata": {},
     "output_type": "execute_result"
    }
   ],
   "source": [
    "scipy.stats.contingency.chi2_contingency(chisq_gcv)"
   ]
  },
  {
   "cell_type": "markdown",
   "id": "44108000-e9bd-42ba-8d64-95edfa13546e",
   "metadata": {},
   "source": [
    "---"
   ]
  },
  {
   "cell_type": "markdown",
   "id": "04059779-7fe9-4940-a7a7-44b025a0b28b",
   "metadata": {},
   "source": [
    "## Desempeño del equipo"
   ]
  },
  {
   "cell_type": "code",
   "execution_count": 80,
   "id": "1997ac36-38c2-47ac-b473-b3b60ea20da7",
   "metadata": {},
   "outputs": [
    {
     "data": {
      "text/html": [
       "<div>\n",
       "<style scoped>\n",
       "    .dataframe tbody tr th:only-of-type {\n",
       "        vertical-align: middle;\n",
       "    }\n",
       "\n",
       "    .dataframe tbody tr th {\n",
       "        vertical-align: top;\n",
       "    }\n",
       "\n",
       "    .dataframe thead th {\n",
       "        text-align: right;\n",
       "    }\n",
       "</style>\n",
       "<table border=\"1\" class=\"dataframe\">\n",
       "  <thead>\n",
       "    <tr style=\"text-align: right;\">\n",
       "      <th>resultado</th>\n",
       "      <th>0</th>\n",
       "      <th>1</th>\n",
       "      <th>2</th>\n",
       "    </tr>\n",
       "    <tr>\n",
       "      <th>MPSP_l</th>\n",
       "      <th></th>\n",
       "      <th></th>\n",
       "      <th></th>\n",
       "    </tr>\n",
       "  </thead>\n",
       "  <tbody>\n",
       "    <tr>\n",
       "      <th>(0.999, 2.27]</th>\n",
       "      <td>94</td>\n",
       "      <td>109</td>\n",
       "      <td>110</td>\n",
       "    </tr>\n",
       "    <tr>\n",
       "      <th>(2.27, 12.0]</th>\n",
       "      <td>124</td>\n",
       "      <td>232</td>\n",
       "      <td>113</td>\n",
       "    </tr>\n",
       "  </tbody>\n",
       "</table>\n",
       "</div>"
      ],
      "text/plain": [
       "resultado        0    1    2\n",
       "MPSP_l                      \n",
       "(0.999, 2.27]   94  109  110\n",
       "(2.27, 12.0]   124  232  113"
      ]
     },
     "execution_count": 80,
     "metadata": {},
     "output_type": "execute_result"
    }
   ],
   "source": [
    "chisq_mpsp_l = pd.crosstab(df['MPSP_l'], df['resultado'])\n",
    "chisq_mpsp_l"
   ]
  },
  {
   "cell_type": "code",
   "execution_count": 81,
   "id": "d6a3c7ca-d39b-49d7-95ed-3c1992da5079",
   "metadata": {},
   "outputs": [
    {
     "data": {
      "text/plain": [
       "(18.13693467327196,\n",
       " 0.00011524303213243223,\n",
       " 2,\n",
       " array([[ 87.25575448, 136.48721228,  89.25703325],\n",
       "        [130.74424552, 204.51278772, 133.74296675]]))"
      ]
     },
     "execution_count": 81,
     "metadata": {},
     "output_type": "execute_result"
    }
   ],
   "source": [
    "scipy.stats.contingency.chi2_contingency(chisq_mpsp_l)"
   ]
  },
  {
   "cell_type": "markdown",
   "id": "c5465fcc-40ab-49fe-9fe9-e17c294dbf50",
   "metadata": {},
   "source": [
    "---"
   ]
  },
  {
   "cell_type": "code",
   "execution_count": 82,
   "id": "1b01b1b5-db3b-41ae-9f6b-ccb8bb55a021",
   "metadata": {},
   "outputs": [
    {
     "data": {
      "text/html": [
       "<div>\n",
       "<style scoped>\n",
       "    .dataframe tbody tr th:only-of-type {\n",
       "        vertical-align: middle;\n",
       "    }\n",
       "\n",
       "    .dataframe tbody tr th {\n",
       "        vertical-align: top;\n",
       "    }\n",
       "\n",
       "    .dataframe thead th {\n",
       "        text-align: right;\n",
       "    }\n",
       "</style>\n",
       "<table border=\"1\" class=\"dataframe\">\n",
       "  <thead>\n",
       "    <tr style=\"text-align: right;\">\n",
       "      <th>resultado</th>\n",
       "      <th>0</th>\n",
       "      <th>1</th>\n",
       "      <th>2</th>\n",
       "    </tr>\n",
       "    <tr>\n",
       "      <th>MPSG_l</th>\n",
       "      <th></th>\n",
       "      <th></th>\n",
       "      <th></th>\n",
       "    </tr>\n",
       "  </thead>\n",
       "  <tbody>\n",
       "    <tr>\n",
       "      <th>(-0.001, 2.25]</th>\n",
       "      <td>67</td>\n",
       "      <td>190</td>\n",
       "      <td>63</td>\n",
       "    </tr>\n",
       "    <tr>\n",
       "      <th>(2.25, 11.0]</th>\n",
       "      <td>151</td>\n",
       "      <td>151</td>\n",
       "      <td>160</td>\n",
       "    </tr>\n",
       "  </tbody>\n",
       "</table>\n",
       "</div>"
      ],
      "text/plain": [
       "resultado         0    1    2\n",
       "MPSG_l                       \n",
       "(-0.001, 2.25]   67  190   63\n",
       "(2.25, 11.0]    151  151  160"
      ]
     },
     "execution_count": 82,
     "metadata": {},
     "output_type": "execute_result"
    }
   ],
   "source": [
    "chisq_mpsg_l = pd.crosstab(df['MPSG_l'], df['resultado'])\n",
    "chisq_mpsg_l"
   ]
  },
  {
   "cell_type": "code",
   "execution_count": 83,
   "id": "b07cc13e-53a9-4c42-906f-1ade007ccfbf",
   "metadata": {},
   "outputs": [
    {
     "data": {
      "text/plain": [
       "(55.0502329655245,\n",
       " 1.1117158506302836e-12,\n",
       " 2,\n",
       " array([[ 89.20716113, 139.53964194,  91.25319693],\n",
       "        [128.79283887, 201.46035806, 131.74680307]]))"
      ]
     },
     "execution_count": 83,
     "metadata": {},
     "output_type": "execute_result"
    }
   ],
   "source": [
    "scipy.stats.contingency.chi2_contingency(chisq_mpsg_l)"
   ]
  },
  {
   "cell_type": "markdown",
   "id": "53448979-3546-4290-9cfe-efd8a4d3d602",
   "metadata": {},
   "source": [
    "---"
   ]
  },
  {
   "cell_type": "code",
   "execution_count": 84,
   "id": "3304bf50-06ea-43c4-b3b1-46b2411bc330",
   "metadata": {},
   "outputs": [
    {
     "data": {
      "text/html": [
       "<div>\n",
       "<style scoped>\n",
       "    .dataframe tbody tr th:only-of-type {\n",
       "        vertical-align: middle;\n",
       "    }\n",
       "\n",
       "    .dataframe tbody tr th {\n",
       "        vertical-align: top;\n",
       "    }\n",
       "\n",
       "    .dataframe thead th {\n",
       "        text-align: right;\n",
       "    }\n",
       "</style>\n",
       "<table border=\"1\" class=\"dataframe\">\n",
       "  <thead>\n",
       "    <tr style=\"text-align: right;\">\n",
       "      <th>resultado</th>\n",
       "      <th>0</th>\n",
       "      <th>1</th>\n",
       "      <th>2</th>\n",
       "    </tr>\n",
       "    <tr>\n",
       "      <th>MPSP_v</th>\n",
       "      <th></th>\n",
       "      <th></th>\n",
       "      <th></th>\n",
       "    </tr>\n",
       "  </thead>\n",
       "  <tbody>\n",
       "    <tr>\n",
       "      <th>(0.999, 2.233]</th>\n",
       "      <td>77</td>\n",
       "      <td>186</td>\n",
       "      <td>50</td>\n",
       "    </tr>\n",
       "    <tr>\n",
       "      <th>(2.233, 12.0]</th>\n",
       "      <td>141</td>\n",
       "      <td>155</td>\n",
       "      <td>173</td>\n",
       "    </tr>\n",
       "  </tbody>\n",
       "</table>\n",
       "</div>"
      ],
      "text/plain": [
       "resultado         0    1    2\n",
       "MPSP_v                       \n",
       "(0.999, 2.233]   77  186   50\n",
       "(2.233, 12.0]   141  155  173"
      ]
     },
     "execution_count": 84,
     "metadata": {},
     "output_type": "execute_result"
    }
   ],
   "source": [
    "chisq_mpsp_v = pd.crosstab(df['MPSP_v'], df['resultado'])\n",
    "chisq_mpsp_v"
   ]
  },
  {
   "cell_type": "code",
   "execution_count": 85,
   "id": "7bc356c2-9f53-40b6-bd7c-dfad271ab1df",
   "metadata": {},
   "outputs": [
    {
     "data": {
      "text/plain": [
       "(60.74750427585522,\n",
       " 6.439424443461516e-14,\n",
       " 2,\n",
       " array([[ 87.25575448, 136.48721228,  89.25703325],\n",
       "        [130.74424552, 204.51278772, 133.74296675]]))"
      ]
     },
     "execution_count": 85,
     "metadata": {},
     "output_type": "execute_result"
    }
   ],
   "source": [
    "scipy.stats.contingency.chi2_contingency(chisq_mpsp_v)"
   ]
  },
  {
   "cell_type": "markdown",
   "id": "f5a0de08-405c-409c-941e-1291d99a069b",
   "metadata": {},
   "source": [
    "---"
   ]
  },
  {
   "cell_type": "code",
   "execution_count": 86,
   "id": "0435e00e-62f6-42db-8c80-d391324f5690",
   "metadata": {},
   "outputs": [
    {
     "data": {
      "text/html": [
       "<div>\n",
       "<style scoped>\n",
       "    .dataframe tbody tr th:only-of-type {\n",
       "        vertical-align: middle;\n",
       "    }\n",
       "\n",
       "    .dataframe tbody tr th {\n",
       "        vertical-align: top;\n",
       "    }\n",
       "\n",
       "    .dataframe thead th {\n",
       "        text-align: right;\n",
       "    }\n",
       "</style>\n",
       "<table border=\"1\" class=\"dataframe\">\n",
       "  <thead>\n",
       "    <tr style=\"text-align: right;\">\n",
       "      <th>resultado</th>\n",
       "      <th>0</th>\n",
       "      <th>1</th>\n",
       "      <th>2</th>\n",
       "    </tr>\n",
       "    <tr>\n",
       "      <th>MPSG_v</th>\n",
       "      <th></th>\n",
       "      <th></th>\n",
       "      <th></th>\n",
       "    </tr>\n",
       "  </thead>\n",
       "  <tbody>\n",
       "    <tr>\n",
       "      <th>(-0.001, 2.25]</th>\n",
       "      <td>87</td>\n",
       "      <td>94</td>\n",
       "      <td>134</td>\n",
       "    </tr>\n",
       "    <tr>\n",
       "      <th>(2.25, 11.0]</th>\n",
       "      <td>131</td>\n",
       "      <td>247</td>\n",
       "      <td>89</td>\n",
       "    </tr>\n",
       "  </tbody>\n",
       "</table>\n",
       "</div>"
      ],
      "text/plain": [
       "resultado         0    1    2\n",
       "MPSG_v                       \n",
       "(-0.001, 2.25]   87   94  134\n",
       "(2.25, 11.0]    131  247   89"
      ]
     },
     "execution_count": 86,
     "metadata": {},
     "output_type": "execute_result"
    }
   ],
   "source": [
    "chisq_mpsg_v = pd.crosstab(df['MPSG_v'], df['resultado'])\n",
    "chisq_mpsg_v"
   ]
  },
  {
   "cell_type": "code",
   "execution_count": 87,
   "id": "65d071c1-6ecf-4c51-909f-c67549d19a96",
   "metadata": {},
   "outputs": [
    {
     "data": {
      "text/plain": [
       "(59.30540696268806,\n",
       " 1.3243247773918571e-13,\n",
       " 2,\n",
       " array([[ 87.81329923, 137.35933504,  89.82736573],\n",
       "        [130.18670077, 203.64066496, 133.17263427]]))"
      ]
     },
     "execution_count": 87,
     "metadata": {},
     "output_type": "execute_result"
    }
   ],
   "source": [
    "scipy.stats.contingency.chi2_contingency(chisq_mpsg_v)"
   ]
  },
  {
   "cell_type": "markdown",
   "id": "09dc0545-af93-475a-b660-c547c2316cc5",
   "metadata": {},
   "source": [
    "---"
   ]
  }
 ],
 "metadata": {
  "kernelspec": {
   "display_name": "Python 3 (ipykernel)",
   "language": "python",
   "name": "python3"
  },
  "language_info": {
   "codemirror_mode": {
    "name": "ipython",
    "version": 3
   },
   "file_extension": ".py",
   "mimetype": "text/x-python",
   "name": "python",
   "nbconvert_exporter": "python",
   "pygments_lexer": "ipython3",
   "version": "3.9.12"
  }
 },
 "nbformat": 4,
 "nbformat_minor": 5
}
