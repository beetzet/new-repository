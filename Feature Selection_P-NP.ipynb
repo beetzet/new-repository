{
 "cells": [
  {
   "cell_type": "code",
   "execution_count": 1,
   "id": "fef410d0-c657-4f20-9db6-a8c41922942f",
   "metadata": {},
   "outputs": [],
   "source": [
    "import scipy\n",
    "from scipy import stats\n",
    "import seaborn as sns\n",
    "import matplotlib.pyplot as plt\n",
    "import sklearn\n",
    "from sklearn import preprocessing\n",
    "from sklearn import metrics\n",
    "from sklearn.metrics import jaccard_score\n",
    "from sklearn.metrics import log_loss\n",
    "from sklearn import feature_selection\n",
    "from sklearn.feature_selection import mutual_info_classif\n",
    "from sklearn.feature_selection import SelectKBest\n",
    "from sklearn.feature_selection import f_classif\n",
    "from sklearn.feature_selection import chi2\n",
    "from scipy.stats import bartlett"
   ]
  },
  {
   "cell_type": "code",
   "execution_count": 2,
   "id": "387f6a90-39c6-4cac-83ec-c9ad867467fd",
   "metadata": {},
   "outputs": [
    {
     "name": "stdout",
     "output_type": "stream",
     "text": [
      "Requirement already satisfied: pandas in d:\\nueva carpeta\\lib\\site-packages (1.5.1)\n",
      "Requirement already satisfied: numpy>=1.20.3 in d:\\nueva carpeta\\lib\\site-packages (from pandas) (1.21.5)\n",
      "Requirement already satisfied: pytz>=2020.1 in d:\\nueva carpeta\\lib\\site-packages (from pandas) (2021.3)\n",
      "Requirement already satisfied: python-dateutil>=2.8.1 in d:\\nueva carpeta\\lib\\site-packages (from pandas) (2.8.2)\n",
      "Requirement already satisfied: six>=1.5 in d:\\nueva carpeta\\lib\\site-packages (from python-dateutil>=2.8.1->pandas) (1.16.0)\n",
      "Note: you may need to restart the kernel to use updated packages.\n"
     ]
    }
   ],
   "source": [
    "%pip install --user pandas\n",
    "import pandas as pd\n",
    "import numpy as np\n",
    "\n",
    "df = pd.read_excel(r\"C:\\Users\\USUARIO\\Desktop\\quiniela origen.xlsx\")"
   ]
  },
  {
   "cell_type": "code",
   "execution_count": 4,
   "id": "2e985206-6f6e-45fb-a18a-920704640470",
   "metadata": {},
   "outputs": [],
   "source": [
    "df['resultado'] = df['resultado'].replace(0, 1)"
   ]
  },
  {
   "cell_type": "code",
   "execution_count": 5,
   "id": "a0783a83-ec5c-42a6-a67e-47c4513ef712",
   "metadata": {},
   "outputs": [],
   "source": [
    "df['resultado'] = df['resultado'].replace(2, 0)"
   ]
  },
  {
   "cell_type": "code",
   "execution_count": 6,
   "id": "cd3c5e73-35c2-47e8-bec4-711053791440",
   "metadata": {},
   "outputs": [],
   "source": [
    "df.drop(['Temporada','Local', 'Visitante', 'V','V.1','E','E.1','D','D.1', 'sin perder', 'sin ganar', 'sin perder.1', 'sin ganar.1'], axis=1, inplace=True)"
   ]
  },
  {
   "cell_type": "code",
   "execution_count": 7,
   "id": "44a91dee-f7c1-4308-b16b-8ff451f9dfd1",
   "metadata": {},
   "outputs": [],
   "source": [
    "df= df.dropna(subset=['resultado'], axis=0)"
   ]
  },
  {
   "cell_type": "code",
   "execution_count": 8,
   "id": "cb3b22b2-f817-4cc6-b75b-494932160b6f",
   "metadata": {},
   "outputs": [],
   "source": [
    "df.drop(['Jornada', 'dif.', 'dif..1'], axis=1, inplace=True)"
   ]
  },
  {
   "cell_type": "code",
   "execution_count": 9,
   "id": "2307dfae-2587-444a-b199-87ba90ae31a3",
   "metadata": {},
   "outputs": [],
   "source": [
    "df['Puntos Local']=pd.cut(df['PUNTOS'], bins=3, labels=['menos de 3', 'de 3 a 5', '6 o más'], right=False)\n",
    "df['Puntos Visitante']=pd.cut(df['PUNTOS.1'], bins=3, labels=['menos de 3', 'de 3 a 5', '6 o más'], right=False)"
   ]
  },
  {
   "cell_type": "code",
   "execution_count": 10,
   "id": "d098bd58-b0d9-46c8-8e04-1d1eb9d5da1d",
   "metadata": {},
   "outputs": [],
   "source": [
    "df['MPSP_l']=pd.qcut(df['partidos consecutivos sin perder'],q= [0, 0.4, 1])\n",
    "df['MPSG_l']=pd.qcut(df['media de partidos sin ganar'], q= [0, 0.4, 1])\n",
    "df['MPSP_v']=pd.qcut(df['partidos consecutivos sin perder.1'], q= [0, 0.4, 1])\n",
    "df['MPSG_v']=pd.qcut(df['media de partidos sin ganar.1'], q= [0, 0.4, 1])"
   ]
  },
  {
   "cell_type": "code",
   "execution_count": 11,
   "id": "119972ba-f76c-4755-92ff-210a88d94df7",
   "metadata": {},
   "outputs": [],
   "source": [
    "df['GF_local'] = pd.qcut(df['AF'], q= [0, 0.6, 1], labels = ['0-1.33', '>1.33'])\n",
    "df['GC_local'] = pd.qcut(df['AC'], q= [0, 0.7, 1])"
   ]
  },
  {
   "cell_type": "code",
   "execution_count": 12,
   "id": "c77f9143-7427-4615-a034-dd6c58dc07f5",
   "metadata": {},
   "outputs": [
    {
     "name": "stdout",
     "output_type": "stream",
     "text": [
      "<class 'pandas.core.frame.DataFrame'>\n",
      "RangeIndex: 782 entries, 0 to 781\n",
      "Data columns (total 26 columns):\n",
      " #   Column                              Non-Null Count  Dtype   \n",
      "---  ------                              --------------  -----   \n",
      " 0   cuartil                             782 non-null    int64   \n",
      " 1   partidos consecutivos sin perder    782 non-null    float64 \n",
      " 2   media de partidos sin ganar         782 non-null    float64 \n",
      " 3   PUNTOS                              782 non-null    int64   \n",
      " 4   último partido como local           782 non-null    int64   \n",
      " 5   último partido                      782 non-null    int64   \n",
      " 6   AF                                  782 non-null    float64 \n",
      " 7   AC                                  782 non-null    float64 \n",
      " 8   cuartil.1                           782 non-null    int64   \n",
      " 9   partidos consecutivos sin perder.1  782 non-null    float64 \n",
      " 10  media de partidos sin ganar.1       782 non-null    float64 \n",
      " 11  PUNTOS.1                            782 non-null    int64   \n",
      " 12  último partido.1                    782 non-null    int64   \n",
      " 13  AF.1                                782 non-null    float64 \n",
      " 14  AC.1                                782 non-null    float64 \n",
      " 15  resultado                           782 non-null    int64   \n",
      " 16  Puntos Local                        782 non-null    category\n",
      " 17  Puntos Visitante                    782 non-null    category\n",
      " 18  MPSP_l                              782 non-null    category\n",
      " 19  MPSG_l                              782 non-null    category\n",
      " 20  MPSP_v                              782 non-null    category\n",
      " 21  MPSG_v                              782 non-null    category\n",
      " 22  GF_local                            782 non-null    category\n",
      " 23  GC_local                            782 non-null    category\n",
      " 24  GF_visitante                        782 non-null    category\n",
      " 25  GC_visitante                        782 non-null    category\n",
      "dtypes: category(10), float64(8), int64(8)\n",
      "memory usage: 106.8 KB\n"
     ]
    }
   ],
   "source": [
    "df['GF_visitante'] = pd.qcut(df['AF.1'], q= [0, 0.6, 1], labels = ['0-1.1', '>1.1'])\n",
    "df['GC_visitante'] = pd.qcut(df['AC.1'], q= [0, 0.55, 1], labels = ['0-1.1', '>1.4'])\n",
    "df.info()"
   ]
  },
  {
   "cell_type": "code",
   "execution_count": 13,
   "id": "518d19ce-4660-4a84-9de5-a1b45b7fca63",
   "metadata": {},
   "outputs": [
    {
     "data": {
      "text/plain": [
       "(782,)"
      ]
     },
     "execution_count": 13,
     "metadata": {},
     "output_type": "execute_result"
    }
   ],
   "source": [
    "Y = df['resultado'].to_numpy()\n",
    "Y.shape"
   ]
  },
  {
   "cell_type": "code",
   "execution_count": 14,
   "id": "3b4f2af3-5edb-4703-b625-d60a3e72bdbc",
   "metadata": {},
   "outputs": [],
   "source": [
    "X = df[['cuartil', 'partidos consecutivos sin perder', 'media de partidos sin ganar', 'PUNTOS', 'último partido', 'último partido como local', 'AF', 'AC', 'cuartil.1', 'partidos consecutivos sin perder.1', 'media de partidos sin ganar.1', 'PUNTOS.1', 'último partido.1', 'AF.1', 'AC.1']]"
   ]
  },
  {
   "cell_type": "code",
   "execution_count": 15,
   "id": "897b1491-8136-45cf-aca0-b744a56062f7",
   "metadata": {},
   "outputs": [
    {
     "data": {
      "text/html": [
       "<div>\n",
       "<style scoped>\n",
       "    .dataframe tbody tr th:only-of-type {\n",
       "        vertical-align: middle;\n",
       "    }\n",
       "\n",
       "    .dataframe tbody tr th {\n",
       "        vertical-align: top;\n",
       "    }\n",
       "\n",
       "    .dataframe thead th {\n",
       "        text-align: right;\n",
       "    }\n",
       "</style>\n",
       "<table border=\"1\" class=\"dataframe\">\n",
       "  <thead>\n",
       "    <tr style=\"text-align: right;\">\n",
       "      <th></th>\n",
       "      <th>cuartil</th>\n",
       "      <th>partidos consecutivos sin perder</th>\n",
       "      <th>media de partidos sin ganar</th>\n",
       "      <th>PUNTOS</th>\n",
       "      <th>último partido como local</th>\n",
       "      <th>último partido</th>\n",
       "      <th>AF</th>\n",
       "      <th>AC</th>\n",
       "      <th>cuartil.1</th>\n",
       "      <th>partidos consecutivos sin perder.1</th>\n",
       "      <th>...</th>\n",
       "      <th>Puntos Local</th>\n",
       "      <th>Puntos Visitante</th>\n",
       "      <th>MPSP_l</th>\n",
       "      <th>MPSG_l</th>\n",
       "      <th>MPSP_v</th>\n",
       "      <th>MPSG_v</th>\n",
       "      <th>GF_local</th>\n",
       "      <th>GC_local</th>\n",
       "      <th>GF_visitante</th>\n",
       "      <th>GC_visitante</th>\n",
       "    </tr>\n",
       "  </thead>\n",
       "  <tbody>\n",
       "    <tr>\n",
       "      <th>0</th>\n",
       "      <td>1</td>\n",
       "      <td>6.800000</td>\n",
       "      <td>1.333333</td>\n",
       "      <td>9</td>\n",
       "      <td>3</td>\n",
       "      <td>3</td>\n",
       "      <td>2.380000</td>\n",
       "      <td>0.250000</td>\n",
       "      <td>2</td>\n",
       "      <td>4.142857</td>\n",
       "      <td>...</td>\n",
       "      <td>6 o más</td>\n",
       "      <td>6 o más</td>\n",
       "      <td>(2.27, 12.0]</td>\n",
       "      <td>(-0.001, 2.25]</td>\n",
       "      <td>(2.233, 12.0]</td>\n",
       "      <td>(-0.001, 2.25]</td>\n",
       "      <td>&gt;1.33</td>\n",
       "      <td>(-0.001, 1.309]</td>\n",
       "      <td>&gt;1.1</td>\n",
       "      <td>0-1.1</td>\n",
       "    </tr>\n",
       "    <tr>\n",
       "      <th>1</th>\n",
       "      <td>1</td>\n",
       "      <td>6.800000</td>\n",
       "      <td>1.300000</td>\n",
       "      <td>6</td>\n",
       "      <td>0</td>\n",
       "      <td>3</td>\n",
       "      <td>1.480000</td>\n",
       "      <td>1.190000</td>\n",
       "      <td>2</td>\n",
       "      <td>1.666667</td>\n",
       "      <td>...</td>\n",
       "      <td>6 o más</td>\n",
       "      <td>menos de 3</td>\n",
       "      <td>(2.27, 12.0]</td>\n",
       "      <td>(-0.001, 2.25]</td>\n",
       "      <td>(0.999, 2.233]</td>\n",
       "      <td>(2.25, 11.0]</td>\n",
       "      <td>0-1.33</td>\n",
       "      <td>(-0.001, 1.309]</td>\n",
       "      <td>0-1.1</td>\n",
       "      <td>&gt;1.4</td>\n",
       "    </tr>\n",
       "    <tr>\n",
       "      <th>2</th>\n",
       "      <td>1</td>\n",
       "      <td>4.428571</td>\n",
       "      <td>1.555556</td>\n",
       "      <td>7</td>\n",
       "      <td>1</td>\n",
       "      <td>1</td>\n",
       "      <td>2.420000</td>\n",
       "      <td>1.080000</td>\n",
       "      <td>4</td>\n",
       "      <td>2.000000</td>\n",
       "      <td>...</td>\n",
       "      <td>6 o más</td>\n",
       "      <td>de 3 a 5</td>\n",
       "      <td>(2.27, 12.0]</td>\n",
       "      <td>(-0.001, 2.25]</td>\n",
       "      <td>(0.999, 2.233]</td>\n",
       "      <td>(2.25, 11.0]</td>\n",
       "      <td>&gt;1.33</td>\n",
       "      <td>(-0.001, 1.309]</td>\n",
       "      <td>0-1.1</td>\n",
       "      <td>0-1.1</td>\n",
       "    </tr>\n",
       "    <tr>\n",
       "      <th>3</th>\n",
       "      <td>3</td>\n",
       "      <td>2.400000</td>\n",
       "      <td>2.250000</td>\n",
       "      <td>4</td>\n",
       "      <td>3</td>\n",
       "      <td>3</td>\n",
       "      <td>1.380000</td>\n",
       "      <td>0.630000</td>\n",
       "      <td>1</td>\n",
       "      <td>4.428571</td>\n",
       "      <td>...</td>\n",
       "      <td>de 3 a 5</td>\n",
       "      <td>6 o más</td>\n",
       "      <td>(2.27, 12.0]</td>\n",
       "      <td>(-0.001, 2.25]</td>\n",
       "      <td>(2.233, 12.0]</td>\n",
       "      <td>(-0.001, 2.25]</td>\n",
       "      <td>0-1.33</td>\n",
       "      <td>(-0.001, 1.309]</td>\n",
       "      <td>&gt;1.1</td>\n",
       "      <td>0-1.1</td>\n",
       "    </tr>\n",
       "    <tr>\n",
       "      <th>4</th>\n",
       "      <td>3</td>\n",
       "      <td>2.555556</td>\n",
       "      <td>2.900000</td>\n",
       "      <td>4</td>\n",
       "      <td>0</td>\n",
       "      <td>0</td>\n",
       "      <td>1.640000</td>\n",
       "      <td>1.560000</td>\n",
       "      <td>1</td>\n",
       "      <td>6.800000</td>\n",
       "      <td>...</td>\n",
       "      <td>de 3 a 5</td>\n",
       "      <td>6 o más</td>\n",
       "      <td>(2.27, 12.0]</td>\n",
       "      <td>(2.25, 11.0]</td>\n",
       "      <td>(2.233, 12.0]</td>\n",
       "      <td>(-0.001, 2.25]</td>\n",
       "      <td>&gt;1.33</td>\n",
       "      <td>(1.309, 4.0]</td>\n",
       "      <td>&gt;1.1</td>\n",
       "      <td>0-1.1</td>\n",
       "    </tr>\n",
       "    <tr>\n",
       "      <th>...</th>\n",
       "      <td>...</td>\n",
       "      <td>...</td>\n",
       "      <td>...</td>\n",
       "      <td>...</td>\n",
       "      <td>...</td>\n",
       "      <td>...</td>\n",
       "      <td>...</td>\n",
       "      <td>...</td>\n",
       "      <td>...</td>\n",
       "      <td>...</td>\n",
       "      <td>...</td>\n",
       "      <td>...</td>\n",
       "      <td>...</td>\n",
       "      <td>...</td>\n",
       "      <td>...</td>\n",
       "      <td>...</td>\n",
       "      <td>...</td>\n",
       "      <td>...</td>\n",
       "      <td>...</td>\n",
       "      <td>...</td>\n",
       "      <td>...</td>\n",
       "    </tr>\n",
       "    <tr>\n",
       "      <th>777</th>\n",
       "      <td>3</td>\n",
       "      <td>2.000000</td>\n",
       "      <td>2.000000</td>\n",
       "      <td>4</td>\n",
       "      <td>3</td>\n",
       "      <td>1</td>\n",
       "      <td>1.333333</td>\n",
       "      <td>1.000000</td>\n",
       "      <td>4</td>\n",
       "      <td>1.500000</td>\n",
       "      <td>...</td>\n",
       "      <td>de 3 a 5</td>\n",
       "      <td>6 o más</td>\n",
       "      <td>(0.999, 2.27]</td>\n",
       "      <td>(-0.001, 2.25]</td>\n",
       "      <td>(0.999, 2.233]</td>\n",
       "      <td>(-0.001, 2.25]</td>\n",
       "      <td>0-1.33</td>\n",
       "      <td>(-0.001, 1.309]</td>\n",
       "      <td>0-1.1</td>\n",
       "      <td>&gt;1.4</td>\n",
       "    </tr>\n",
       "    <tr>\n",
       "      <th>778</th>\n",
       "      <td>1</td>\n",
       "      <td>12.000000</td>\n",
       "      <td>0.000000</td>\n",
       "      <td>9</td>\n",
       "      <td>3</td>\n",
       "      <td>3</td>\n",
       "      <td>2.600000</td>\n",
       "      <td>1.000000</td>\n",
       "      <td>4</td>\n",
       "      <td>1.500000</td>\n",
       "      <td>...</td>\n",
       "      <td>6 o más</td>\n",
       "      <td>menos de 3</td>\n",
       "      <td>(2.27, 12.0]</td>\n",
       "      <td>(-0.001, 2.25]</td>\n",
       "      <td>(0.999, 2.233]</td>\n",
       "      <td>(2.25, 11.0]</td>\n",
       "      <td>&gt;1.33</td>\n",
       "      <td>(-0.001, 1.309]</td>\n",
       "      <td>0-1.1</td>\n",
       "      <td>&gt;1.4</td>\n",
       "    </tr>\n",
       "    <tr>\n",
       "      <th>779</th>\n",
       "      <td>2</td>\n",
       "      <td>2.250000</td>\n",
       "      <td>2.000000</td>\n",
       "      <td>1</td>\n",
       "      <td>0</td>\n",
       "      <td>0</td>\n",
       "      <td>1.333333</td>\n",
       "      <td>0.666667</td>\n",
       "      <td>2</td>\n",
       "      <td>2.000000</td>\n",
       "      <td>...</td>\n",
       "      <td>menos de 3</td>\n",
       "      <td>6 o más</td>\n",
       "      <td>(0.999, 2.27]</td>\n",
       "      <td>(-0.001, 2.25]</td>\n",
       "      <td>(0.999, 2.233]</td>\n",
       "      <td>(-0.001, 2.25]</td>\n",
       "      <td>0-1.33</td>\n",
       "      <td>(-0.001, 1.309]</td>\n",
       "      <td>0-1.1</td>\n",
       "      <td>0-1.1</td>\n",
       "    </tr>\n",
       "    <tr>\n",
       "      <th>780</th>\n",
       "      <td>2</td>\n",
       "      <td>2.666667</td>\n",
       "      <td>1.666667</td>\n",
       "      <td>6</td>\n",
       "      <td>3</td>\n",
       "      <td>0</td>\n",
       "      <td>1.200000</td>\n",
       "      <td>1.200000</td>\n",
       "      <td>2</td>\n",
       "      <td>2.250000</td>\n",
       "      <td>...</td>\n",
       "      <td>6 o más</td>\n",
       "      <td>de 3 a 5</td>\n",
       "      <td>(2.27, 12.0]</td>\n",
       "      <td>(-0.001, 2.25]</td>\n",
       "      <td>(2.233, 12.0]</td>\n",
       "      <td>(-0.001, 2.25]</td>\n",
       "      <td>0-1.33</td>\n",
       "      <td>(-0.001, 1.309]</td>\n",
       "      <td>0-1.1</td>\n",
       "      <td>0-1.1</td>\n",
       "    </tr>\n",
       "    <tr>\n",
       "      <th>781</th>\n",
       "      <td>4</td>\n",
       "      <td>1.000000</td>\n",
       "      <td>11.000000</td>\n",
       "      <td>2</td>\n",
       "      <td>0</td>\n",
       "      <td>1</td>\n",
       "      <td>0.600000</td>\n",
       "      <td>2.000000</td>\n",
       "      <td>3</td>\n",
       "      <td>2.333333</td>\n",
       "      <td>...</td>\n",
       "      <td>menos de 3</td>\n",
       "      <td>de 3 a 5</td>\n",
       "      <td>(0.999, 2.27]</td>\n",
       "      <td>(2.25, 11.0]</td>\n",
       "      <td>(2.233, 12.0]</td>\n",
       "      <td>(2.25, 11.0]</td>\n",
       "      <td>0-1.33</td>\n",
       "      <td>(1.309, 4.0]</td>\n",
       "      <td>0-1.1</td>\n",
       "      <td>&gt;1.4</td>\n",
       "    </tr>\n",
       "  </tbody>\n",
       "</table>\n",
       "<p>782 rows × 26 columns</p>\n",
       "</div>"
      ],
      "text/plain": [
       "     cuartil  partidos consecutivos sin perder  media de partidos sin ganar  \\\n",
       "0          1                          6.800000                     1.333333   \n",
       "1          1                          6.800000                     1.300000   \n",
       "2          1                          4.428571                     1.555556   \n",
       "3          3                          2.400000                     2.250000   \n",
       "4          3                          2.555556                     2.900000   \n",
       "..       ...                               ...                          ...   \n",
       "777        3                          2.000000                     2.000000   \n",
       "778        1                         12.000000                     0.000000   \n",
       "779        2                          2.250000                     2.000000   \n",
       "780        2                          2.666667                     1.666667   \n",
       "781        4                          1.000000                    11.000000   \n",
       "\n",
       "     PUNTOS  último partido como local  último partido        AF        AC  \\\n",
       "0         9                          3               3  2.380000  0.250000   \n",
       "1         6                          0               3  1.480000  1.190000   \n",
       "2         7                          1               1  2.420000  1.080000   \n",
       "3         4                          3               3  1.380000  0.630000   \n",
       "4         4                          0               0  1.640000  1.560000   \n",
       "..      ...                        ...             ...       ...       ...   \n",
       "777       4                          3               1  1.333333  1.000000   \n",
       "778       9                          3               3  2.600000  1.000000   \n",
       "779       1                          0               0  1.333333  0.666667   \n",
       "780       6                          3               0  1.200000  1.200000   \n",
       "781       2                          0               1  0.600000  2.000000   \n",
       "\n",
       "     cuartil.1  partidos consecutivos sin perder.1  ...  Puntos Local  \\\n",
       "0            2                            4.142857  ...       6 o más   \n",
       "1            2                            1.666667  ...       6 o más   \n",
       "2            4                            2.000000  ...       6 o más   \n",
       "3            1                            4.428571  ...      de 3 a 5   \n",
       "4            1                            6.800000  ...      de 3 a 5   \n",
       "..         ...                                 ...  ...           ...   \n",
       "777          4                            1.500000  ...      de 3 a 5   \n",
       "778          4                            1.500000  ...       6 o más   \n",
       "779          2                            2.000000  ...    menos de 3   \n",
       "780          2                            2.250000  ...       6 o más   \n",
       "781          3                            2.333333  ...    menos de 3   \n",
       "\n",
       "     Puntos Visitante         MPSP_l          MPSG_l          MPSP_v  \\\n",
       "0             6 o más   (2.27, 12.0]  (-0.001, 2.25]   (2.233, 12.0]   \n",
       "1          menos de 3   (2.27, 12.0]  (-0.001, 2.25]  (0.999, 2.233]   \n",
       "2            de 3 a 5   (2.27, 12.0]  (-0.001, 2.25]  (0.999, 2.233]   \n",
       "3             6 o más   (2.27, 12.0]  (-0.001, 2.25]   (2.233, 12.0]   \n",
       "4             6 o más   (2.27, 12.0]    (2.25, 11.0]   (2.233, 12.0]   \n",
       "..                ...            ...             ...             ...   \n",
       "777           6 o más  (0.999, 2.27]  (-0.001, 2.25]  (0.999, 2.233]   \n",
       "778        menos de 3   (2.27, 12.0]  (-0.001, 2.25]  (0.999, 2.233]   \n",
       "779           6 o más  (0.999, 2.27]  (-0.001, 2.25]  (0.999, 2.233]   \n",
       "780          de 3 a 5   (2.27, 12.0]  (-0.001, 2.25]   (2.233, 12.0]   \n",
       "781          de 3 a 5  (0.999, 2.27]    (2.25, 11.0]   (2.233, 12.0]   \n",
       "\n",
       "             MPSG_v GF_local         GC_local GF_visitante GC_visitante  \n",
       "0    (-0.001, 2.25]    >1.33  (-0.001, 1.309]         >1.1        0-1.1  \n",
       "1      (2.25, 11.0]   0-1.33  (-0.001, 1.309]        0-1.1         >1.4  \n",
       "2      (2.25, 11.0]    >1.33  (-0.001, 1.309]        0-1.1        0-1.1  \n",
       "3    (-0.001, 2.25]   0-1.33  (-0.001, 1.309]         >1.1        0-1.1  \n",
       "4    (-0.001, 2.25]    >1.33     (1.309, 4.0]         >1.1        0-1.1  \n",
       "..              ...      ...              ...          ...          ...  \n",
       "777  (-0.001, 2.25]   0-1.33  (-0.001, 1.309]        0-1.1         >1.4  \n",
       "778    (2.25, 11.0]    >1.33  (-0.001, 1.309]        0-1.1         >1.4  \n",
       "779  (-0.001, 2.25]   0-1.33  (-0.001, 1.309]        0-1.1        0-1.1  \n",
       "780  (-0.001, 2.25]   0-1.33  (-0.001, 1.309]        0-1.1        0-1.1  \n",
       "781    (2.25, 11.0]   0-1.33     (1.309, 4.0]        0-1.1         >1.4  \n",
       "\n",
       "[782 rows x 26 columns]"
      ]
     },
     "execution_count": 15,
     "metadata": {},
     "output_type": "execute_result"
    }
   ],
   "source": [
    "df"
   ]
  },
  {
   "cell_type": "code",
   "execution_count": 29,
   "id": "138a02f6-7c40-4ea3-b927-c7f3e4e87998",
   "metadata": {},
   "outputs": [
    {
     "data": {
      "text/plain": [
       "array([[ 6.8       ,  1.33333333,  9.        , ...,  1.55555556,\n",
       "         7.        ,  1.13      ],\n",
       "       [ 6.8       ,  1.3       ,  6.        , ...,  3.625     ,\n",
       "         1.        ,  0.8       ],\n",
       "       [ 4.42857143,  1.55555555,  7.        , ...,  5.        ,\n",
       "         4.        ,  0.9       ],\n",
       "       ...,\n",
       "       [ 2.25      ,  2.        ,  1.        , ...,  1.75      ,\n",
       "         6.        ,  0.71428571],\n",
       "       [ 2.66666667,  1.66666667,  6.        , ...,  1.66666667,\n",
       "         4.        ,  0.6       ],\n",
       "       [ 1.        , 11.        ,  2.        , ...,  4.5       ,\n",
       "         3.        ,  1.        ]])"
      ]
     },
     "execution_count": 29,
     "metadata": {},
     "output_type": "execute_result"
    }
   ],
   "source": [
    "X_new = SelectKBest(chi2, k=8).fit_transform(X, Y)"
   ]
  },
  {
   "cell_type": "code",
   "execution_count": 30,
   "id": "73c2521b-3a01-4462-bc1c-6ed078af442e",
   "metadata": {},
   "outputs": [
    {
     "data": {
      "text/html": [
       "<div>\n",
       "<style scoped>\n",
       "    .dataframe tbody tr th:only-of-type {\n",
       "        vertical-align: middle;\n",
       "    }\n",
       "\n",
       "    .dataframe tbody tr th {\n",
       "        vertical-align: top;\n",
       "    }\n",
       "\n",
       "    .dataframe thead th {\n",
       "        text-align: right;\n",
       "    }\n",
       "</style>\n",
       "<table border=\"1\" class=\"dataframe\">\n",
       "  <thead>\n",
       "    <tr style=\"text-align: right;\">\n",
       "      <th></th>\n",
       "      <th>0</th>\n",
       "      <th>1</th>\n",
       "      <th>2</th>\n",
       "      <th>3</th>\n",
       "      <th>4</th>\n",
       "      <th>5</th>\n",
       "      <th>6</th>\n",
       "      <th>7</th>\n",
       "    </tr>\n",
       "  </thead>\n",
       "  <tbody>\n",
       "    <tr>\n",
       "      <th>0</th>\n",
       "      <td>6.800000</td>\n",
       "      <td>1.333333</td>\n",
       "      <td>9.0</td>\n",
       "      <td>2.0</td>\n",
       "      <td>4.142857</td>\n",
       "      <td>1.555556</td>\n",
       "      <td>7.0</td>\n",
       "      <td>1.130000</td>\n",
       "    </tr>\n",
       "    <tr>\n",
       "      <th>1</th>\n",
       "      <td>6.800000</td>\n",
       "      <td>1.300000</td>\n",
       "      <td>6.0</td>\n",
       "      <td>2.0</td>\n",
       "      <td>1.666667</td>\n",
       "      <td>3.625000</td>\n",
       "      <td>1.0</td>\n",
       "      <td>0.800000</td>\n",
       "    </tr>\n",
       "    <tr>\n",
       "      <th>2</th>\n",
       "      <td>4.428571</td>\n",
       "      <td>1.555556</td>\n",
       "      <td>7.0</td>\n",
       "      <td>4.0</td>\n",
       "      <td>2.000000</td>\n",
       "      <td>5.000000</td>\n",
       "      <td>4.0</td>\n",
       "      <td>0.900000</td>\n",
       "    </tr>\n",
       "    <tr>\n",
       "      <th>3</th>\n",
       "      <td>2.400000</td>\n",
       "      <td>2.250000</td>\n",
       "      <td>4.0</td>\n",
       "      <td>1.0</td>\n",
       "      <td>4.428571</td>\n",
       "      <td>1.555556</td>\n",
       "      <td>7.0</td>\n",
       "      <td>1.290000</td>\n",
       "    </tr>\n",
       "    <tr>\n",
       "      <th>4</th>\n",
       "      <td>2.555556</td>\n",
       "      <td>2.900000</td>\n",
       "      <td>4.0</td>\n",
       "      <td>1.0</td>\n",
       "      <td>6.800000</td>\n",
       "      <td>1.333333</td>\n",
       "      <td>7.0</td>\n",
       "      <td>1.800000</td>\n",
       "    </tr>\n",
       "    <tr>\n",
       "      <th>...</th>\n",
       "      <td>...</td>\n",
       "      <td>...</td>\n",
       "      <td>...</td>\n",
       "      <td>...</td>\n",
       "      <td>...</td>\n",
       "      <td>...</td>\n",
       "      <td>...</td>\n",
       "      <td>...</td>\n",
       "    </tr>\n",
       "    <tr>\n",
       "      <th>777</th>\n",
       "      <td>2.000000</td>\n",
       "      <td>2.000000</td>\n",
       "      <td>4.0</td>\n",
       "      <td>4.0</td>\n",
       "      <td>1.500000</td>\n",
       "      <td>2.000000</td>\n",
       "      <td>6.0</td>\n",
       "      <td>1.000000</td>\n",
       "    </tr>\n",
       "    <tr>\n",
       "      <th>778</th>\n",
       "      <td>12.000000</td>\n",
       "      <td>0.000000</td>\n",
       "      <td>9.0</td>\n",
       "      <td>4.0</td>\n",
       "      <td>1.500000</td>\n",
       "      <td>3.333333</td>\n",
       "      <td>2.0</td>\n",
       "      <td>1.000000</td>\n",
       "    </tr>\n",
       "    <tr>\n",
       "      <th>779</th>\n",
       "      <td>2.250000</td>\n",
       "      <td>2.000000</td>\n",
       "      <td>1.0</td>\n",
       "      <td>2.0</td>\n",
       "      <td>2.000000</td>\n",
       "      <td>1.750000</td>\n",
       "      <td>6.0</td>\n",
       "      <td>0.714286</td>\n",
       "    </tr>\n",
       "    <tr>\n",
       "      <th>780</th>\n",
       "      <td>2.666667</td>\n",
       "      <td>1.666667</td>\n",
       "      <td>6.0</td>\n",
       "      <td>2.0</td>\n",
       "      <td>2.250000</td>\n",
       "      <td>1.666667</td>\n",
       "      <td>4.0</td>\n",
       "      <td>0.600000</td>\n",
       "    </tr>\n",
       "    <tr>\n",
       "      <th>781</th>\n",
       "      <td>1.000000</td>\n",
       "      <td>11.000000</td>\n",
       "      <td>2.0</td>\n",
       "      <td>3.0</td>\n",
       "      <td>2.333333</td>\n",
       "      <td>4.500000</td>\n",
       "      <td>3.0</td>\n",
       "      <td>1.000000</td>\n",
       "    </tr>\n",
       "  </tbody>\n",
       "</table>\n",
       "<p>782 rows × 8 columns</p>\n",
       "</div>"
      ],
      "text/plain": [
       "             0          1    2    3         4         5    6         7\n",
       "0     6.800000   1.333333  9.0  2.0  4.142857  1.555556  7.0  1.130000\n",
       "1     6.800000   1.300000  6.0  2.0  1.666667  3.625000  1.0  0.800000\n",
       "2     4.428571   1.555556  7.0  4.0  2.000000  5.000000  4.0  0.900000\n",
       "3     2.400000   2.250000  4.0  1.0  4.428571  1.555556  7.0  1.290000\n",
       "4     2.555556   2.900000  4.0  1.0  6.800000  1.333333  7.0  1.800000\n",
       "..         ...        ...  ...  ...       ...       ...  ...       ...\n",
       "777   2.000000   2.000000  4.0  4.0  1.500000  2.000000  6.0  1.000000\n",
       "778  12.000000   0.000000  9.0  4.0  1.500000  3.333333  2.0  1.000000\n",
       "779   2.250000   2.000000  1.0  2.0  2.000000  1.750000  6.0  0.714286\n",
       "780   2.666667   1.666667  6.0  2.0  2.250000  1.666667  4.0  0.600000\n",
       "781   1.000000  11.000000  2.0  3.0  2.333333  4.500000  3.0  1.000000\n",
       "\n",
       "[782 rows x 8 columns]"
      ]
     },
     "execution_count": 30,
     "metadata": {},
     "output_type": "execute_result"
    }
   ],
   "source": [
    "df1 = pd.DataFrame(X_new)\n",
    "df1"
   ]
  },
  {
   "cell_type": "code",
   "execution_count": 31,
   "id": "3d76cbc4-89d1-47f2-b678-956ac5e4938e",
   "metadata": {},
   "outputs": [
    {
     "data": {
      "text/html": [
       "<div>\n",
       "<style scoped>\n",
       "    .dataframe tbody tr th:only-of-type {\n",
       "        vertical-align: middle;\n",
       "    }\n",
       "\n",
       "    .dataframe tbody tr th {\n",
       "        vertical-align: top;\n",
       "    }\n",
       "\n",
       "    .dataframe thead th {\n",
       "        text-align: right;\n",
       "    }\n",
       "</style>\n",
       "<table border=\"1\" class=\"dataframe\">\n",
       "  <thead>\n",
       "    <tr style=\"text-align: right;\">\n",
       "      <th></th>\n",
       "      <th>0</th>\n",
       "      <th>1</th>\n",
       "      <th>2</th>\n",
       "      <th>3</th>\n",
       "      <th>4</th>\n",
       "      <th>5</th>\n",
       "      <th>6</th>\n",
       "      <th>7</th>\n",
       "    </tr>\n",
       "  </thead>\n",
       "  <tbody>\n",
       "    <tr>\n",
       "      <th>0</th>\n",
       "      <td>6.800000</td>\n",
       "      <td>1.333333</td>\n",
       "      <td>2.380000</td>\n",
       "      <td>2.0</td>\n",
       "      <td>4.142857</td>\n",
       "      <td>1.555556</td>\n",
       "      <td>7.0</td>\n",
       "      <td>1.130000</td>\n",
       "    </tr>\n",
       "    <tr>\n",
       "      <th>1</th>\n",
       "      <td>6.800000</td>\n",
       "      <td>1.300000</td>\n",
       "      <td>1.480000</td>\n",
       "      <td>2.0</td>\n",
       "      <td>1.666667</td>\n",
       "      <td>3.625000</td>\n",
       "      <td>1.0</td>\n",
       "      <td>0.800000</td>\n",
       "    </tr>\n",
       "    <tr>\n",
       "      <th>2</th>\n",
       "      <td>4.428571</td>\n",
       "      <td>1.555556</td>\n",
       "      <td>2.420000</td>\n",
       "      <td>4.0</td>\n",
       "      <td>2.000000</td>\n",
       "      <td>5.000000</td>\n",
       "      <td>4.0</td>\n",
       "      <td>0.900000</td>\n",
       "    </tr>\n",
       "    <tr>\n",
       "      <th>3</th>\n",
       "      <td>2.400000</td>\n",
       "      <td>2.250000</td>\n",
       "      <td>1.380000</td>\n",
       "      <td>1.0</td>\n",
       "      <td>4.428571</td>\n",
       "      <td>1.555556</td>\n",
       "      <td>7.0</td>\n",
       "      <td>1.290000</td>\n",
       "    </tr>\n",
       "    <tr>\n",
       "      <th>4</th>\n",
       "      <td>2.555556</td>\n",
       "      <td>2.900000</td>\n",
       "      <td>1.640000</td>\n",
       "      <td>1.0</td>\n",
       "      <td>6.800000</td>\n",
       "      <td>1.333333</td>\n",
       "      <td>7.0</td>\n",
       "      <td>1.800000</td>\n",
       "    </tr>\n",
       "    <tr>\n",
       "      <th>...</th>\n",
       "      <td>...</td>\n",
       "      <td>...</td>\n",
       "      <td>...</td>\n",
       "      <td>...</td>\n",
       "      <td>...</td>\n",
       "      <td>...</td>\n",
       "      <td>...</td>\n",
       "      <td>...</td>\n",
       "    </tr>\n",
       "    <tr>\n",
       "      <th>777</th>\n",
       "      <td>2.000000</td>\n",
       "      <td>2.000000</td>\n",
       "      <td>1.333333</td>\n",
       "      <td>4.0</td>\n",
       "      <td>1.500000</td>\n",
       "      <td>2.000000</td>\n",
       "      <td>6.0</td>\n",
       "      <td>1.000000</td>\n",
       "    </tr>\n",
       "    <tr>\n",
       "      <th>778</th>\n",
       "      <td>12.000000</td>\n",
       "      <td>0.000000</td>\n",
       "      <td>2.600000</td>\n",
       "      <td>4.0</td>\n",
       "      <td>1.500000</td>\n",
       "      <td>3.333333</td>\n",
       "      <td>2.0</td>\n",
       "      <td>1.000000</td>\n",
       "    </tr>\n",
       "    <tr>\n",
       "      <th>779</th>\n",
       "      <td>2.250000</td>\n",
       "      <td>2.000000</td>\n",
       "      <td>1.333333</td>\n",
       "      <td>2.0</td>\n",
       "      <td>2.000000</td>\n",
       "      <td>1.750000</td>\n",
       "      <td>6.0</td>\n",
       "      <td>0.714286</td>\n",
       "    </tr>\n",
       "    <tr>\n",
       "      <th>780</th>\n",
       "      <td>2.666667</td>\n",
       "      <td>1.666667</td>\n",
       "      <td>1.200000</td>\n",
       "      <td>2.0</td>\n",
       "      <td>2.250000</td>\n",
       "      <td>1.666667</td>\n",
       "      <td>4.0</td>\n",
       "      <td>0.600000</td>\n",
       "    </tr>\n",
       "    <tr>\n",
       "      <th>781</th>\n",
       "      <td>1.000000</td>\n",
       "      <td>11.000000</td>\n",
       "      <td>0.600000</td>\n",
       "      <td>3.0</td>\n",
       "      <td>2.333333</td>\n",
       "      <td>4.500000</td>\n",
       "      <td>3.0</td>\n",
       "      <td>1.000000</td>\n",
       "    </tr>\n",
       "  </tbody>\n",
       "</table>\n",
       "<p>782 rows × 8 columns</p>\n",
       "</div>"
      ],
      "text/plain": [
       "             0          1         2    3         4         5    6         7\n",
       "0     6.800000   1.333333  2.380000  2.0  4.142857  1.555556  7.0  1.130000\n",
       "1     6.800000   1.300000  1.480000  2.0  1.666667  3.625000  1.0  0.800000\n",
       "2     4.428571   1.555556  2.420000  4.0  2.000000  5.000000  4.0  0.900000\n",
       "3     2.400000   2.250000  1.380000  1.0  4.428571  1.555556  7.0  1.290000\n",
       "4     2.555556   2.900000  1.640000  1.0  6.800000  1.333333  7.0  1.800000\n",
       "..         ...        ...       ...  ...       ...       ...  ...       ...\n",
       "777   2.000000   2.000000  1.333333  4.0  1.500000  2.000000  6.0  1.000000\n",
       "778  12.000000   0.000000  2.600000  4.0  1.500000  3.333333  2.0  1.000000\n",
       "779   2.250000   2.000000  1.333333  2.0  2.000000  1.750000  6.0  0.714286\n",
       "780   2.666667   1.666667  1.200000  2.0  2.250000  1.666667  4.0  0.600000\n",
       "781   1.000000  11.000000  0.600000  3.0  2.333333  4.500000  3.0  1.000000\n",
       "\n",
       "[782 rows x 8 columns]"
      ]
     },
     "execution_count": 31,
     "metadata": {},
     "output_type": "execute_result"
    }
   ],
   "source": [
    "X_fclassif = SelectKBest(f_classif, k=8).fit_transform(X, Y)\n",
    "df2 = pd.DataFrame(X_fclassif)\n",
    "df2"
   ]
  },
  {
   "cell_type": "markdown",
   "id": "ee660372-3373-4a23-9dbb-11378d1b199a",
   "metadata": {},
   "source": [
    "# Histórico"
   ]
  },
  {
   "cell_type": "markdown",
   "id": "adba2088-9851-41ff-be78-f9479f9a81d4",
   "metadata": {},
   "source": [
    "## Dos años anteriores"
   ]
  },
  {
   "cell_type": "markdown",
   "id": "43edae60-238c-4e77-aa38-7f66c4b978a5",
   "metadata": {},
   "source": [
    "---"
   ]
  },
  {
   "cell_type": "code",
   "execution_count": 44,
   "id": "a9b54c55-4842-4bab-8d33-62a74ed5d26c",
   "metadata": {},
   "outputs": [
    {
     "data": {
      "text/html": [
       "<div>\n",
       "<style scoped>\n",
       "    .dataframe tbody tr th:only-of-type {\n",
       "        vertical-align: middle;\n",
       "    }\n",
       "\n",
       "    .dataframe tbody tr th {\n",
       "        vertical-align: top;\n",
       "    }\n",
       "\n",
       "    .dataframe thead th {\n",
       "        text-align: right;\n",
       "    }\n",
       "</style>\n",
       "<table border=\"1\" class=\"dataframe\">\n",
       "  <thead>\n",
       "    <tr style=\"text-align: right;\">\n",
       "      <th>resultado</th>\n",
       "      <th>0</th>\n",
       "      <th>1</th>\n",
       "    </tr>\n",
       "    <tr>\n",
       "      <th>cuartil</th>\n",
       "      <th></th>\n",
       "      <th></th>\n",
       "    </tr>\n",
       "  </thead>\n",
       "  <tbody>\n",
       "    <tr>\n",
       "      <th>1</th>\n",
       "      <td>20</td>\n",
       "      <td>120</td>\n",
       "    </tr>\n",
       "    <tr>\n",
       "      <th>2</th>\n",
       "      <td>49</td>\n",
       "      <td>126</td>\n",
       "    </tr>\n",
       "    <tr>\n",
       "      <th>3</th>\n",
       "      <td>81</td>\n",
       "      <td>170</td>\n",
       "    </tr>\n",
       "    <tr>\n",
       "      <th>4</th>\n",
       "      <td>73</td>\n",
       "      <td>143</td>\n",
       "    </tr>\n",
       "  </tbody>\n",
       "</table>\n",
       "</div>"
      ],
      "text/plain": [
       "resultado   0    1\n",
       "cuartil           \n",
       "1          20  120\n",
       "2          49  126\n",
       "3          81  170\n",
       "4          73  143"
      ]
     },
     "execution_count": 44,
     "metadata": {},
     "output_type": "execute_result"
    }
   ],
   "source": [
    "chisq_cuartil = pd.crosstab(df['cuartil'], df['resultado'])\n",
    "chisq_cuartil"
   ]
  },
  {
   "cell_type": "code",
   "execution_count": 45,
   "id": "4812c7c0-2d51-4175-9fc6-d363ea514524",
   "metadata": {},
   "outputs": [
    {
     "data": {
      "text/plain": [
       "(18.62092602729136,\n",
       " 0.0003274460110454887,\n",
       " 3,\n",
       " array([[ 39.92327366, 100.07672634],\n",
       "        [ 49.90409207, 125.09590793],\n",
       "        [ 71.57672634, 179.42327366],\n",
       "        [ 61.59590793, 154.40409207]]))"
      ]
     },
     "execution_count": 45,
     "metadata": {},
     "output_type": "execute_result"
    }
   ],
   "source": [
    "scipy.stats.contingency.chi2_contingency(chisq_cuartil)"
   ]
  },
  {
   "cell_type": "markdown",
   "id": "92afbad3-1030-418f-babe-650b231490a5",
   "metadata": {},
   "source": [
    "---"
   ]
  },
  {
   "cell_type": "code",
   "execution_count": 46,
   "id": "0878fd6f-d9bd-4915-9cf1-6a231b304020",
   "metadata": {},
   "outputs": [
    {
     "data": {
      "text/html": [
       "<div>\n",
       "<style scoped>\n",
       "    .dataframe tbody tr th:only-of-type {\n",
       "        vertical-align: middle;\n",
       "    }\n",
       "\n",
       "    .dataframe tbody tr th {\n",
       "        vertical-align: top;\n",
       "    }\n",
       "\n",
       "    .dataframe thead th {\n",
       "        text-align: right;\n",
       "    }\n",
       "</style>\n",
       "<table border=\"1\" class=\"dataframe\">\n",
       "  <thead>\n",
       "    <tr style=\"text-align: right;\">\n",
       "      <th>resultado</th>\n",
       "      <th>0</th>\n",
       "      <th>1</th>\n",
       "    </tr>\n",
       "    <tr>\n",
       "      <th>cuartil.1</th>\n",
       "      <th></th>\n",
       "      <th></th>\n",
       "    </tr>\n",
       "  </thead>\n",
       "  <tbody>\n",
       "    <tr>\n",
       "      <th>1</th>\n",
       "      <td>78</td>\n",
       "      <td>60</td>\n",
       "    </tr>\n",
       "    <tr>\n",
       "      <th>2</th>\n",
       "      <td>48</td>\n",
       "      <td>126</td>\n",
       "    </tr>\n",
       "    <tr>\n",
       "      <th>3</th>\n",
       "      <td>62</td>\n",
       "      <td>191</td>\n",
       "    </tr>\n",
       "    <tr>\n",
       "      <th>4</th>\n",
       "      <td>35</td>\n",
       "      <td>182</td>\n",
       "    </tr>\n",
       "  </tbody>\n",
       "</table>\n",
       "</div>"
      ],
      "text/plain": [
       "resultado   0    1\n",
       "cuartil.1         \n",
       "1          78   60\n",
       "2          48  126\n",
       "3          62  191\n",
       "4          35  182"
      ]
     },
     "execution_count": 46,
     "metadata": {},
     "output_type": "execute_result"
    }
   ],
   "source": [
    "chisq_cuartil_1 = pd.crosstab(df['cuartil.1'], df['resultado'])\n",
    "chisq_cuartil_1"
   ]
  },
  {
   "cell_type": "code",
   "execution_count": 47,
   "id": "d364a6e3-efff-48c7-9b83-a2d55d97a8fb",
   "metadata": {},
   "outputs": [
    {
     "data": {
      "text/plain": [
       "(71.50039154502348,\n",
       " 2.036727638300874e-15,\n",
       " 3,\n",
       " array([[ 39.35294118,  98.64705882],\n",
       "        [ 49.61892583, 124.38107417],\n",
       "        [ 72.14705882, 180.85294118],\n",
       "        [ 61.88107417, 155.11892583]]))"
      ]
     },
     "execution_count": 47,
     "metadata": {},
     "output_type": "execute_result"
    }
   ],
   "source": [
    "scipy.stats.contingency.chi2_contingency(chisq_cuartil_1)"
   ]
  },
  {
   "cell_type": "markdown",
   "id": "13ba5c9e-ed0b-4550-8f8b-0c2c4aa8c572",
   "metadata": {},
   "source": [
    "---"
   ]
  },
  {
   "cell_type": "markdown",
   "id": "3d70bbf7-1ec9-4f5b-8392-ff6be56d2756",
   "metadata": {},
   "source": [
    "# Racha"
   ]
  },
  {
   "cell_type": "markdown",
   "id": "8908bd3f-c756-42e6-a174-17660e4b1da3",
   "metadata": {},
   "source": [
    "## Tres últimos partidos\n",
    "---"
   ]
  },
  {
   "cell_type": "code",
   "execution_count": 48,
   "id": "e8d35cf9-bc9c-4d85-b363-4c93f2a071f3",
   "metadata": {},
   "outputs": [
    {
     "data": {
      "text/html": [
       "<div>\n",
       "<style scoped>\n",
       "    .dataframe tbody tr th:only-of-type {\n",
       "        vertical-align: middle;\n",
       "    }\n",
       "\n",
       "    .dataframe tbody tr th {\n",
       "        vertical-align: top;\n",
       "    }\n",
       "\n",
       "    .dataframe thead th {\n",
       "        text-align: right;\n",
       "    }\n",
       "</style>\n",
       "<table border=\"1\" class=\"dataframe\">\n",
       "  <thead>\n",
       "    <tr style=\"text-align: right;\">\n",
       "      <th>resultado</th>\n",
       "      <th>0</th>\n",
       "      <th>1</th>\n",
       "    </tr>\n",
       "    <tr>\n",
       "      <th>PUNTOS</th>\n",
       "      <th></th>\n",
       "      <th></th>\n",
       "    </tr>\n",
       "  </thead>\n",
       "  <tbody>\n",
       "    <tr>\n",
       "      <th>0</th>\n",
       "      <td>13</td>\n",
       "      <td>33</td>\n",
       "    </tr>\n",
       "    <tr>\n",
       "      <th>1</th>\n",
       "      <td>31</td>\n",
       "      <td>65</td>\n",
       "    </tr>\n",
       "    <tr>\n",
       "      <th>2</th>\n",
       "      <td>29</td>\n",
       "      <td>38</td>\n",
       "    </tr>\n",
       "    <tr>\n",
       "      <th>3</th>\n",
       "      <td>33</td>\n",
       "      <td>97</td>\n",
       "    </tr>\n",
       "    <tr>\n",
       "      <th>4</th>\n",
       "      <td>51</td>\n",
       "      <td>123</td>\n",
       "    </tr>\n",
       "    <tr>\n",
       "      <th>5</th>\n",
       "      <td>16</td>\n",
       "      <td>38</td>\n",
       "    </tr>\n",
       "    <tr>\n",
       "      <th>6</th>\n",
       "      <td>23</td>\n",
       "      <td>70</td>\n",
       "    </tr>\n",
       "    <tr>\n",
       "      <th>7</th>\n",
       "      <td>18</td>\n",
       "      <td>48</td>\n",
       "    </tr>\n",
       "    <tr>\n",
       "      <th>9</th>\n",
       "      <td>9</td>\n",
       "      <td>47</td>\n",
       "    </tr>\n",
       "  </tbody>\n",
       "</table>\n",
       "</div>"
      ],
      "text/plain": [
       "resultado   0    1\n",
       "PUNTOS            \n",
       "0          13   33\n",
       "1          31   65\n",
       "2          29   38\n",
       "3          33   97\n",
       "4          51  123\n",
       "5          16   38\n",
       "6          23   70\n",
       "7          18   48\n",
       "9           9   47"
      ]
     },
     "execution_count": 48,
     "metadata": {},
     "output_type": "execute_result"
    }
   ],
   "source": [
    "chisq_PUNTOS_L = pd.crosstab(df['PUNTOS'], df['resultado'])\n",
    "chisq_PUNTOS_L"
   ]
  },
  {
   "cell_type": "code",
   "execution_count": 49,
   "id": "41a24007-0312-4a84-9e48-6f1a78dd980f",
   "metadata": {},
   "outputs": [
    {
     "data": {
      "text/plain": [
       "(13.510797124854355,\n",
       " 0.09544162792640996,\n",
       " 8,\n",
       " array([[ 13.11764706,  32.88235294],\n",
       "        [ 27.37595908,  68.62404092],\n",
       "        [ 19.10613811,  47.89386189],\n",
       "        [ 37.07161125,  92.92838875],\n",
       "        [ 49.61892583, 124.38107417],\n",
       "        [ 15.39897698,  38.60102302],\n",
       "        [ 26.52046036,  66.47953964],\n",
       "        [ 18.82097187,  47.17902813],\n",
       "        [ 15.96930946,  40.03069054]]))"
      ]
     },
     "execution_count": 49,
     "metadata": {},
     "output_type": "execute_result"
    }
   ],
   "source": [
    "scipy.stats.contingency.chi2_contingency(chisq_PUNTOS_L)"
   ]
  },
  {
   "cell_type": "markdown",
   "id": "e596026c-cb4d-48b8-bdcd-6971b5ec2e2c",
   "metadata": {},
   "source": [
    "---"
   ]
  },
  {
   "cell_type": "code",
   "execution_count": 50,
   "id": "30524acb-779c-4a25-828b-f9df25f32dab",
   "metadata": {},
   "outputs": [
    {
     "data": {
      "text/html": [
       "<div>\n",
       "<style scoped>\n",
       "    .dataframe tbody tr th:only-of-type {\n",
       "        vertical-align: middle;\n",
       "    }\n",
       "\n",
       "    .dataframe tbody tr th {\n",
       "        vertical-align: top;\n",
       "    }\n",
       "\n",
       "    .dataframe thead th {\n",
       "        text-align: right;\n",
       "    }\n",
       "</style>\n",
       "<table border=\"1\" class=\"dataframe\">\n",
       "  <thead>\n",
       "    <tr style=\"text-align: right;\">\n",
       "      <th>resultado</th>\n",
       "      <th>0</th>\n",
       "      <th>1</th>\n",
       "    </tr>\n",
       "    <tr>\n",
       "      <th>Puntos Local</th>\n",
       "      <th></th>\n",
       "      <th></th>\n",
       "    </tr>\n",
       "  </thead>\n",
       "  <tbody>\n",
       "    <tr>\n",
       "      <th>menos de 3</th>\n",
       "      <td>73</td>\n",
       "      <td>136</td>\n",
       "    </tr>\n",
       "    <tr>\n",
       "      <th>de 3 a 5</th>\n",
       "      <td>100</td>\n",
       "      <td>258</td>\n",
       "    </tr>\n",
       "    <tr>\n",
       "      <th>6 o más</th>\n",
       "      <td>50</td>\n",
       "      <td>165</td>\n",
       "    </tr>\n",
       "  </tbody>\n",
       "</table>\n",
       "</div>"
      ],
      "text/plain": [
       "resultado       0    1\n",
       "Puntos Local          \n",
       "menos de 3     73  136\n",
       "de 3 a 5      100  258\n",
       "6 o más        50  165"
      ]
     },
     "execution_count": 50,
     "metadata": {},
     "output_type": "execute_result"
    }
   ],
   "source": [
    "chisq_PUNTOS_Lo = pd.crosstab(df['Puntos Local'], df['resultado'])\n",
    "chisq_PUNTOS_Lo"
   ]
  },
  {
   "cell_type": "code",
   "execution_count": 51,
   "id": "29fb51c8-ac40-4624-a4d9-eabf15f09f44",
   "metadata": {},
   "outputs": [
    {
     "data": {
      "text/plain": [
       "(7.193668928528583,\n",
       " 0.027410353711972597,\n",
       " 2,\n",
       " array([[ 59.59974425, 149.40025575],\n",
       "        [102.08951407, 255.91048593],\n",
       "        [ 61.31074169, 153.68925831]]))"
      ]
     },
     "execution_count": 51,
     "metadata": {},
     "output_type": "execute_result"
    }
   ],
   "source": [
    "scipy.stats.contingency.chi2_contingency(chisq_PUNTOS_Lo)"
   ]
  },
  {
   "cell_type": "markdown",
   "id": "0d0cb61d-70e3-4d92-a64f-985a69aca668",
   "metadata": {},
   "source": [
    "---"
   ]
  },
  {
   "cell_type": "code",
   "execution_count": 52,
   "id": "b4a0fb9f-e7fc-4999-95f4-d02357559cd3",
   "metadata": {},
   "outputs": [
    {
     "data": {
      "text/html": [
       "<div>\n",
       "<style scoped>\n",
       "    .dataframe tbody tr th:only-of-type {\n",
       "        vertical-align: middle;\n",
       "    }\n",
       "\n",
       "    .dataframe tbody tr th {\n",
       "        vertical-align: top;\n",
       "    }\n",
       "\n",
       "    .dataframe thead th {\n",
       "        text-align: right;\n",
       "    }\n",
       "</style>\n",
       "<table border=\"1\" class=\"dataframe\">\n",
       "  <thead>\n",
       "    <tr style=\"text-align: right;\">\n",
       "      <th>resultado</th>\n",
       "      <th>0</th>\n",
       "      <th>1</th>\n",
       "    </tr>\n",
       "    <tr>\n",
       "      <th>PUNTOS.1</th>\n",
       "      <th></th>\n",
       "      <th></th>\n",
       "    </tr>\n",
       "  </thead>\n",
       "  <tbody>\n",
       "    <tr>\n",
       "      <th>0</th>\n",
       "      <td>7</td>\n",
       "      <td>28</td>\n",
       "    </tr>\n",
       "    <tr>\n",
       "      <th>1</th>\n",
       "      <td>20</td>\n",
       "      <td>76</td>\n",
       "    </tr>\n",
       "    <tr>\n",
       "      <th>2</th>\n",
       "      <td>13</td>\n",
       "      <td>58</td>\n",
       "    </tr>\n",
       "    <tr>\n",
       "      <th>3</th>\n",
       "      <td>28</td>\n",
       "      <td>92</td>\n",
       "    </tr>\n",
       "    <tr>\n",
       "      <th>4</th>\n",
       "      <td>42</td>\n",
       "      <td>102</td>\n",
       "    </tr>\n",
       "    <tr>\n",
       "      <th>5</th>\n",
       "      <td>17</td>\n",
       "      <td>40</td>\n",
       "    </tr>\n",
       "    <tr>\n",
       "      <th>6</th>\n",
       "      <td>35</td>\n",
       "      <td>74</td>\n",
       "    </tr>\n",
       "    <tr>\n",
       "      <th>7</th>\n",
       "      <td>37</td>\n",
       "      <td>72</td>\n",
       "    </tr>\n",
       "    <tr>\n",
       "      <th>9</th>\n",
       "      <td>24</td>\n",
       "      <td>17</td>\n",
       "    </tr>\n",
       "  </tbody>\n",
       "</table>\n",
       "</div>"
      ],
      "text/plain": [
       "resultado   0    1\n",
       "PUNTOS.1          \n",
       "0           7   28\n",
       "1          20   76\n",
       "2          13   58\n",
       "3          28   92\n",
       "4          42  102\n",
       "5          17   40\n",
       "6          35   74\n",
       "7          37   72\n",
       "9          24   17"
      ]
     },
     "execution_count": 52,
     "metadata": {},
     "output_type": "execute_result"
    }
   ],
   "source": [
    "chisq_PUNTOS_V = pd.crosstab(df['PUNTOS.1'], df['resultado'])\n",
    "chisq_PUNTOS_V"
   ]
  },
  {
   "cell_type": "code",
   "execution_count": 53,
   "id": "0ffa4956-131b-420f-8c24-0359c4fe05d0",
   "metadata": {},
   "outputs": [
    {
     "data": {
      "text/plain": [
       "(29.705354066222036,\n",
       " 0.0002382813374808266,\n",
       " 8,\n",
       " array([[  9.98081841,  25.01918159],\n",
       "        [ 27.37595908,  68.62404092],\n",
       "        [ 20.24680307,  50.75319693],\n",
       "        [ 34.21994885,  85.78005115],\n",
       "        [ 41.06393862, 102.93606138],\n",
       "        [ 16.2544757 ,  40.7455243 ],\n",
       "        [ 31.0831202 ,  77.9168798 ],\n",
       "        [ 31.0831202 ,  77.9168798 ],\n",
       "        [ 11.69181586,  29.30818414]]))"
      ]
     },
     "execution_count": 53,
     "metadata": {},
     "output_type": "execute_result"
    }
   ],
   "source": [
    "scipy.stats.contingency.chi2_contingency(chisq_PUNTOS_V)\n",
    "#p-value= 0.0002\n",
    "#critical value = 29.7"
   ]
  },
  {
   "cell_type": "markdown",
   "id": "7c60bb44-e017-4b9b-a4b1-f583582e0fc2",
   "metadata": {},
   "source": [
    "---"
   ]
  },
  {
   "cell_type": "code",
   "execution_count": 54,
   "id": "a320e320-4c25-42ac-911c-1ff8290a095c",
   "metadata": {},
   "outputs": [
    {
     "data": {
      "text/html": [
       "<div>\n",
       "<style scoped>\n",
       "    .dataframe tbody tr th:only-of-type {\n",
       "        vertical-align: middle;\n",
       "    }\n",
       "\n",
       "    .dataframe tbody tr th {\n",
       "        vertical-align: top;\n",
       "    }\n",
       "\n",
       "    .dataframe thead th {\n",
       "        text-align: right;\n",
       "    }\n",
       "</style>\n",
       "<table border=\"1\" class=\"dataframe\">\n",
       "  <thead>\n",
       "    <tr style=\"text-align: right;\">\n",
       "      <th>resultado</th>\n",
       "      <th>0</th>\n",
       "      <th>1</th>\n",
       "    </tr>\n",
       "    <tr>\n",
       "      <th>Puntos Visitante</th>\n",
       "      <th></th>\n",
       "      <th></th>\n",
       "    </tr>\n",
       "  </thead>\n",
       "  <tbody>\n",
       "    <tr>\n",
       "      <th>menos de 3</th>\n",
       "      <td>40</td>\n",
       "      <td>162</td>\n",
       "    </tr>\n",
       "    <tr>\n",
       "      <th>de 3 a 5</th>\n",
       "      <td>87</td>\n",
       "      <td>234</td>\n",
       "    </tr>\n",
       "    <tr>\n",
       "      <th>6 o más</th>\n",
       "      <td>96</td>\n",
       "      <td>163</td>\n",
       "    </tr>\n",
       "  </tbody>\n",
       "</table>\n",
       "</div>"
      ],
      "text/plain": [
       "resultado          0    1\n",
       "Puntos Visitante         \n",
       "menos de 3        40  162\n",
       "de 3 a 5          87  234\n",
       "6 o más           96  163"
      ]
     },
     "execution_count": 54,
     "metadata": {},
     "output_type": "execute_result"
    }
   ],
   "source": [
    "chisq_PUNTOS_Vi = pd.crosstab(df['Puntos Visitante'], df['resultado'])\n",
    "chisq_PUNTOS_Vi"
   ]
  },
  {
   "cell_type": "code",
   "execution_count": 55,
   "id": "c50845d3-c164-46fb-adfb-0550a3ae49f9",
   "metadata": {},
   "outputs": [
    {
     "data": {
      "text/plain": [
       "(17.126475369060014,\n",
       " 0.00019099989406906807,\n",
       " 2,\n",
       " array([[ 57.60358056, 144.39641944],\n",
       "        [ 91.53836317, 229.46163683],\n",
       "        [ 73.85805627, 185.14194373]]))"
      ]
     },
     "execution_count": 55,
     "metadata": {},
     "output_type": "execute_result"
    }
   ],
   "source": [
    "scipy.stats.contingency.chi2_contingency(chisq_PUNTOS_Vi)"
   ]
  },
  {
   "cell_type": "markdown",
   "id": "fd336914-2036-4a6e-a037-87c4ade0c25c",
   "metadata": {},
   "source": [
    "---"
   ]
  },
  {
   "cell_type": "markdown",
   "id": "d5668804-0f1e-485a-a649-c6b06c72c7b0",
   "metadata": {},
   "source": [
    "## Último partido\n",
    "---"
   ]
  },
  {
   "cell_type": "code",
   "execution_count": 56,
   "id": "b2fc7827-f108-427c-bbdb-a3d409cb7c0e",
   "metadata": {},
   "outputs": [
    {
     "data": {
      "text/html": [
       "<div>\n",
       "<style scoped>\n",
       "    .dataframe tbody tr th:only-of-type {\n",
       "        vertical-align: middle;\n",
       "    }\n",
       "\n",
       "    .dataframe tbody tr th {\n",
       "        vertical-align: top;\n",
       "    }\n",
       "\n",
       "    .dataframe thead th {\n",
       "        text-align: right;\n",
       "    }\n",
       "</style>\n",
       "<table border=\"1\" class=\"dataframe\">\n",
       "  <thead>\n",
       "    <tr style=\"text-align: right;\">\n",
       "      <th>resultado</th>\n",
       "      <th>0</th>\n",
       "      <th>1</th>\n",
       "    </tr>\n",
       "    <tr>\n",
       "      <th>último partido como local</th>\n",
       "      <th></th>\n",
       "      <th></th>\n",
       "    </tr>\n",
       "  </thead>\n",
       "  <tbody>\n",
       "    <tr>\n",
       "      <th>0</th>\n",
       "      <td>60</td>\n",
       "      <td>167</td>\n",
       "    </tr>\n",
       "    <tr>\n",
       "      <th>1</th>\n",
       "      <td>78</td>\n",
       "      <td>143</td>\n",
       "    </tr>\n",
       "    <tr>\n",
       "      <th>3</th>\n",
       "      <td>85</td>\n",
       "      <td>249</td>\n",
       "    </tr>\n",
       "  </tbody>\n",
       "</table>\n",
       "</div>"
      ],
      "text/plain": [
       "resultado                   0    1\n",
       "último partido como local         \n",
       "0                          60  167\n",
       "1                          78  143\n",
       "3                          85  249"
      ]
     },
     "execution_count": 56,
     "metadata": {},
     "output_type": "execute_result"
    }
   ],
   "source": [
    "chisq_UPL = pd.crosstab(df['último partido como local'], df['resultado'])\n",
    "chisq_UPL"
   ]
  },
  {
   "cell_type": "code",
   "execution_count": 57,
   "id": "66bc0e6f-7099-429a-8886-74263734f535",
   "metadata": {},
   "outputs": [
    {
     "data": {
      "text/plain": [
       "(7.005800087219117,\n",
       " 0.03010993655465161,\n",
       " 2,\n",
       " array([[ 64.73273657, 162.26726343],\n",
       "        [ 63.02173913, 157.97826087],\n",
       "        [ 95.2455243 , 238.7544757 ]]))"
      ]
     },
     "execution_count": 57,
     "metadata": {},
     "output_type": "execute_result"
    }
   ],
   "source": [
    "scipy.stats.contingency.chi2_contingency(chisq_UPL)\n",
    "#p-value= 0.03\n",
    "#critical value = 7.0"
   ]
  },
  {
   "cell_type": "markdown",
   "id": "7e26dff2-1769-4f2b-a14d-5ecb2479187c",
   "metadata": {},
   "source": [
    "---"
   ]
  },
  {
   "cell_type": "code",
   "execution_count": 58,
   "id": "1ffa2add-ef62-454b-bb2a-f7ef5432bbbe",
   "metadata": {},
   "outputs": [
    {
     "data": {
      "text/html": [
       "<div>\n",
       "<style scoped>\n",
       "    .dataframe tbody tr th:only-of-type {\n",
       "        vertical-align: middle;\n",
       "    }\n",
       "\n",
       "    .dataframe tbody tr th {\n",
       "        vertical-align: top;\n",
       "    }\n",
       "\n",
       "    .dataframe thead th {\n",
       "        text-align: right;\n",
       "    }\n",
       "</style>\n",
       "<table border=\"1\" class=\"dataframe\">\n",
       "  <thead>\n",
       "    <tr style=\"text-align: right;\">\n",
       "      <th>resultado</th>\n",
       "      <th>0</th>\n",
       "      <th>1</th>\n",
       "    </tr>\n",
       "    <tr>\n",
       "      <th>último partido</th>\n",
       "      <th></th>\n",
       "      <th></th>\n",
       "    </tr>\n",
       "  </thead>\n",
       "  <tbody>\n",
       "    <tr>\n",
       "      <th>0</th>\n",
       "      <td>101</td>\n",
       "      <td>219</td>\n",
       "    </tr>\n",
       "    <tr>\n",
       "      <th>1</th>\n",
       "      <td>62</td>\n",
       "      <td>145</td>\n",
       "    </tr>\n",
       "    <tr>\n",
       "      <th>3</th>\n",
       "      <td>60</td>\n",
       "      <td>195</td>\n",
       "    </tr>\n",
       "  </tbody>\n",
       "</table>\n",
       "</div>"
      ],
      "text/plain": [
       "resultado         0    1\n",
       "último partido          \n",
       "0               101  219\n",
       "1                62  145\n",
       "3                60  195"
      ]
     },
     "execution_count": 58,
     "metadata": {},
     "output_type": "execute_result"
    }
   ],
   "source": [
    "chisq_UP = pd.crosstab(df['último partido'], df['resultado'])\n",
    "chisq_UP"
   ]
  },
  {
   "cell_type": "code",
   "execution_count": 59,
   "id": "c0cbe208-8b79-45a9-801a-3919541282f1",
   "metadata": {},
   "outputs": [
    {
     "data": {
      "text/plain": [
       "(4.77687361898828,\n",
       " 0.09177303053927773,\n",
       " 2,\n",
       " array([[ 91.25319693, 228.74680307],\n",
       "        [ 59.02941176, 147.97058824],\n",
       "        [ 72.7173913 , 182.2826087 ]]))"
      ]
     },
     "execution_count": 59,
     "metadata": {},
     "output_type": "execute_result"
    }
   ],
   "source": [
    "scipy.stats.contingency.chi2_contingency(chisq_UP)"
   ]
  },
  {
   "cell_type": "markdown",
   "id": "32dab8c2-20ca-4def-bba6-140741ac1033",
   "metadata": {},
   "source": [
    "---"
   ]
  },
  {
   "cell_type": "code",
   "execution_count": 60,
   "id": "dfe47a25-cd9a-4fb3-9b9c-91ba84fedfe1",
   "metadata": {},
   "outputs": [
    {
     "data": {
      "text/html": [
       "<div>\n",
       "<style scoped>\n",
       "    .dataframe tbody tr th:only-of-type {\n",
       "        vertical-align: middle;\n",
       "    }\n",
       "\n",
       "    .dataframe tbody tr th {\n",
       "        vertical-align: top;\n",
       "    }\n",
       "\n",
       "    .dataframe thead th {\n",
       "        text-align: right;\n",
       "    }\n",
       "</style>\n",
       "<table border=\"1\" class=\"dataframe\">\n",
       "  <thead>\n",
       "    <tr style=\"text-align: right;\">\n",
       "      <th>resultado</th>\n",
       "      <th>0</th>\n",
       "      <th>1</th>\n",
       "    </tr>\n",
       "    <tr>\n",
       "      <th>último partido.1</th>\n",
       "      <th></th>\n",
       "      <th></th>\n",
       "    </tr>\n",
       "  </thead>\n",
       "  <tbody>\n",
       "    <tr>\n",
       "      <th>0</th>\n",
       "      <td>66</td>\n",
       "      <td>181</td>\n",
       "    </tr>\n",
       "    <tr>\n",
       "      <th>1</th>\n",
       "      <td>64</td>\n",
       "      <td>163</td>\n",
       "    </tr>\n",
       "    <tr>\n",
       "      <th>3</th>\n",
       "      <td>93</td>\n",
       "      <td>215</td>\n",
       "    </tr>\n",
       "  </tbody>\n",
       "</table>\n",
       "</div>"
      ],
      "text/plain": [
       "resultado          0    1\n",
       "último partido.1         \n",
       "0                 66  181\n",
       "1                 64  163\n",
       "3                 93  215"
      ]
     },
     "execution_count": 60,
     "metadata": {},
     "output_type": "execute_result"
    }
   ],
   "source": [
    "chisq_UPV = pd.crosstab(df['último partido.1'], df['resultado'])\n",
    "chisq_UPV"
   ]
  },
  {
   "cell_type": "code",
   "execution_count": 61,
   "id": "4de16f55-d12a-4ae0-9398-8a663d94a4b9",
   "metadata": {},
   "outputs": [
    {
     "data": {
      "text/plain": [
       "(0.8279644259860474,\n",
       " 0.6610127085990075,\n",
       " 2,\n",
       " array([[ 70.43606138, 176.56393862],\n",
       "        [ 64.73273657, 162.26726343],\n",
       "        [ 87.83120205, 220.16879795]]))"
      ]
     },
     "execution_count": 61,
     "metadata": {},
     "output_type": "execute_result"
    }
   ],
   "source": [
    "scipy.stats.contingency.chi2_contingency(chisq_UPV)"
   ]
  },
  {
   "cell_type": "markdown",
   "id": "379e9afc-52ce-49f6-9cc1-2057824b1066",
   "metadata": {},
   "source": [
    "---"
   ]
  },
  {
   "cell_type": "markdown",
   "id": "95ff5212-51e5-4559-a9ef-47995c6ed4a9",
   "metadata": {},
   "source": [
    "# Goles"
   ]
  },
  {
   "cell_type": "markdown",
   "id": "1191db23-2793-4105-b650-5d191c47a22a",
   "metadata": {},
   "source": [
    "## Local\n",
    "---"
   ]
  },
  {
   "cell_type": "code",
   "execution_count": 62,
   "id": "de448c11-e2ba-49e5-a9c0-5cebcb5e6186",
   "metadata": {},
   "outputs": [
    {
     "data": {
      "text/html": [
       "<div>\n",
       "<style scoped>\n",
       "    .dataframe tbody tr th:only-of-type {\n",
       "        vertical-align: middle;\n",
       "    }\n",
       "\n",
       "    .dataframe tbody tr th {\n",
       "        vertical-align: top;\n",
       "    }\n",
       "\n",
       "    .dataframe thead th {\n",
       "        text-align: right;\n",
       "    }\n",
       "</style>\n",
       "<table border=\"1\" class=\"dataframe\">\n",
       "  <thead>\n",
       "    <tr style=\"text-align: right;\">\n",
       "      <th>resultado</th>\n",
       "      <th>0</th>\n",
       "      <th>1</th>\n",
       "    </tr>\n",
       "    <tr>\n",
       "      <th>GF_local</th>\n",
       "      <th></th>\n",
       "      <th></th>\n",
       "    </tr>\n",
       "  </thead>\n",
       "  <tbody>\n",
       "    <tr>\n",
       "      <th>0-1.33</th>\n",
       "      <td>164</td>\n",
       "      <td>326</td>\n",
       "    </tr>\n",
       "    <tr>\n",
       "      <th>&gt;1.33</th>\n",
       "      <td>59</td>\n",
       "      <td>233</td>\n",
       "    </tr>\n",
       "  </tbody>\n",
       "</table>\n",
       "</div>"
      ],
      "text/plain": [
       "resultado    0    1\n",
       "GF_local           \n",
       "0-1.33     164  326\n",
       ">1.33       59  233"
      ]
     },
     "execution_count": 62,
     "metadata": {},
     "output_type": "execute_result"
    }
   ],
   "source": [
    "chisq_gfl = pd.crosstab(df['GF_local'], df['resultado'])\n",
    "chisq_gfl"
   ]
  },
  {
   "cell_type": "code",
   "execution_count": 63,
   "id": "a3c5bf29-0bda-4dc0-85d9-98e4bfa4a051",
   "metadata": {},
   "outputs": [
    {
     "data": {
      "text/plain": [
       "(15.147108925936656,\n",
       " 9.945047837752263e-05,\n",
       " 1,\n",
       " array([[139.7314578, 350.2685422],\n",
       "        [ 83.2685422, 208.7314578]]))"
      ]
     },
     "execution_count": 63,
     "metadata": {},
     "output_type": "execute_result"
    }
   ],
   "source": [
    "scipy.stats.contingency.chi2_contingency(chisq_gfl)"
   ]
  },
  {
   "cell_type": "markdown",
   "id": "38baf504-6c68-46d9-a475-b5a5ae1bab76",
   "metadata": {},
   "source": [
    "---"
   ]
  },
  {
   "cell_type": "code",
   "execution_count": 64,
   "id": "4ecc5891-b500-44f7-9e06-724aa9ebc170",
   "metadata": {},
   "outputs": [
    {
     "data": {
      "text/html": [
       "<div>\n",
       "<style scoped>\n",
       "    .dataframe tbody tr th:only-of-type {\n",
       "        vertical-align: middle;\n",
       "    }\n",
       "\n",
       "    .dataframe tbody tr th {\n",
       "        vertical-align: top;\n",
       "    }\n",
       "\n",
       "    .dataframe thead th {\n",
       "        text-align: right;\n",
       "    }\n",
       "</style>\n",
       "<table border=\"1\" class=\"dataframe\">\n",
       "  <thead>\n",
       "    <tr style=\"text-align: right;\">\n",
       "      <th>resultado</th>\n",
       "      <th>0</th>\n",
       "      <th>1</th>\n",
       "    </tr>\n",
       "    <tr>\n",
       "      <th>GC_local</th>\n",
       "      <th></th>\n",
       "      <th></th>\n",
       "    </tr>\n",
       "  </thead>\n",
       "  <tbody>\n",
       "    <tr>\n",
       "      <th>(-0.001, 1.309]</th>\n",
       "      <td>154</td>\n",
       "      <td>393</td>\n",
       "    </tr>\n",
       "    <tr>\n",
       "      <th>(1.309, 4.0]</th>\n",
       "      <td>69</td>\n",
       "      <td>166</td>\n",
       "    </tr>\n",
       "  </tbody>\n",
       "</table>\n",
       "</div>"
      ],
      "text/plain": [
       "resultado          0    1\n",
       "GC_local                 \n",
       "(-0.001, 1.309]  154  393\n",
       "(1.309, 4.0]      69  166"
      ]
     },
     "execution_count": 64,
     "metadata": {},
     "output_type": "execute_result"
    }
   ],
   "source": [
    "chisq_gcl = pd.crosstab(df['GC_local'], df['resultado'])\n",
    "chisq_gcl"
   ]
  },
  {
   "cell_type": "code",
   "execution_count": 65,
   "id": "bf09a35a-57e9-44a5-9c5a-b332b93df6b2",
   "metadata": {},
   "outputs": [
    {
     "data": {
      "text/plain": [
       "(0.06589419391626852,\n",
       " 0.7974114182844008,\n",
       " 1,\n",
       " array([[155.9859335, 391.0140665],\n",
       "        [ 67.0140665, 167.9859335]]))"
      ]
     },
     "execution_count": 65,
     "metadata": {},
     "output_type": "execute_result"
    }
   ],
   "source": [
    "scipy.stats.contingency.chi2_contingency(chisq_gcl)"
   ]
  },
  {
   "cell_type": "markdown",
   "id": "d7665631-9252-4282-a66a-712c997ed35d",
   "metadata": {},
   "source": [
    "---"
   ]
  },
  {
   "cell_type": "markdown",
   "id": "04723a1b-95dc-4ede-b61d-a394270aadc6",
   "metadata": {},
   "source": [
    "## Visitante"
   ]
  },
  {
   "cell_type": "markdown",
   "id": "4e30074f-cf5d-4114-9442-1c58e4744b6a",
   "metadata": {},
   "source": [
    "---"
   ]
  },
  {
   "cell_type": "code",
   "execution_count": 66,
   "id": "17276fc5-a8a5-4d75-a734-afe79efbfd31",
   "metadata": {},
   "outputs": [
    {
     "data": {
      "text/html": [
       "<div>\n",
       "<style scoped>\n",
       "    .dataframe tbody tr th:only-of-type {\n",
       "        vertical-align: middle;\n",
       "    }\n",
       "\n",
       "    .dataframe tbody tr th {\n",
       "        vertical-align: top;\n",
       "    }\n",
       "\n",
       "    .dataframe thead th {\n",
       "        text-align: right;\n",
       "    }\n",
       "</style>\n",
       "<table border=\"1\" class=\"dataframe\">\n",
       "  <thead>\n",
       "    <tr style=\"text-align: right;\">\n",
       "      <th>resultado</th>\n",
       "      <th>0</th>\n",
       "      <th>1</th>\n",
       "    </tr>\n",
       "    <tr>\n",
       "      <th>GF_visitante</th>\n",
       "      <th></th>\n",
       "      <th></th>\n",
       "    </tr>\n",
       "  </thead>\n",
       "  <tbody>\n",
       "    <tr>\n",
       "      <th>0-1.1</th>\n",
       "      <td>94</td>\n",
       "      <td>380</td>\n",
       "    </tr>\n",
       "    <tr>\n",
       "      <th>&gt;1.1</th>\n",
       "      <td>129</td>\n",
       "      <td>179</td>\n",
       "    </tr>\n",
       "  </tbody>\n",
       "</table>\n",
       "</div>"
      ],
      "text/plain": [
       "resultado       0    1\n",
       "GF_visitante          \n",
       "0-1.1          94  380\n",
       ">1.1          129  179"
      ]
     },
     "execution_count": 66,
     "metadata": {},
     "output_type": "execute_result"
    }
   ],
   "source": [
    "chisq_gfv = pd.crosstab(df['GF_visitante'], df['resultado'])\n",
    "chisq_gfv"
   ]
  },
  {
   "cell_type": "code",
   "execution_count": 67,
   "id": "ce91109d-9e5e-4c3a-b7e8-49046619cfea",
   "metadata": {},
   "outputs": [
    {
     "data": {
      "text/plain": [
       "(43.46074857520164,\n",
       " 4.3254918929059894e-11,\n",
       " 1,\n",
       " array([[135.16879795, 338.83120205],\n",
       "        [ 87.83120205, 220.16879795]]))"
      ]
     },
     "execution_count": 67,
     "metadata": {},
     "output_type": "execute_result"
    }
   ],
   "source": [
    "scipy.stats.contingency.chi2_contingency(chisq_gfv)"
   ]
  },
  {
   "cell_type": "markdown",
   "id": "5888e91d-a5dc-4e38-9817-f81e63d87f1a",
   "metadata": {},
   "source": [
    "---"
   ]
  },
  {
   "cell_type": "code",
   "execution_count": 68,
   "id": "f4f16b0e-255a-4093-b41e-6526f546b782",
   "metadata": {},
   "outputs": [
    {
     "data": {
      "text/html": [
       "<div>\n",
       "<style scoped>\n",
       "    .dataframe tbody tr th:only-of-type {\n",
       "        vertical-align: middle;\n",
       "    }\n",
       "\n",
       "    .dataframe tbody tr th {\n",
       "        vertical-align: top;\n",
       "    }\n",
       "\n",
       "    .dataframe thead th {\n",
       "        text-align: right;\n",
       "    }\n",
       "</style>\n",
       "<table border=\"1\" class=\"dataframe\">\n",
       "  <thead>\n",
       "    <tr style=\"text-align: right;\">\n",
       "      <th>resultado</th>\n",
       "      <th>0</th>\n",
       "      <th>1</th>\n",
       "    </tr>\n",
       "    <tr>\n",
       "      <th>GC_visitante</th>\n",
       "      <th></th>\n",
       "      <th></th>\n",
       "    </tr>\n",
       "  </thead>\n",
       "  <tbody>\n",
       "    <tr>\n",
       "      <th>0-1.1</th>\n",
       "      <td>140</td>\n",
       "      <td>292</td>\n",
       "    </tr>\n",
       "    <tr>\n",
       "      <th>&gt;1.4</th>\n",
       "      <td>83</td>\n",
       "      <td>267</td>\n",
       "    </tr>\n",
       "  </tbody>\n",
       "</table>\n",
       "</div>"
      ],
      "text/plain": [
       "resultado       0    1\n",
       "GC_visitante          \n",
       "0-1.1         140  292\n",
       ">1.4           83  267"
      ]
     },
     "execution_count": 68,
     "metadata": {},
     "output_type": "execute_result"
    }
   ],
   "source": [
    "chisq_gcv = pd.crosstab(df['GC_visitante'], df['resultado'])\n",
    "chisq_gcv"
   ]
  },
  {
   "cell_type": "code",
   "execution_count": 69,
   "id": "451a6f61-fcbf-4f6c-a296-594215b4c294",
   "metadata": {},
   "outputs": [
    {
     "data": {
      "text/plain": [
       "(6.747812560523219,\n",
       " 0.009386269127370643,\n",
       " 1,\n",
       " array([[123.19181586, 308.80818414],\n",
       "        [ 99.80818414, 250.19181586]]))"
      ]
     },
     "execution_count": 69,
     "metadata": {},
     "output_type": "execute_result"
    }
   ],
   "source": [
    "scipy.stats.contingency.chi2_contingency(chisq_gcv)"
   ]
  },
  {
   "cell_type": "markdown",
   "id": "44108000-e9bd-42ba-8d64-95edfa13546e",
   "metadata": {},
   "source": [
    "---"
   ]
  },
  {
   "cell_type": "markdown",
   "id": "04059779-7fe9-4940-a7a7-44b025a0b28b",
   "metadata": {},
   "source": [
    "## Desempeño del equipo"
   ]
  },
  {
   "cell_type": "code",
   "execution_count": 70,
   "id": "1997ac36-38c2-47ac-b473-b3b60ea20da7",
   "metadata": {},
   "outputs": [
    {
     "data": {
      "text/html": [
       "<div>\n",
       "<style scoped>\n",
       "    .dataframe tbody tr th:only-of-type {\n",
       "        vertical-align: middle;\n",
       "    }\n",
       "\n",
       "    .dataframe tbody tr th {\n",
       "        vertical-align: top;\n",
       "    }\n",
       "\n",
       "    .dataframe thead th {\n",
       "        text-align: right;\n",
       "    }\n",
       "</style>\n",
       "<table border=\"1\" class=\"dataframe\">\n",
       "  <thead>\n",
       "    <tr style=\"text-align: right;\">\n",
       "      <th>resultado</th>\n",
       "      <th>0</th>\n",
       "      <th>1</th>\n",
       "    </tr>\n",
       "    <tr>\n",
       "      <th>MPSP_l</th>\n",
       "      <th></th>\n",
       "      <th></th>\n",
       "    </tr>\n",
       "  </thead>\n",
       "  <tbody>\n",
       "    <tr>\n",
       "      <th>(0.999, 2.27]</th>\n",
       "      <td>110</td>\n",
       "      <td>203</td>\n",
       "    </tr>\n",
       "    <tr>\n",
       "      <th>(2.27, 12.0]</th>\n",
       "      <td>113</td>\n",
       "      <td>356</td>\n",
       "    </tr>\n",
       "  </tbody>\n",
       "</table>\n",
       "</div>"
      ],
      "text/plain": [
       "resultado        0    1\n",
       "MPSP_l                 \n",
       "(0.999, 2.27]  110  203\n",
       "(2.27, 12.0]   113  356"
      ]
     },
     "execution_count": 70,
     "metadata": {},
     "output_type": "execute_result"
    }
   ],
   "source": [
    "chisq_mpsp_l = pd.crosstab(df['MPSP_l'], df['resultado'])\n",
    "chisq_mpsp_l"
   ]
  },
  {
   "cell_type": "code",
   "execution_count": 71,
   "id": "d6a3c7ca-d39b-49d7-95ed-3c1992da5079",
   "metadata": {},
   "outputs": [
    {
     "data": {
      "text/plain": [
       "(10.708650177756185,\n",
       " 0.0010663579795360774,\n",
       " 1,\n",
       " array([[ 89.25703325, 223.74296675],\n",
       "        [133.74296675, 335.25703325]]))"
      ]
     },
     "execution_count": 71,
     "metadata": {},
     "output_type": "execute_result"
    }
   ],
   "source": [
    "scipy.stats.contingency.chi2_contingency(chisq_mpsp_l)"
   ]
  },
  {
   "cell_type": "markdown",
   "id": "c5465fcc-40ab-49fe-9fe9-e17c294dbf50",
   "metadata": {},
   "source": [
    "---"
   ]
  },
  {
   "cell_type": "code",
   "execution_count": 72,
   "id": "1b01b1b5-db3b-41ae-9f6b-ccb8bb55a021",
   "metadata": {},
   "outputs": [
    {
     "data": {
      "text/html": [
       "<div>\n",
       "<style scoped>\n",
       "    .dataframe tbody tr th:only-of-type {\n",
       "        vertical-align: middle;\n",
       "    }\n",
       "\n",
       "    .dataframe tbody tr th {\n",
       "        vertical-align: top;\n",
       "    }\n",
       "\n",
       "    .dataframe thead th {\n",
       "        text-align: right;\n",
       "    }\n",
       "</style>\n",
       "<table border=\"1\" class=\"dataframe\">\n",
       "  <thead>\n",
       "    <tr style=\"text-align: right;\">\n",
       "      <th>resultado</th>\n",
       "      <th>0</th>\n",
       "      <th>1</th>\n",
       "    </tr>\n",
       "    <tr>\n",
       "      <th>MPSG_l</th>\n",
       "      <th></th>\n",
       "      <th></th>\n",
       "    </tr>\n",
       "  </thead>\n",
       "  <tbody>\n",
       "    <tr>\n",
       "      <th>(-0.001, 2.25]</th>\n",
       "      <td>63</td>\n",
       "      <td>257</td>\n",
       "    </tr>\n",
       "    <tr>\n",
       "      <th>(2.25, 11.0]</th>\n",
       "      <td>160</td>\n",
       "      <td>302</td>\n",
       "    </tr>\n",
       "  </tbody>\n",
       "</table>\n",
       "</div>"
      ],
      "text/plain": [
       "resultado         0    1\n",
       "MPSG_l                  \n",
       "(-0.001, 2.25]   63  257\n",
       "(2.25, 11.0]    160  302"
      ]
     },
     "execution_count": 72,
     "metadata": {},
     "output_type": "execute_result"
    }
   ],
   "source": [
    "chisq_mpsg_l = pd.crosstab(df['MPSG_l'], df['resultado'])\n",
    "chisq_mpsg_l"
   ]
  },
  {
   "cell_type": "code",
   "execution_count": 73,
   "id": "b07cc13e-53a9-4c42-906f-1ade007ccfbf",
   "metadata": {},
   "outputs": [
    {
     "data": {
      "text/plain": [
       "(19.98654239256329,\n",
       " 7.798912135788443e-06,\n",
       " 1,\n",
       " array([[ 91.25319693, 228.74680307],\n",
       "        [131.74680307, 330.25319693]]))"
      ]
     },
     "execution_count": 73,
     "metadata": {},
     "output_type": "execute_result"
    }
   ],
   "source": [
    "scipy.stats.contingency.chi2_contingency(chisq_mpsg_l)"
   ]
  },
  {
   "cell_type": "markdown",
   "id": "53448979-3546-4290-9cfe-efd8a4d3d602",
   "metadata": {},
   "source": [
    "---"
   ]
  },
  {
   "cell_type": "code",
   "execution_count": 74,
   "id": "3304bf50-06ea-43c4-b3b1-46b2411bc330",
   "metadata": {},
   "outputs": [
    {
     "data": {
      "text/html": [
       "<div>\n",
       "<style scoped>\n",
       "    .dataframe tbody tr th:only-of-type {\n",
       "        vertical-align: middle;\n",
       "    }\n",
       "\n",
       "    .dataframe tbody tr th {\n",
       "        vertical-align: top;\n",
       "    }\n",
       "\n",
       "    .dataframe thead th {\n",
       "        text-align: right;\n",
       "    }\n",
       "</style>\n",
       "<table border=\"1\" class=\"dataframe\">\n",
       "  <thead>\n",
       "    <tr style=\"text-align: right;\">\n",
       "      <th>resultado</th>\n",
       "      <th>0</th>\n",
       "      <th>1</th>\n",
       "    </tr>\n",
       "    <tr>\n",
       "      <th>MPSP_v</th>\n",
       "      <th></th>\n",
       "      <th></th>\n",
       "    </tr>\n",
       "  </thead>\n",
       "  <tbody>\n",
       "    <tr>\n",
       "      <th>(0.999, 2.233]</th>\n",
       "      <td>50</td>\n",
       "      <td>263</td>\n",
       "    </tr>\n",
       "    <tr>\n",
       "      <th>(2.233, 12.0]</th>\n",
       "      <td>173</td>\n",
       "      <td>296</td>\n",
       "    </tr>\n",
       "  </tbody>\n",
       "</table>\n",
       "</div>"
      ],
      "text/plain": [
       "resultado         0    1\n",
       "MPSP_v                  \n",
       "(0.999, 2.233]   50  263\n",
       "(2.233, 12.0]   173  296"
      ]
     },
     "execution_count": 74,
     "metadata": {},
     "output_type": "execute_result"
    }
   ],
   "source": [
    "chisq_mpsp_v = pd.crosstab(df['MPSP_v'], df['resultado'])\n",
    "chisq_mpsp_v"
   ]
  },
  {
   "cell_type": "code",
   "execution_count": 75,
   "id": "7bc356c2-9f53-40b6-bd7c-dfad271ab1df",
   "metadata": {},
   "outputs": [
    {
     "data": {
      "text/plain": [
       "(39.25432004632276,\n",
       " 3.720442947657314e-10,\n",
       " 1,\n",
       " array([[ 89.25703325, 223.74296675],\n",
       "        [133.74296675, 335.25703325]]))"
      ]
     },
     "execution_count": 75,
     "metadata": {},
     "output_type": "execute_result"
    }
   ],
   "source": [
    "scipy.stats.contingency.chi2_contingency(chisq_mpsp_v)"
   ]
  },
  {
   "cell_type": "markdown",
   "id": "f5a0de08-405c-409c-941e-1291d99a069b",
   "metadata": {},
   "source": [
    "---"
   ]
  },
  {
   "cell_type": "code",
   "execution_count": 76,
   "id": "0435e00e-62f6-42db-8c80-d391324f5690",
   "metadata": {},
   "outputs": [
    {
     "data": {
      "text/html": [
       "<div>\n",
       "<style scoped>\n",
       "    .dataframe tbody tr th:only-of-type {\n",
       "        vertical-align: middle;\n",
       "    }\n",
       "\n",
       "    .dataframe tbody tr th {\n",
       "        vertical-align: top;\n",
       "    }\n",
       "\n",
       "    .dataframe thead th {\n",
       "        text-align: right;\n",
       "    }\n",
       "</style>\n",
       "<table border=\"1\" class=\"dataframe\">\n",
       "  <thead>\n",
       "    <tr style=\"text-align: right;\">\n",
       "      <th>resultado</th>\n",
       "      <th>0</th>\n",
       "      <th>1</th>\n",
       "    </tr>\n",
       "    <tr>\n",
       "      <th>MPSG_v</th>\n",
       "      <th></th>\n",
       "      <th></th>\n",
       "    </tr>\n",
       "  </thead>\n",
       "  <tbody>\n",
       "    <tr>\n",
       "      <th>(-0.001, 2.25]</th>\n",
       "      <td>134</td>\n",
       "      <td>181</td>\n",
       "    </tr>\n",
       "    <tr>\n",
       "      <th>(2.25, 11.0]</th>\n",
       "      <td>89</td>\n",
       "      <td>378</td>\n",
       "    </tr>\n",
       "  </tbody>\n",
       "</table>\n",
       "</div>"
      ],
      "text/plain": [
       "resultado         0    1\n",
       "MPSG_v                  \n",
       "(-0.001, 2.25]  134  181\n",
       "(2.25, 11.0]     89  378"
      ]
     },
     "execution_count": 76,
     "metadata": {},
     "output_type": "execute_result"
    }
   ],
   "source": [
    "chisq_mpsg_v = pd.crosstab(df['MPSG_v'], df['resultado'])\n",
    "chisq_mpsg_v"
   ]
  },
  {
   "cell_type": "code",
   "execution_count": 77,
   "id": "65d071c1-6ecf-4c51-909f-c67549d19a96",
   "metadata": {},
   "outputs": [
    {
     "data": {
      "text/plain": [
       "(49.738757407653004,\n",
       " 1.7564176501078598e-12,\n",
       " 1,\n",
       " array([[ 89.82736573, 225.17263427],\n",
       "        [133.17263427, 333.82736573]]))"
      ]
     },
     "execution_count": 77,
     "metadata": {},
     "output_type": "execute_result"
    }
   ],
   "source": [
    "scipy.stats.contingency.chi2_contingency(chisq_mpsg_v)"
   ]
  },
  {
   "cell_type": "markdown",
   "id": "09dc0545-af93-475a-b660-c547c2316cc5",
   "metadata": {},
   "source": [
    "---"
   ]
  },
  {
   "cell_type": "code",
   "execution_count": 87,
   "id": "fe736e09-81ba-4198-a18d-addbd1555cad",
   "metadata": {},
   "outputs": [
    {
     "data": {
      "text/plain": [
       "(array([19.,  3.,  7., 11., 32., 21., 49., 48., 40., 76., 36., 41., 52.,\n",
       "        59., 50., 50., 32., 11., 38., 22., 18., 17., 14., 12.,  3.,  3.,\n",
       "         0., 10.,  0.,  1.,  1.,  1.,  0.,  1.,  0.,  0.,  2.,  0.,  0.,\n",
       "         0.,  0.,  0.,  0.,  0.,  0.,  1.,  0.,  0.,  0.,  1.]),\n",
       " array([0.  , 0.11, 0.22, 0.33, 0.44, 0.55, 0.66, 0.77, 0.88, 0.99, 1.1 ,\n",
       "        1.21, 1.32, 1.43, 1.54, 1.65, 1.76, 1.87, 1.98, 2.09, 2.2 , 2.31,\n",
       "        2.42, 2.53, 2.64, 2.75, 2.86, 2.97, 3.08, 3.19, 3.3 , 3.41, 3.52,\n",
       "        3.63, 3.74, 3.85, 3.96, 4.07, 4.18, 4.29, 4.4 , 4.51, 4.62, 4.73,\n",
       "        4.84, 4.95, 5.06, 5.17, 5.28, 5.39, 5.5 ]),\n",
       " <BarContainer object of 50 artists>)"
      ]
     },
     "execution_count": 87,
     "metadata": {},
     "output_type": "execute_result"
    },
    {
     "data": {
      "image/png": "[encoded data removed]",
      "text/plain": [
       "<Figure size 432x288 with 1 Axes>"
      ]
     },
     "metadata": {
      "needs_background": "light"
     },
     "output_type": "display_data"
    }
   ],
   "source": [
    "plt.hist(df['AF'], bins = 50)"
   ]
  },
  {
   "cell_type": "code",
   "execution_count": 93,
   "id": "bec7a374-6716-45f1-aec7-46abd8f3540f",
   "metadata": {},
   "outputs": [
    {
     "data": {
      "text/plain": [
       "(array([ 20.,   0.,   0.,   0.,   0.,   0.,   0.,   0.,   0.,   0.,   0.,\n",
       "          1.,   5.,   5.,   9.,   5.,   1.,  36.,   4.,  19.,  36.,  30.,\n",
       "         82.,  78.,  24., 105.,  40.,  62.,  31.,  20.,  34.,  13.,  31.,\n",
       "         21.,  11.,  22.,   7.,   4.,   6.,   4.,   3.,   3.,   0.,   5.,\n",
       "          0.,   0.,   1.,   1.,   0.,   3.]),\n",
       " array([0.  , 0.04, 0.08, 0.12, 0.16, 0.2 , 0.24, 0.28, 0.32, 0.36, 0.4 ,\n",
       "        0.44, 0.48, 0.52, 0.56, 0.6 , 0.64, 0.68, 0.72, 0.76, 0.8 , 0.84,\n",
       "        0.88, 0.92, 0.96, 1.  , 1.04, 1.08, 1.12, 1.16, 1.2 , 1.24, 1.28,\n",
       "        1.32, 1.36, 1.4 , 1.44, 1.48, 1.52, 1.56, 1.6 , 1.64, 1.68, 1.72,\n",
       "        1.76, 1.8 , 1.84, 1.88, 1.92, 1.96, 2.  ]),\n",
       " <BarContainer object of 50 artists>)"
      ]
     },
     "execution_count": 93,
     "metadata": {},
     "output_type": "execute_result"
    },
    {
     "data": {
      "image/png": "[encoded data removed]",
      "text/plain": [
       "<Figure size 432x288 with 1 Axes>"
      ]
     },
     "metadata": {
      "needs_background": "light"
     },
     "output_type": "display_data"
    }
   ],
   "source": [
    "plt.hist((df['AF.1']**0.5), bins = 50)"
   ]
  },
  {
   "cell_type": "code",
   "execution_count": null,
   "id": "03cad8f9-be48-49d8-ab6c-5652bbe28dc3",
   "metadata": {},
   "outputs": [],
   "source": []
  }
 ],
 "metadata": {
  "kernelspec": {
   "display_name": "Python 3 (ipykernel)",
   "language": "python",
   "name": "python3"
  },
  "language_info": {
   "codemirror_mode": {
    "name": "ipython",
    "version": 3
   },
   "file_extension": ".py",
   "mimetype": "text/x-python",
   "name": "python",
   "nbconvert_exporter": "python",
   "pygments_lexer": "ipython3",
   "version": "3.9.12"
  }
 },
 "nbformat": 4,
 "nbformat_minor": 5
}
