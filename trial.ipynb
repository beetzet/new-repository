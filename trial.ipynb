{
 "cells": [
  {
   "cell_type": "markdown",
   "id": "86e63961",
   "metadata": {},
   "source": [
    "# My Jupyter Notebook on IBM Watson Studio"
   ]
  },
  {
   "cell_type": "markdown",
   "id": "fa06596d",
   "metadata": {},
   "source": [
    "**Álvaro de la Hera Luis**\n",
    "\n",
    "I would like to make a lot of money, buy a boat and sail across the Mediterranean"
   ]
  },
  {
   "cell_type": "markdown",
   "id": "58c77b25",
   "metadata": {},
   "source": [
    "*I am interested in data science basically because I believe it could be really useful for football (soccer). Don't get me wrong, I know that data science is already being used by football executives, but I don't think all of the potential of data science has been achieved, as it did happen in other sports.*"
   ]
  },
  {
   "cell_type": "markdown",
   "id": "a99d5508",
   "metadata": {},
   "source": [
    "### I think the code for this assignment is supposed to be very simple so here it goes..."
   ]
  },
  {
   "cell_type": "code",
   "execution_count": 6,
   "id": "9cf1521e",
   "metadata": {},
   "outputs": [
    {
     "name": "stdout",
     "output_type": "stream",
     "text": [
      "ESE CÁDIZ OÉ\n",
      "2\n"
     ]
    }
   ],
   "source": [
    "print ('ESE CÁDIZ OÉ')\n",
    "print (1+1)"
   ]
  },
  {
   "cell_type": "markdown",
   "id": "69ad2b9c",
   "metadata": {},
   "source": [
    "***"
   ]
  },
  {
   "cell_type": "markdown",
   "id": "1c1fbf41",
   "metadata": {},
   "source": [
    "|Jornada| Equipo rival| Resultado| Goles a favor| Goles en contra|\n",
    "|-------| -------     | -------  |-------       | -------        |\n",
    "| 6     | Valladolid  | Victoria | 1            | 0              |\n",
    "| 7     | Villarreal  | Empate   | 0            | 0              |\n",
    "| 8     | Espanyol    | Empate   | 2            | 2              |\n",
    "\n",
    "> These are our three last games (yeah, I am a big fan of Cádiz CF...)\n",
    "\n",
    "*You can check all of the results from this season following clicking here* [Resultados](https://resultados.as.com/resultados/ficha/equipo/cadiz/91/)"
   ]
  },
  {
   "cell_type": "code",
   "execution_count": null,
   "id": "9d93b85e",
   "metadata": {},
   "outputs": [],
   "source": []
  }
 ],
 "metadata": {
  "kernelspec": {
   "display_name": "Python 3 (ipykernel)",
   "language": "python",
   "name": "python3"
  },
  "language_info": {
   "codemirror_mode": {
    "name": "ipython",
    "version": 3
   },
   "file_extension": ".py",
   "mimetype": "text/x-python",
   "name": "python",
   "nbconvert_exporter": "python",
   "pygments_lexer": "ipython3",
   "version": "3.9.12"
  }
 },
 "nbformat": 4,
 "nbformat_minor": 5
}
