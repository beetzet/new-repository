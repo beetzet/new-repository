{
 "cells": [
  {
   "cell_type": "code",
   "execution_count": 121,
   "id": "d3197f9b",
   "metadata": {},
   "outputs": [
    {
     "name": "stdout",
     "output_type": "stream",
     "text": [
      "Requirement already satisfied: pandas in d:\\nueva carpeta\\lib\\site-packages (1.5.1)Note: you may need to restart the kernel to use updated packages.\n",
      "Requirement already satisfied: python-dateutil>=2.8.1 in d:\\nueva carpeta\\lib\\site-packages (from pandas) (2.8.2)\n",
      "Requirement already satisfied: pytz>=2020.1 in d:\\nueva carpeta\\lib\\site-packages (from pandas) (2021.3)\n",
      "Requirement already satisfied: numpy>=1.20.3 in d:\\nueva carpeta\\lib\\site-packages (from pandas) (1.21.5)\n",
      "Requirement already satisfied: six>=1.5 in d:\\nueva carpeta\\lib\\site-packages (from python-dateutil>=2.8.1->pandas) (1.16.0)\n",
      "\n"
     ]
    }
   ],
   "source": [
    "%pip install --user pandas\n",
    "import pandas as pd\n",
    "import numpy as np\n",
    "\n",
    "df = pd.read_excel(r\"C:\\Users\\USUARIO\\Desktop\\quiniela origen.xlsx\")"
   ]
  },
  {
   "cell_type": "code",
   "execution_count": 122,
   "id": "d3508676",
   "metadata": {},
   "outputs": [],
   "source": [
    "import scipy\n",
    "from scipy import stats\n",
    "import seaborn as sns\n",
    "import matplotlib.pyplot as plt\n",
    "import sklearn\n",
    "from sklearn import preprocessing\n",
    "from sklearn.model_selection import GridSearchCV\n",
    "from sklearn.model_selection import train_test_split\n",
    "from sklearn.tree import DecisionTreeClassifier\n",
    "from sklearn.metrics import classification_report, confusion_matrix\n",
    "import itertools\n",
    "from sklearn.model_selection import cross_val_score\n",
    "from sklearn.linear_model import LogisticRegression\n",
    "from sklearn import metrics\n",
    "from sklearn.metrics import jaccard_score\n",
    "from sklearn.neighbors import KNeighborsClassifier"
   ]
  },
  {
   "cell_type": "code",
   "execution_count": 123,
   "id": "0123c221",
   "metadata": {},
   "outputs": [],
   "source": [
    "df.drop(['Temporada','Local', 'Visitante', 'V','V.1','E','E.1','D','D.1', 'sin perder', 'sin ganar','sin perder.1', 'sin ganar.1' ], axis=1, inplace=True)"
   ]
  },
  {
   "cell_type": "code",
   "execution_count": 124,
   "id": "25cca74b",
   "metadata": {},
   "outputs": [],
   "source": [
    "df= df.dropna(subset=['resultado'], axis=0)"
   ]
  },
  {
   "cell_type": "code",
   "execution_count": 125,
   "id": "743b600f",
   "metadata": {},
   "outputs": [],
   "source": [
    "df.drop(['Jornada', 'dif.', 'dif..1'], axis=1, inplace=True)"
   ]
  },
  {
   "cell_type": "code",
   "execution_count": 126,
   "id": "c4ebfc24",
   "metadata": {},
   "outputs": [],
   "source": [
    "df['Puntos Local']=pd.cut(df['PUNTOS'], bins=3, labels=['menos de 3', 'de 3 a 5', '6 o más'], right=False)\n",
    "df['Puntos Visitante']=pd.cut(df['PUNTOS.1'], bins=3, labels=['menos de 3', 'de 3 a 5', '6 o más'], right=False)"
   ]
  },
  {
   "cell_type": "code",
   "execution_count": 127,
   "id": "c4d87583-3c8d-47ee-b171-c1b13125c7d2",
   "metadata": {},
   "outputs": [],
   "source": [
    "df['MPSP_l']=pd.qcut(df['partidos consecutivos sin perder'],q= [0, 0.4, 1])\n",
    "df['MPSG_l']=pd.qcut(df['media de partidos sin ganar'], q= [0, 0.4, 1])\n",
    "df['MPSP_v']=pd.qcut(df['partidos consecutivos sin perder.1'], q= [0, 0.4, 1])\n",
    "df['MPSG_v']=pd.qcut(df['media de partidos sin ganar.1'], q= [0, 0.4, 1])"
   ]
  },
  {
   "cell_type": "code",
   "execution_count": 128,
   "id": "9d0aa78b",
   "metadata": {},
   "outputs": [],
   "source": [
    "#df = df[df['cuartil']!=1]\n",
    "#df.reset_index(drop=True)"
   ]
  },
  {
   "cell_type": "code",
   "execution_count": 129,
   "id": "ab57771c",
   "metadata": {},
   "outputs": [],
   "source": [
    "df['GF_local'] = pd.qcut(df['AF'], q= [0, 0.6, 1], labels = ['0-1.33', '>1.33'])\n",
    "df['GC_local'] = pd.qcut(df['AC'], q= [0, 0.55, 1], labels=['0-1.2', '>1.2'])\n",
    "#este es un elemento clave, decidir los intervalos de los goles a favor y en contra de local y visitante"
   ]
  },
  {
   "cell_type": "code",
   "execution_count": 130,
   "id": "d568660e",
   "metadata": {},
   "outputs": [
    {
     "data": {
      "text/html": [
       "<div>\n",
       "<style scoped>\n",
       "    .dataframe tbody tr th:only-of-type {\n",
       "        vertical-align: middle;\n",
       "    }\n",
       "\n",
       "    .dataframe tbody tr th {\n",
       "        vertical-align: top;\n",
       "    }\n",
       "\n",
       "    .dataframe thead th {\n",
       "        text-align: right;\n",
       "    }\n",
       "</style>\n",
       "<table border=\"1\" class=\"dataframe\">\n",
       "  <thead>\n",
       "    <tr style=\"text-align: right;\">\n",
       "      <th></th>\n",
       "      <th>cuartil</th>\n",
       "      <th>partidos consecutivos sin perder</th>\n",
       "      <th>media de partidos sin ganar</th>\n",
       "      <th>PUNTOS</th>\n",
       "      <th>último partido como local</th>\n",
       "      <th>último partido</th>\n",
       "      <th>AF</th>\n",
       "      <th>AC</th>\n",
       "      <th>cuartil.1</th>\n",
       "      <th>partidos consecutivos sin perder.1</th>\n",
       "      <th>...</th>\n",
       "      <th>Puntos Local</th>\n",
       "      <th>Puntos Visitante</th>\n",
       "      <th>MPSP_l</th>\n",
       "      <th>MPSG_l</th>\n",
       "      <th>MPSP_v</th>\n",
       "      <th>MPSG_v</th>\n",
       "      <th>GF_local</th>\n",
       "      <th>GC_local</th>\n",
       "      <th>GF_visitante</th>\n",
       "      <th>GC_visitante</th>\n",
       "    </tr>\n",
       "  </thead>\n",
       "  <tbody>\n",
       "    <tr>\n",
       "      <th>0</th>\n",
       "      <td>1</td>\n",
       "      <td>6.800000</td>\n",
       "      <td>1.333333</td>\n",
       "      <td>9</td>\n",
       "      <td>3</td>\n",
       "      <td>3</td>\n",
       "      <td>2.380000</td>\n",
       "      <td>0.250000</td>\n",
       "      <td>2</td>\n",
       "      <td>4.142857</td>\n",
       "      <td>...</td>\n",
       "      <td>6 o más</td>\n",
       "      <td>6 o más</td>\n",
       "      <td>(2.27, 12.0]</td>\n",
       "      <td>(-0.001, 2.25]</td>\n",
       "      <td>(2.233, 12.0]</td>\n",
       "      <td>(-0.001, 2.25]</td>\n",
       "      <td>&gt;1.33</td>\n",
       "      <td>0-1.2</td>\n",
       "      <td>&gt;1.1</td>\n",
       "      <td>0-1.1</td>\n",
       "    </tr>\n",
       "    <tr>\n",
       "      <th>1</th>\n",
       "      <td>1</td>\n",
       "      <td>6.800000</td>\n",
       "      <td>1.300000</td>\n",
       "      <td>6</td>\n",
       "      <td>0</td>\n",
       "      <td>3</td>\n",
       "      <td>1.480000</td>\n",
       "      <td>1.190000</td>\n",
       "      <td>2</td>\n",
       "      <td>1.666667</td>\n",
       "      <td>...</td>\n",
       "      <td>6 o más</td>\n",
       "      <td>menos de 3</td>\n",
       "      <td>(2.27, 12.0]</td>\n",
       "      <td>(-0.001, 2.25]</td>\n",
       "      <td>(0.999, 2.233]</td>\n",
       "      <td>(2.25, 11.0]</td>\n",
       "      <td>0-1.33</td>\n",
       "      <td>&gt;1.2</td>\n",
       "      <td>0-1.1</td>\n",
       "      <td>&gt;1.4</td>\n",
       "    </tr>\n",
       "    <tr>\n",
       "      <th>2</th>\n",
       "      <td>1</td>\n",
       "      <td>4.428571</td>\n",
       "      <td>1.555556</td>\n",
       "      <td>7</td>\n",
       "      <td>1</td>\n",
       "      <td>1</td>\n",
       "      <td>2.420000</td>\n",
       "      <td>1.080000</td>\n",
       "      <td>4</td>\n",
       "      <td>2.000000</td>\n",
       "      <td>...</td>\n",
       "      <td>6 o más</td>\n",
       "      <td>de 3 a 5</td>\n",
       "      <td>(2.27, 12.0]</td>\n",
       "      <td>(-0.001, 2.25]</td>\n",
       "      <td>(0.999, 2.233]</td>\n",
       "      <td>(2.25, 11.0]</td>\n",
       "      <td>&gt;1.33</td>\n",
       "      <td>0-1.2</td>\n",
       "      <td>0-1.1</td>\n",
       "      <td>0-1.1</td>\n",
       "    </tr>\n",
       "    <tr>\n",
       "      <th>3</th>\n",
       "      <td>3</td>\n",
       "      <td>2.400000</td>\n",
       "      <td>2.250000</td>\n",
       "      <td>4</td>\n",
       "      <td>3</td>\n",
       "      <td>3</td>\n",
       "      <td>1.380000</td>\n",
       "      <td>0.630000</td>\n",
       "      <td>1</td>\n",
       "      <td>4.428571</td>\n",
       "      <td>...</td>\n",
       "      <td>de 3 a 5</td>\n",
       "      <td>6 o más</td>\n",
       "      <td>(2.27, 12.0]</td>\n",
       "      <td>(-0.001, 2.25]</td>\n",
       "      <td>(2.233, 12.0]</td>\n",
       "      <td>(-0.001, 2.25]</td>\n",
       "      <td>0-1.33</td>\n",
       "      <td>0-1.2</td>\n",
       "      <td>&gt;1.1</td>\n",
       "      <td>0-1.1</td>\n",
       "    </tr>\n",
       "    <tr>\n",
       "      <th>4</th>\n",
       "      <td>3</td>\n",
       "      <td>2.555556</td>\n",
       "      <td>2.900000</td>\n",
       "      <td>4</td>\n",
       "      <td>0</td>\n",
       "      <td>0</td>\n",
       "      <td>1.640000</td>\n",
       "      <td>1.560000</td>\n",
       "      <td>1</td>\n",
       "      <td>6.800000</td>\n",
       "      <td>...</td>\n",
       "      <td>de 3 a 5</td>\n",
       "      <td>6 o más</td>\n",
       "      <td>(2.27, 12.0]</td>\n",
       "      <td>(2.25, 11.0]</td>\n",
       "      <td>(2.233, 12.0]</td>\n",
       "      <td>(-0.001, 2.25]</td>\n",
       "      <td>&gt;1.33</td>\n",
       "      <td>&gt;1.2</td>\n",
       "      <td>&gt;1.1</td>\n",
       "      <td>0-1.1</td>\n",
       "    </tr>\n",
       "    <tr>\n",
       "      <th>...</th>\n",
       "      <td>...</td>\n",
       "      <td>...</td>\n",
       "      <td>...</td>\n",
       "      <td>...</td>\n",
       "      <td>...</td>\n",
       "      <td>...</td>\n",
       "      <td>...</td>\n",
       "      <td>...</td>\n",
       "      <td>...</td>\n",
       "      <td>...</td>\n",
       "      <td>...</td>\n",
       "      <td>...</td>\n",
       "      <td>...</td>\n",
       "      <td>...</td>\n",
       "      <td>...</td>\n",
       "      <td>...</td>\n",
       "      <td>...</td>\n",
       "      <td>...</td>\n",
       "      <td>...</td>\n",
       "      <td>...</td>\n",
       "      <td>...</td>\n",
       "    </tr>\n",
       "    <tr>\n",
       "      <th>777</th>\n",
       "      <td>3</td>\n",
       "      <td>2.000000</td>\n",
       "      <td>2.000000</td>\n",
       "      <td>4</td>\n",
       "      <td>3</td>\n",
       "      <td>1</td>\n",
       "      <td>1.333333</td>\n",
       "      <td>1.000000</td>\n",
       "      <td>4</td>\n",
       "      <td>1.500000</td>\n",
       "      <td>...</td>\n",
       "      <td>de 3 a 5</td>\n",
       "      <td>6 o más</td>\n",
       "      <td>(0.999, 2.27]</td>\n",
       "      <td>(-0.001, 2.25]</td>\n",
       "      <td>(0.999, 2.233]</td>\n",
       "      <td>(-0.001, 2.25]</td>\n",
       "      <td>0-1.33</td>\n",
       "      <td>0-1.2</td>\n",
       "      <td>0-1.1</td>\n",
       "      <td>&gt;1.4</td>\n",
       "    </tr>\n",
       "    <tr>\n",
       "      <th>778</th>\n",
       "      <td>1</td>\n",
       "      <td>12.000000</td>\n",
       "      <td>0.000000</td>\n",
       "      <td>9</td>\n",
       "      <td>3</td>\n",
       "      <td>3</td>\n",
       "      <td>2.600000</td>\n",
       "      <td>1.000000</td>\n",
       "      <td>4</td>\n",
       "      <td>1.500000</td>\n",
       "      <td>...</td>\n",
       "      <td>6 o más</td>\n",
       "      <td>menos de 3</td>\n",
       "      <td>(2.27, 12.0]</td>\n",
       "      <td>(-0.001, 2.25]</td>\n",
       "      <td>(0.999, 2.233]</td>\n",
       "      <td>(2.25, 11.0]</td>\n",
       "      <td>&gt;1.33</td>\n",
       "      <td>0-1.2</td>\n",
       "      <td>0-1.1</td>\n",
       "      <td>&gt;1.4</td>\n",
       "    </tr>\n",
       "    <tr>\n",
       "      <th>779</th>\n",
       "      <td>2</td>\n",
       "      <td>2.250000</td>\n",
       "      <td>2.000000</td>\n",
       "      <td>1</td>\n",
       "      <td>0</td>\n",
       "      <td>0</td>\n",
       "      <td>1.333333</td>\n",
       "      <td>0.666667</td>\n",
       "      <td>2</td>\n",
       "      <td>2.000000</td>\n",
       "      <td>...</td>\n",
       "      <td>menos de 3</td>\n",
       "      <td>6 o más</td>\n",
       "      <td>(0.999, 2.27]</td>\n",
       "      <td>(-0.001, 2.25]</td>\n",
       "      <td>(0.999, 2.233]</td>\n",
       "      <td>(-0.001, 2.25]</td>\n",
       "      <td>0-1.33</td>\n",
       "      <td>0-1.2</td>\n",
       "      <td>0-1.1</td>\n",
       "      <td>0-1.1</td>\n",
       "    </tr>\n",
       "    <tr>\n",
       "      <th>780</th>\n",
       "      <td>2</td>\n",
       "      <td>2.666667</td>\n",
       "      <td>1.666667</td>\n",
       "      <td>6</td>\n",
       "      <td>3</td>\n",
       "      <td>0</td>\n",
       "      <td>1.200000</td>\n",
       "      <td>1.200000</td>\n",
       "      <td>2</td>\n",
       "      <td>2.250000</td>\n",
       "      <td>...</td>\n",
       "      <td>6 o más</td>\n",
       "      <td>de 3 a 5</td>\n",
       "      <td>(2.27, 12.0]</td>\n",
       "      <td>(-0.001, 2.25]</td>\n",
       "      <td>(2.233, 12.0]</td>\n",
       "      <td>(-0.001, 2.25]</td>\n",
       "      <td>0-1.33</td>\n",
       "      <td>&gt;1.2</td>\n",
       "      <td>0-1.1</td>\n",
       "      <td>0-1.1</td>\n",
       "    </tr>\n",
       "    <tr>\n",
       "      <th>781</th>\n",
       "      <td>4</td>\n",
       "      <td>1.000000</td>\n",
       "      <td>11.000000</td>\n",
       "      <td>2</td>\n",
       "      <td>0</td>\n",
       "      <td>1</td>\n",
       "      <td>0.600000</td>\n",
       "      <td>2.000000</td>\n",
       "      <td>3</td>\n",
       "      <td>2.333333</td>\n",
       "      <td>...</td>\n",
       "      <td>menos de 3</td>\n",
       "      <td>de 3 a 5</td>\n",
       "      <td>(0.999, 2.27]</td>\n",
       "      <td>(2.25, 11.0]</td>\n",
       "      <td>(2.233, 12.0]</td>\n",
       "      <td>(2.25, 11.0]</td>\n",
       "      <td>0-1.33</td>\n",
       "      <td>&gt;1.2</td>\n",
       "      <td>0-1.1</td>\n",
       "      <td>&gt;1.4</td>\n",
       "    </tr>\n",
       "  </tbody>\n",
       "</table>\n",
       "<p>782 rows × 26 columns</p>\n",
       "</div>"
      ],
      "text/plain": [
       "     cuartil  partidos consecutivos sin perder  media de partidos sin ganar  \\\n",
       "0          1                          6.800000                     1.333333   \n",
       "1          1                          6.800000                     1.300000   \n",
       "2          1                          4.428571                     1.555556   \n",
       "3          3                          2.400000                     2.250000   \n",
       "4          3                          2.555556                     2.900000   \n",
       "..       ...                               ...                          ...   \n",
       "777        3                          2.000000                     2.000000   \n",
       "778        1                         12.000000                     0.000000   \n",
       "779        2                          2.250000                     2.000000   \n",
       "780        2                          2.666667                     1.666667   \n",
       "781        4                          1.000000                    11.000000   \n",
       "\n",
       "     PUNTOS  último partido como local  último partido        AF        AC  \\\n",
       "0         9                          3               3  2.380000  0.250000   \n",
       "1         6                          0               3  1.480000  1.190000   \n",
       "2         7                          1               1  2.420000  1.080000   \n",
       "3         4                          3               3  1.380000  0.630000   \n",
       "4         4                          0               0  1.640000  1.560000   \n",
       "..      ...                        ...             ...       ...       ...   \n",
       "777       4                          3               1  1.333333  1.000000   \n",
       "778       9                          3               3  2.600000  1.000000   \n",
       "779       1                          0               0  1.333333  0.666667   \n",
       "780       6                          3               0  1.200000  1.200000   \n",
       "781       2                          0               1  0.600000  2.000000   \n",
       "\n",
       "     cuartil.1  partidos consecutivos sin perder.1  ...  Puntos Local  \\\n",
       "0            2                            4.142857  ...       6 o más   \n",
       "1            2                            1.666667  ...       6 o más   \n",
       "2            4                            2.000000  ...       6 o más   \n",
       "3            1                            4.428571  ...      de 3 a 5   \n",
       "4            1                            6.800000  ...      de 3 a 5   \n",
       "..         ...                                 ...  ...           ...   \n",
       "777          4                            1.500000  ...      de 3 a 5   \n",
       "778          4                            1.500000  ...       6 o más   \n",
       "779          2                            2.000000  ...    menos de 3   \n",
       "780          2                            2.250000  ...       6 o más   \n",
       "781          3                            2.333333  ...    menos de 3   \n",
       "\n",
       "     Puntos Visitante         MPSP_l          MPSG_l          MPSP_v  \\\n",
       "0             6 o más   (2.27, 12.0]  (-0.001, 2.25]   (2.233, 12.0]   \n",
       "1          menos de 3   (2.27, 12.0]  (-0.001, 2.25]  (0.999, 2.233]   \n",
       "2            de 3 a 5   (2.27, 12.0]  (-0.001, 2.25]  (0.999, 2.233]   \n",
       "3             6 o más   (2.27, 12.0]  (-0.001, 2.25]   (2.233, 12.0]   \n",
       "4             6 o más   (2.27, 12.0]    (2.25, 11.0]   (2.233, 12.0]   \n",
       "..                ...            ...             ...             ...   \n",
       "777           6 o más  (0.999, 2.27]  (-0.001, 2.25]  (0.999, 2.233]   \n",
       "778        menos de 3   (2.27, 12.0]  (-0.001, 2.25]  (0.999, 2.233]   \n",
       "779           6 o más  (0.999, 2.27]  (-0.001, 2.25]  (0.999, 2.233]   \n",
       "780          de 3 a 5   (2.27, 12.0]  (-0.001, 2.25]   (2.233, 12.0]   \n",
       "781          de 3 a 5  (0.999, 2.27]    (2.25, 11.0]   (2.233, 12.0]   \n",
       "\n",
       "             MPSG_v GF_local GC_local GF_visitante GC_visitante  \n",
       "0    (-0.001, 2.25]    >1.33    0-1.2         >1.1        0-1.1  \n",
       "1      (2.25, 11.0]   0-1.33     >1.2        0-1.1         >1.4  \n",
       "2      (2.25, 11.0]    >1.33    0-1.2        0-1.1        0-1.1  \n",
       "3    (-0.001, 2.25]   0-1.33    0-1.2         >1.1        0-1.1  \n",
       "4    (-0.001, 2.25]    >1.33     >1.2         >1.1        0-1.1  \n",
       "..              ...      ...      ...          ...          ...  \n",
       "777  (-0.001, 2.25]   0-1.33    0-1.2        0-1.1         >1.4  \n",
       "778    (2.25, 11.0]    >1.33    0-1.2        0-1.1         >1.4  \n",
       "779  (-0.001, 2.25]   0-1.33    0-1.2        0-1.1        0-1.1  \n",
       "780  (-0.001, 2.25]   0-1.33     >1.2        0-1.1        0-1.1  \n",
       "781    (2.25, 11.0]   0-1.33     >1.2        0-1.1         >1.4  \n",
       "\n",
       "[782 rows x 26 columns]"
      ]
     },
     "execution_count": 130,
     "metadata": {},
     "output_type": "execute_result"
    }
   ],
   "source": [
    "df['GF_visitante'] = pd.qcut(df['AF.1'], q= [0, 0.6, 1], labels = ['0-1.1', '>1.1'])\n",
    "df['GC_visitante'] = pd.qcut(df['AC.1'], q= [0, 0.55, 1], labels = ['0-1.1', '>1.4'])\n",
    "df"
   ]
  },
  {
   "cell_type": "code",
   "execution_count": 131,
   "id": "6e3114aa",
   "metadata": {},
   "outputs": [],
   "source": [
    "df['resultado'] = df['resultado'].replace(0, 2)"
   ]
  },
  {
   "cell_type": "code",
   "execution_count": 132,
   "id": "d76f6d3b-4ce5-4dec-a01e-4f2e2c7a4c6b",
   "metadata": {},
   "outputs": [],
   "source": [
    "df['resultado'] = df['resultado'].replace(2, 0)"
   ]
  },
  {
   "cell_type": "code",
   "execution_count": 133,
   "id": "1052753a-ab7d-417f-aa1e-0fdf063021f6",
   "metadata": {},
   "outputs": [
    {
     "data": {
      "text/html": [
       "<div>\n",
       "<style scoped>\n",
       "    .dataframe tbody tr th:only-of-type {\n",
       "        vertical-align: middle;\n",
       "    }\n",
       "\n",
       "    .dataframe tbody tr th {\n",
       "        vertical-align: top;\n",
       "    }\n",
       "\n",
       "    .dataframe thead th {\n",
       "        text-align: right;\n",
       "    }\n",
       "</style>\n",
       "<table border=\"1\" class=\"dataframe\">\n",
       "  <thead>\n",
       "    <tr style=\"text-align: right;\">\n",
       "      <th></th>\n",
       "      <th>cuartil</th>\n",
       "      <th>partidos consecutivos sin perder</th>\n",
       "      <th>media de partidos sin ganar</th>\n",
       "      <th>PUNTOS</th>\n",
       "      <th>último partido como local</th>\n",
       "      <th>último partido</th>\n",
       "      <th>AF</th>\n",
       "      <th>AC</th>\n",
       "      <th>cuartil.1</th>\n",
       "      <th>partidos consecutivos sin perder.1</th>\n",
       "      <th>...</th>\n",
       "      <th>Puntos Local</th>\n",
       "      <th>Puntos Visitante</th>\n",
       "      <th>MPSP_l</th>\n",
       "      <th>MPSG_l</th>\n",
       "      <th>MPSP_v</th>\n",
       "      <th>MPSG_v</th>\n",
       "      <th>GF_local</th>\n",
       "      <th>GC_local</th>\n",
       "      <th>GF_visitante</th>\n",
       "      <th>GC_visitante</th>\n",
       "    </tr>\n",
       "  </thead>\n",
       "  <tbody>\n",
       "    <tr>\n",
       "      <th>0</th>\n",
       "      <td>1</td>\n",
       "      <td>6.800000</td>\n",
       "      <td>1.333333</td>\n",
       "      <td>9</td>\n",
       "      <td>3</td>\n",
       "      <td>3</td>\n",
       "      <td>2.380000</td>\n",
       "      <td>0.250000</td>\n",
       "      <td>2</td>\n",
       "      <td>4.142857</td>\n",
       "      <td>...</td>\n",
       "      <td>6 o más</td>\n",
       "      <td>6 o más</td>\n",
       "      <td>(2.27, 12.0]</td>\n",
       "      <td>(-0.001, 2.25]</td>\n",
       "      <td>(2.233, 12.0]</td>\n",
       "      <td>(-0.001, 2.25]</td>\n",
       "      <td>&gt;1.33</td>\n",
       "      <td>0-1.2</td>\n",
       "      <td>&gt;1.1</td>\n",
       "      <td>0-1.1</td>\n",
       "    </tr>\n",
       "    <tr>\n",
       "      <th>1</th>\n",
       "      <td>1</td>\n",
       "      <td>6.800000</td>\n",
       "      <td>1.300000</td>\n",
       "      <td>6</td>\n",
       "      <td>0</td>\n",
       "      <td>3</td>\n",
       "      <td>1.480000</td>\n",
       "      <td>1.190000</td>\n",
       "      <td>2</td>\n",
       "      <td>1.666667</td>\n",
       "      <td>...</td>\n",
       "      <td>6 o más</td>\n",
       "      <td>menos de 3</td>\n",
       "      <td>(2.27, 12.0]</td>\n",
       "      <td>(-0.001, 2.25]</td>\n",
       "      <td>(0.999, 2.233]</td>\n",
       "      <td>(2.25, 11.0]</td>\n",
       "      <td>0-1.33</td>\n",
       "      <td>&gt;1.2</td>\n",
       "      <td>0-1.1</td>\n",
       "      <td>&gt;1.4</td>\n",
       "    </tr>\n",
       "    <tr>\n",
       "      <th>2</th>\n",
       "      <td>1</td>\n",
       "      <td>4.428571</td>\n",
       "      <td>1.555556</td>\n",
       "      <td>7</td>\n",
       "      <td>1</td>\n",
       "      <td>1</td>\n",
       "      <td>2.420000</td>\n",
       "      <td>1.080000</td>\n",
       "      <td>4</td>\n",
       "      <td>2.000000</td>\n",
       "      <td>...</td>\n",
       "      <td>6 o más</td>\n",
       "      <td>de 3 a 5</td>\n",
       "      <td>(2.27, 12.0]</td>\n",
       "      <td>(-0.001, 2.25]</td>\n",
       "      <td>(0.999, 2.233]</td>\n",
       "      <td>(2.25, 11.0]</td>\n",
       "      <td>&gt;1.33</td>\n",
       "      <td>0-1.2</td>\n",
       "      <td>0-1.1</td>\n",
       "      <td>0-1.1</td>\n",
       "    </tr>\n",
       "    <tr>\n",
       "      <th>3</th>\n",
       "      <td>3</td>\n",
       "      <td>2.400000</td>\n",
       "      <td>2.250000</td>\n",
       "      <td>4</td>\n",
       "      <td>3</td>\n",
       "      <td>3</td>\n",
       "      <td>1.380000</td>\n",
       "      <td>0.630000</td>\n",
       "      <td>1</td>\n",
       "      <td>4.428571</td>\n",
       "      <td>...</td>\n",
       "      <td>de 3 a 5</td>\n",
       "      <td>6 o más</td>\n",
       "      <td>(2.27, 12.0]</td>\n",
       "      <td>(-0.001, 2.25]</td>\n",
       "      <td>(2.233, 12.0]</td>\n",
       "      <td>(-0.001, 2.25]</td>\n",
       "      <td>0-1.33</td>\n",
       "      <td>0-1.2</td>\n",
       "      <td>&gt;1.1</td>\n",
       "      <td>0-1.1</td>\n",
       "    </tr>\n",
       "    <tr>\n",
       "      <th>4</th>\n",
       "      <td>3</td>\n",
       "      <td>2.555556</td>\n",
       "      <td>2.900000</td>\n",
       "      <td>4</td>\n",
       "      <td>0</td>\n",
       "      <td>0</td>\n",
       "      <td>1.640000</td>\n",
       "      <td>1.560000</td>\n",
       "      <td>1</td>\n",
       "      <td>6.800000</td>\n",
       "      <td>...</td>\n",
       "      <td>de 3 a 5</td>\n",
       "      <td>6 o más</td>\n",
       "      <td>(2.27, 12.0]</td>\n",
       "      <td>(2.25, 11.0]</td>\n",
       "      <td>(2.233, 12.0]</td>\n",
       "      <td>(-0.001, 2.25]</td>\n",
       "      <td>&gt;1.33</td>\n",
       "      <td>&gt;1.2</td>\n",
       "      <td>&gt;1.1</td>\n",
       "      <td>0-1.1</td>\n",
       "    </tr>\n",
       "    <tr>\n",
       "      <th>...</th>\n",
       "      <td>...</td>\n",
       "      <td>...</td>\n",
       "      <td>...</td>\n",
       "      <td>...</td>\n",
       "      <td>...</td>\n",
       "      <td>...</td>\n",
       "      <td>...</td>\n",
       "      <td>...</td>\n",
       "      <td>...</td>\n",
       "      <td>...</td>\n",
       "      <td>...</td>\n",
       "      <td>...</td>\n",
       "      <td>...</td>\n",
       "      <td>...</td>\n",
       "      <td>...</td>\n",
       "      <td>...</td>\n",
       "      <td>...</td>\n",
       "      <td>...</td>\n",
       "      <td>...</td>\n",
       "      <td>...</td>\n",
       "      <td>...</td>\n",
       "    </tr>\n",
       "    <tr>\n",
       "      <th>777</th>\n",
       "      <td>3</td>\n",
       "      <td>2.000000</td>\n",
       "      <td>2.000000</td>\n",
       "      <td>4</td>\n",
       "      <td>3</td>\n",
       "      <td>1</td>\n",
       "      <td>1.333333</td>\n",
       "      <td>1.000000</td>\n",
       "      <td>4</td>\n",
       "      <td>1.500000</td>\n",
       "      <td>...</td>\n",
       "      <td>de 3 a 5</td>\n",
       "      <td>6 o más</td>\n",
       "      <td>(0.999, 2.27]</td>\n",
       "      <td>(-0.001, 2.25]</td>\n",
       "      <td>(0.999, 2.233]</td>\n",
       "      <td>(-0.001, 2.25]</td>\n",
       "      <td>0-1.33</td>\n",
       "      <td>0-1.2</td>\n",
       "      <td>0-1.1</td>\n",
       "      <td>&gt;1.4</td>\n",
       "    </tr>\n",
       "    <tr>\n",
       "      <th>778</th>\n",
       "      <td>1</td>\n",
       "      <td>12.000000</td>\n",
       "      <td>0.000000</td>\n",
       "      <td>9</td>\n",
       "      <td>3</td>\n",
       "      <td>3</td>\n",
       "      <td>2.600000</td>\n",
       "      <td>1.000000</td>\n",
       "      <td>4</td>\n",
       "      <td>1.500000</td>\n",
       "      <td>...</td>\n",
       "      <td>6 o más</td>\n",
       "      <td>menos de 3</td>\n",
       "      <td>(2.27, 12.0]</td>\n",
       "      <td>(-0.001, 2.25]</td>\n",
       "      <td>(0.999, 2.233]</td>\n",
       "      <td>(2.25, 11.0]</td>\n",
       "      <td>&gt;1.33</td>\n",
       "      <td>0-1.2</td>\n",
       "      <td>0-1.1</td>\n",
       "      <td>&gt;1.4</td>\n",
       "    </tr>\n",
       "    <tr>\n",
       "      <th>779</th>\n",
       "      <td>2</td>\n",
       "      <td>2.250000</td>\n",
       "      <td>2.000000</td>\n",
       "      <td>1</td>\n",
       "      <td>0</td>\n",
       "      <td>0</td>\n",
       "      <td>1.333333</td>\n",
       "      <td>0.666667</td>\n",
       "      <td>2</td>\n",
       "      <td>2.000000</td>\n",
       "      <td>...</td>\n",
       "      <td>menos de 3</td>\n",
       "      <td>6 o más</td>\n",
       "      <td>(0.999, 2.27]</td>\n",
       "      <td>(-0.001, 2.25]</td>\n",
       "      <td>(0.999, 2.233]</td>\n",
       "      <td>(-0.001, 2.25]</td>\n",
       "      <td>0-1.33</td>\n",
       "      <td>0-1.2</td>\n",
       "      <td>0-1.1</td>\n",
       "      <td>0-1.1</td>\n",
       "    </tr>\n",
       "    <tr>\n",
       "      <th>780</th>\n",
       "      <td>2</td>\n",
       "      <td>2.666667</td>\n",
       "      <td>1.666667</td>\n",
       "      <td>6</td>\n",
       "      <td>3</td>\n",
       "      <td>0</td>\n",
       "      <td>1.200000</td>\n",
       "      <td>1.200000</td>\n",
       "      <td>2</td>\n",
       "      <td>2.250000</td>\n",
       "      <td>...</td>\n",
       "      <td>6 o más</td>\n",
       "      <td>de 3 a 5</td>\n",
       "      <td>(2.27, 12.0]</td>\n",
       "      <td>(-0.001, 2.25]</td>\n",
       "      <td>(2.233, 12.0]</td>\n",
       "      <td>(-0.001, 2.25]</td>\n",
       "      <td>0-1.33</td>\n",
       "      <td>&gt;1.2</td>\n",
       "      <td>0-1.1</td>\n",
       "      <td>0-1.1</td>\n",
       "    </tr>\n",
       "    <tr>\n",
       "      <th>781</th>\n",
       "      <td>4</td>\n",
       "      <td>1.000000</td>\n",
       "      <td>11.000000</td>\n",
       "      <td>2</td>\n",
       "      <td>0</td>\n",
       "      <td>1</td>\n",
       "      <td>0.600000</td>\n",
       "      <td>2.000000</td>\n",
       "      <td>3</td>\n",
       "      <td>2.333333</td>\n",
       "      <td>...</td>\n",
       "      <td>menos de 3</td>\n",
       "      <td>de 3 a 5</td>\n",
       "      <td>(0.999, 2.27]</td>\n",
       "      <td>(2.25, 11.0]</td>\n",
       "      <td>(2.233, 12.0]</td>\n",
       "      <td>(2.25, 11.0]</td>\n",
       "      <td>0-1.33</td>\n",
       "      <td>&gt;1.2</td>\n",
       "      <td>0-1.1</td>\n",
       "      <td>&gt;1.4</td>\n",
       "    </tr>\n",
       "  </tbody>\n",
       "</table>\n",
       "<p>782 rows × 26 columns</p>\n",
       "</div>"
      ],
      "text/plain": [
       "     cuartil  partidos consecutivos sin perder  media de partidos sin ganar  \\\n",
       "0          1                          6.800000                     1.333333   \n",
       "1          1                          6.800000                     1.300000   \n",
       "2          1                          4.428571                     1.555556   \n",
       "3          3                          2.400000                     2.250000   \n",
       "4          3                          2.555556                     2.900000   \n",
       "..       ...                               ...                          ...   \n",
       "777        3                          2.000000                     2.000000   \n",
       "778        1                         12.000000                     0.000000   \n",
       "779        2                          2.250000                     2.000000   \n",
       "780        2                          2.666667                     1.666667   \n",
       "781        4                          1.000000                    11.000000   \n",
       "\n",
       "     PUNTOS  último partido como local  último partido        AF        AC  \\\n",
       "0         9                          3               3  2.380000  0.250000   \n",
       "1         6                          0               3  1.480000  1.190000   \n",
       "2         7                          1               1  2.420000  1.080000   \n",
       "3         4                          3               3  1.380000  0.630000   \n",
       "4         4                          0               0  1.640000  1.560000   \n",
       "..      ...                        ...             ...       ...       ...   \n",
       "777       4                          3               1  1.333333  1.000000   \n",
       "778       9                          3               3  2.600000  1.000000   \n",
       "779       1                          0               0  1.333333  0.666667   \n",
       "780       6                          3               0  1.200000  1.200000   \n",
       "781       2                          0               1  0.600000  2.000000   \n",
       "\n",
       "     cuartil.1  partidos consecutivos sin perder.1  ...  Puntos Local  \\\n",
       "0            2                            4.142857  ...       6 o más   \n",
       "1            2                            1.666667  ...       6 o más   \n",
       "2            4                            2.000000  ...       6 o más   \n",
       "3            1                            4.428571  ...      de 3 a 5   \n",
       "4            1                            6.800000  ...      de 3 a 5   \n",
       "..         ...                                 ...  ...           ...   \n",
       "777          4                            1.500000  ...      de 3 a 5   \n",
       "778          4                            1.500000  ...       6 o más   \n",
       "779          2                            2.000000  ...    menos de 3   \n",
       "780          2                            2.250000  ...       6 o más   \n",
       "781          3                            2.333333  ...    menos de 3   \n",
       "\n",
       "     Puntos Visitante         MPSP_l          MPSG_l          MPSP_v  \\\n",
       "0             6 o más   (2.27, 12.0]  (-0.001, 2.25]   (2.233, 12.0]   \n",
       "1          menos de 3   (2.27, 12.0]  (-0.001, 2.25]  (0.999, 2.233]   \n",
       "2            de 3 a 5   (2.27, 12.0]  (-0.001, 2.25]  (0.999, 2.233]   \n",
       "3             6 o más   (2.27, 12.0]  (-0.001, 2.25]   (2.233, 12.0]   \n",
       "4             6 o más   (2.27, 12.0]    (2.25, 11.0]   (2.233, 12.0]   \n",
       "..                ...            ...             ...             ...   \n",
       "777           6 o más  (0.999, 2.27]  (-0.001, 2.25]  (0.999, 2.233]   \n",
       "778        menos de 3   (2.27, 12.0]  (-0.001, 2.25]  (0.999, 2.233]   \n",
       "779           6 o más  (0.999, 2.27]  (-0.001, 2.25]  (0.999, 2.233]   \n",
       "780          de 3 a 5   (2.27, 12.0]  (-0.001, 2.25]   (2.233, 12.0]   \n",
       "781          de 3 a 5  (0.999, 2.27]    (2.25, 11.0]   (2.233, 12.0]   \n",
       "\n",
       "             MPSG_v GF_local GC_local GF_visitante GC_visitante  \n",
       "0    (-0.001, 2.25]    >1.33    0-1.2         >1.1        0-1.1  \n",
       "1      (2.25, 11.0]   0-1.33     >1.2        0-1.1         >1.4  \n",
       "2      (2.25, 11.0]    >1.33    0-1.2        0-1.1        0-1.1  \n",
       "3    (-0.001, 2.25]   0-1.33    0-1.2         >1.1        0-1.1  \n",
       "4    (-0.001, 2.25]    >1.33     >1.2         >1.1        0-1.1  \n",
       "..              ...      ...      ...          ...          ...  \n",
       "777  (-0.001, 2.25]   0-1.33    0-1.2        0-1.1         >1.4  \n",
       "778    (2.25, 11.0]    >1.33    0-1.2        0-1.1         >1.4  \n",
       "779  (-0.001, 2.25]   0-1.33    0-1.2        0-1.1        0-1.1  \n",
       "780  (-0.001, 2.25]   0-1.33     >1.2        0-1.1        0-1.1  \n",
       "781    (2.25, 11.0]   0-1.33     >1.2        0-1.1         >1.4  \n",
       "\n",
       "[782 rows x 26 columns]"
      ]
     },
     "execution_count": 133,
     "metadata": {},
     "output_type": "execute_result"
    }
   ],
   "source": [
    "df"
   ]
  },
  {
   "cell_type": "markdown",
   "id": "83246bfd-4063-4c31-be09-ac9c724bcb1d",
   "metadata": {},
   "source": [
    "# Histórico"
   ]
  },
  {
   "cell_type": "markdown",
   "id": "f020a1b5-c9fe-4f58-b5d8-fa0a3b9804cb",
   "metadata": {},
   "source": [
    "## Dos años anteriores"
   ]
  },
  {
   "cell_type": "markdown",
   "id": "0ee615f8-a510-4013-89e5-1395bb2f91cd",
   "metadata": {},
   "source": [
    "---"
   ]
  },
  {
   "cell_type": "code",
   "execution_count": 134,
   "id": "a9b54c55-4842-4bab-8d33-62a74ed5d26c",
   "metadata": {},
   "outputs": [
    {
     "data": {
      "text/html": [
       "<div>\n",
       "<style scoped>\n",
       "    .dataframe tbody tr th:only-of-type {\n",
       "        vertical-align: middle;\n",
       "    }\n",
       "\n",
       "    .dataframe tbody tr th {\n",
       "        vertical-align: top;\n",
       "    }\n",
       "\n",
       "    .dataframe thead th {\n",
       "        text-align: right;\n",
       "    }\n",
       "</style>\n",
       "<table border=\"1\" class=\"dataframe\">\n",
       "  <thead>\n",
       "    <tr style=\"text-align: right;\">\n",
       "      <th>resultado</th>\n",
       "      <th>0</th>\n",
       "      <th>1</th>\n",
       "    </tr>\n",
       "    <tr>\n",
       "      <th>cuartil</th>\n",
       "      <th></th>\n",
       "      <th></th>\n",
       "    </tr>\n",
       "  </thead>\n",
       "  <tbody>\n",
       "    <tr>\n",
       "      <th>1</th>\n",
       "      <td>51</td>\n",
       "      <td>89</td>\n",
       "    </tr>\n",
       "    <tr>\n",
       "      <th>2</th>\n",
       "      <td>94</td>\n",
       "      <td>81</td>\n",
       "    </tr>\n",
       "    <tr>\n",
       "      <th>3</th>\n",
       "      <td>161</td>\n",
       "      <td>90</td>\n",
       "    </tr>\n",
       "    <tr>\n",
       "      <th>4</th>\n",
       "      <td>135</td>\n",
       "      <td>81</td>\n",
       "    </tr>\n",
       "  </tbody>\n",
       "</table>\n",
       "</div>"
      ],
      "text/plain": [
       "resultado    0   1\n",
       "cuartil           \n",
       "1           51  89\n",
       "2           94  81\n",
       "3          161  90\n",
       "4          135  81"
      ]
     },
     "execution_count": 134,
     "metadata": {},
     "output_type": "execute_result"
    }
   ],
   "source": [
    "chisq_cuartil = pd.crosstab(df['cuartil'], df['resultado'])\n",
    "chisq_cuartil"
   ]
  },
  {
   "cell_type": "code",
   "execution_count": 135,
   "id": "4812c7c0-2d51-4175-9fc6-d363ea514524",
   "metadata": {},
   "outputs": [
    {
     "data": {
      "text/plain": [
       "(32.609186138125494,\n",
       " 3.8937554782590154e-07,\n",
       " 3,\n",
       " array([[ 78.95140665,  61.04859335],\n",
       "        [ 98.68925831,  76.31074169],\n",
       "        [141.54859335, 109.45140665],\n",
       "        [121.81074169,  94.18925831]]))"
      ]
     },
     "execution_count": 135,
     "metadata": {},
     "output_type": "execute_result"
    }
   ],
   "source": [
    "scipy.stats.contingency.chi2_contingency(chisq_cuartil)"
   ]
  },
  {
   "cell_type": "markdown",
   "id": "fa3afb51-dd68-471d-97a2-b35c3ef638f5",
   "metadata": {},
   "source": [
    "---"
   ]
  },
  {
   "cell_type": "code",
   "execution_count": 136,
   "id": "0878fd6f-d9bd-4915-9cf1-6a231b304020",
   "metadata": {},
   "outputs": [
    {
     "data": {
      "text/html": [
       "<div>\n",
       "<style scoped>\n",
       "    .dataframe tbody tr th:only-of-type {\n",
       "        vertical-align: middle;\n",
       "    }\n",
       "\n",
       "    .dataframe tbody tr th {\n",
       "        vertical-align: top;\n",
       "    }\n",
       "\n",
       "    .dataframe thead th {\n",
       "        text-align: right;\n",
       "    }\n",
       "</style>\n",
       "<table border=\"1\" class=\"dataframe\">\n",
       "  <thead>\n",
       "    <tr style=\"text-align: right;\">\n",
       "      <th>resultado</th>\n",
       "      <th>0</th>\n",
       "      <th>1</th>\n",
       "    </tr>\n",
       "    <tr>\n",
       "      <th>cuartil.1</th>\n",
       "      <th></th>\n",
       "      <th></th>\n",
       "    </tr>\n",
       "  </thead>\n",
       "  <tbody>\n",
       "    <tr>\n",
       "      <th>1</th>\n",
       "      <td>112</td>\n",
       "      <td>26</td>\n",
       "    </tr>\n",
       "    <tr>\n",
       "      <th>2</th>\n",
       "      <td>94</td>\n",
       "      <td>80</td>\n",
       "    </tr>\n",
       "    <tr>\n",
       "      <th>3</th>\n",
       "      <td>147</td>\n",
       "      <td>106</td>\n",
       "    </tr>\n",
       "    <tr>\n",
       "      <th>4</th>\n",
       "      <td>88</td>\n",
       "      <td>129</td>\n",
       "    </tr>\n",
       "  </tbody>\n",
       "</table>\n",
       "</div>"
      ],
      "text/plain": [
       "resultado    0    1\n",
       "cuartil.1          \n",
       "1          112   26\n",
       "2           94   80\n",
       "3          147  106\n",
       "4           88  129"
      ]
     },
     "execution_count": 136,
     "metadata": {},
     "output_type": "execute_result"
    }
   ],
   "source": [
    "chisq_cuartil_1 = pd.crosstab(df['cuartil.1'], df['resultado'])\n",
    "chisq_cuartil_1"
   ]
  },
  {
   "cell_type": "code",
   "execution_count": 137,
   "id": "d364a6e3-efff-48c7-9b83-a2d55d97a8fb",
   "metadata": {},
   "outputs": [
    {
     "data": {
      "text/plain": [
       "(57.26007892576182,\n",
       " 2.261481758941785e-12,\n",
       " 3,\n",
       " array([[ 77.82352941,  60.17647059],\n",
       "        [ 98.12531969,  75.87468031],\n",
       "        [142.67647059, 110.32352941],\n",
       "        [122.37468031,  94.62531969]]))"
      ]
     },
     "execution_count": 137,
     "metadata": {},
     "output_type": "execute_result"
    }
   ],
   "source": [
    "scipy.stats.contingency.chi2_contingency(chisq_cuartil_1)"
   ]
  },
  {
   "cell_type": "markdown",
   "id": "443b77c4-c1dc-4007-bdf4-41eaa00d86f5",
   "metadata": {},
   "source": [
    "---"
   ]
  },
  {
   "cell_type": "markdown",
   "id": "e0995bb2-0900-4280-9450-b65c1afff6a8",
   "metadata": {},
   "source": [
    "# Racha"
   ]
  },
  {
   "cell_type": "markdown",
   "id": "f9a5251e-ec5e-4c0b-8735-f9b27b3b2a02",
   "metadata": {},
   "source": [
    "## Tres últimos partidos\n",
    "---"
   ]
  },
  {
   "cell_type": "code",
   "execution_count": 138,
   "id": "e8d35cf9-bc9c-4d85-b363-4c93f2a071f3",
   "metadata": {},
   "outputs": [
    {
     "data": {
      "text/html": [
       "<div>\n",
       "<style scoped>\n",
       "    .dataframe tbody tr th:only-of-type {\n",
       "        vertical-align: middle;\n",
       "    }\n",
       "\n",
       "    .dataframe tbody tr th {\n",
       "        vertical-align: top;\n",
       "    }\n",
       "\n",
       "    .dataframe thead th {\n",
       "        text-align: right;\n",
       "    }\n",
       "</style>\n",
       "<table border=\"1\" class=\"dataframe\">\n",
       "  <thead>\n",
       "    <tr style=\"text-align: right;\">\n",
       "      <th>resultado</th>\n",
       "      <th>0</th>\n",
       "      <th>1</th>\n",
       "    </tr>\n",
       "    <tr>\n",
       "      <th>PUNTOS</th>\n",
       "      <th></th>\n",
       "      <th></th>\n",
       "    </tr>\n",
       "  </thead>\n",
       "  <tbody>\n",
       "    <tr>\n",
       "      <th>0</th>\n",
       "      <td>31</td>\n",
       "      <td>15</td>\n",
       "    </tr>\n",
       "    <tr>\n",
       "      <th>1</th>\n",
       "      <td>60</td>\n",
       "      <td>36</td>\n",
       "    </tr>\n",
       "    <tr>\n",
       "      <th>2</th>\n",
       "      <td>46</td>\n",
       "      <td>21</td>\n",
       "    </tr>\n",
       "    <tr>\n",
       "      <th>3</th>\n",
       "      <td>72</td>\n",
       "      <td>58</td>\n",
       "    </tr>\n",
       "    <tr>\n",
       "      <th>4</th>\n",
       "      <td>93</td>\n",
       "      <td>81</td>\n",
       "    </tr>\n",
       "    <tr>\n",
       "      <th>5</th>\n",
       "      <td>32</td>\n",
       "      <td>22</td>\n",
       "    </tr>\n",
       "    <tr>\n",
       "      <th>6</th>\n",
       "      <td>49</td>\n",
       "      <td>44</td>\n",
       "    </tr>\n",
       "    <tr>\n",
       "      <th>7</th>\n",
       "      <td>36</td>\n",
       "      <td>30</td>\n",
       "    </tr>\n",
       "    <tr>\n",
       "      <th>9</th>\n",
       "      <td>22</td>\n",
       "      <td>34</td>\n",
       "    </tr>\n",
       "  </tbody>\n",
       "</table>\n",
       "</div>"
      ],
      "text/plain": [
       "resultado   0   1\n",
       "PUNTOS           \n",
       "0          31  15\n",
       "1          60  36\n",
       "2          46  21\n",
       "3          72  58\n",
       "4          93  81\n",
       "5          32  22\n",
       "6          49  44\n",
       "7          36  30\n",
       "9          22  34"
      ]
     },
     "execution_count": 138,
     "metadata": {},
     "output_type": "execute_result"
    }
   ],
   "source": [
    "chisq_PUNTOS_L = pd.crosstab(df['PUNTOS'], df['resultado'])\n",
    "chisq_PUNTOS_L"
   ]
  },
  {
   "cell_type": "code",
   "execution_count": 139,
   "id": "41a24007-0312-4a84-9e48-6f1a78dd980f",
   "metadata": {},
   "outputs": [
    {
     "data": {
      "text/plain": [
       "(15.939331828476108,\n",
       " 0.043256737248137646,\n",
       " 8,\n",
       " array([[25.94117647, 20.05882353],\n",
       "        [54.13810742, 41.86189258],\n",
       "        [37.78388747, 29.21611253],\n",
       "        [73.31202046, 56.68797954],\n",
       "        [98.12531969, 75.87468031],\n",
       "        [30.45268542, 23.54731458],\n",
       "        [52.44629156, 40.55370844],\n",
       "        [37.21994885, 28.78005115],\n",
       "        [31.58056266, 24.41943734]]))"
      ]
     },
     "execution_count": 139,
     "metadata": {},
     "output_type": "execute_result"
    }
   ],
   "source": [
    "scipy.stats.contingency.chi2_contingency(chisq_PUNTOS_L)"
   ]
  },
  {
   "cell_type": "markdown",
   "id": "146ca25e-d715-4cd2-9bd5-34f795d4574a",
   "metadata": {},
   "source": [
    "---"
   ]
  },
  {
   "cell_type": "code",
   "execution_count": 140,
   "id": "30524acb-779c-4a25-828b-f9df25f32dab",
   "metadata": {},
   "outputs": [
    {
     "data": {
      "text/html": [
       "<div>\n",
       "<style scoped>\n",
       "    .dataframe tbody tr th:only-of-type {\n",
       "        vertical-align: middle;\n",
       "    }\n",
       "\n",
       "    .dataframe tbody tr th {\n",
       "        vertical-align: top;\n",
       "    }\n",
       "\n",
       "    .dataframe thead th {\n",
       "        text-align: right;\n",
       "    }\n",
       "</style>\n",
       "<table border=\"1\" class=\"dataframe\">\n",
       "  <thead>\n",
       "    <tr style=\"text-align: right;\">\n",
       "      <th>resultado</th>\n",
       "      <th>0</th>\n",
       "      <th>1</th>\n",
       "    </tr>\n",
       "    <tr>\n",
       "      <th>Puntos Local</th>\n",
       "      <th></th>\n",
       "      <th></th>\n",
       "    </tr>\n",
       "  </thead>\n",
       "  <tbody>\n",
       "    <tr>\n",
       "      <th>menos de 3</th>\n",
       "      <td>137</td>\n",
       "      <td>72</td>\n",
       "    </tr>\n",
       "    <tr>\n",
       "      <th>de 3 a 5</th>\n",
       "      <td>197</td>\n",
       "      <td>161</td>\n",
       "    </tr>\n",
       "    <tr>\n",
       "      <th>6 o más</th>\n",
       "      <td>107</td>\n",
       "      <td>108</td>\n",
       "    </tr>\n",
       "  </tbody>\n",
       "</table>\n",
       "</div>"
      ],
      "text/plain": [
       "resultado       0    1\n",
       "Puntos Local          \n",
       "menos de 3    137   72\n",
       "de 3 a 5      197  161\n",
       "6 o más       107  108"
      ]
     },
     "execution_count": 140,
     "metadata": {},
     "output_type": "execute_result"
    }
   ],
   "source": [
    "chisq_PUNTOS_Lo = pd.crosstab(df['Puntos Local'], df['resultado'])\n",
    "chisq_PUNTOS_Lo"
   ]
  },
  {
   "cell_type": "code",
   "execution_count": 141,
   "id": "29fb51c8-ac40-4624-a4d9-eabf15f09f44",
   "metadata": {},
   "outputs": [
    {
     "data": {
      "text/plain": [
       "(11.236089252080188,\n",
       " 0.00363173557170762,\n",
       " 2,\n",
       " array([[117.86317136,  91.13682864],\n",
       "        [201.89002558, 156.10997442],\n",
       "        [121.24680307,  93.75319693]]))"
      ]
     },
     "execution_count": 141,
     "metadata": {},
     "output_type": "execute_result"
    }
   ],
   "source": [
    "scipy.stats.contingency.chi2_contingency(chisq_PUNTOS_Lo)"
   ]
  },
  {
   "cell_type": "markdown",
   "id": "ba409ea7-40e6-457d-b55d-e9be6cd03568",
   "metadata": {},
   "source": [
    "---"
   ]
  },
  {
   "cell_type": "code",
   "execution_count": 142,
   "id": "b4a0fb9f-e7fc-4999-95f4-d02357559cd3",
   "metadata": {},
   "outputs": [
    {
     "data": {
      "text/html": [
       "<div>\n",
       "<style scoped>\n",
       "    .dataframe tbody tr th:only-of-type {\n",
       "        vertical-align: middle;\n",
       "    }\n",
       "\n",
       "    .dataframe tbody tr th {\n",
       "        vertical-align: top;\n",
       "    }\n",
       "\n",
       "    .dataframe thead th {\n",
       "        text-align: right;\n",
       "    }\n",
       "</style>\n",
       "<table border=\"1\" class=\"dataframe\">\n",
       "  <thead>\n",
       "    <tr style=\"text-align: right;\">\n",
       "      <th>resultado</th>\n",
       "      <th>0</th>\n",
       "      <th>1</th>\n",
       "    </tr>\n",
       "    <tr>\n",
       "      <th>PUNTOS.1</th>\n",
       "      <th></th>\n",
       "      <th></th>\n",
       "    </tr>\n",
       "  </thead>\n",
       "  <tbody>\n",
       "    <tr>\n",
       "      <th>0</th>\n",
       "      <td>13</td>\n",
       "      <td>22</td>\n",
       "    </tr>\n",
       "    <tr>\n",
       "      <th>1</th>\n",
       "      <td>51</td>\n",
       "      <td>45</td>\n",
       "    </tr>\n",
       "    <tr>\n",
       "      <th>2</th>\n",
       "      <td>36</td>\n",
       "      <td>35</td>\n",
       "    </tr>\n",
       "    <tr>\n",
       "      <th>3</th>\n",
       "      <td>69</td>\n",
       "      <td>51</td>\n",
       "    </tr>\n",
       "    <tr>\n",
       "      <th>4</th>\n",
       "      <td>81</td>\n",
       "      <td>63</td>\n",
       "    </tr>\n",
       "    <tr>\n",
       "      <th>5</th>\n",
       "      <td>32</td>\n",
       "      <td>25</td>\n",
       "    </tr>\n",
       "    <tr>\n",
       "      <th>6</th>\n",
       "      <td>63</td>\n",
       "      <td>46</td>\n",
       "    </tr>\n",
       "    <tr>\n",
       "      <th>7</th>\n",
       "      <td>66</td>\n",
       "      <td>43</td>\n",
       "    </tr>\n",
       "    <tr>\n",
       "      <th>9</th>\n",
       "      <td>30</td>\n",
       "      <td>11</td>\n",
       "    </tr>\n",
       "  </tbody>\n",
       "</table>\n",
       "</div>"
      ],
      "text/plain": [
       "resultado   0   1\n",
       "PUNTOS.1         \n",
       "0          13  22\n",
       "1          51  45\n",
       "2          36  35\n",
       "3          69  51\n",
       "4          81  63\n",
       "5          32  25\n",
       "6          63  46\n",
       "7          66  43\n",
       "9          30  11"
      ]
     },
     "execution_count": 142,
     "metadata": {},
     "output_type": "execute_result"
    }
   ],
   "source": [
    "chisq_PUNTOS_V = pd.crosstab(df['PUNTOS.1'], df['resultado'])\n",
    "chisq_PUNTOS_V"
   ]
  },
  {
   "cell_type": "code",
   "execution_count": 143,
   "id": "0ffa4956-131b-420f-8c24-0359c4fe05d0",
   "metadata": {},
   "outputs": [
    {
     "data": {
      "text/plain": [
       "(12.234831929014542,\n",
       " 0.1410297897118424,\n",
       " 8,\n",
       " array([[19.73785166, 15.26214834],\n",
       "        [54.13810742, 41.86189258],\n",
       "        [40.03964194, 30.96035806],\n",
       "        [67.67263427, 52.32736573],\n",
       "        [81.20716113, 62.79283887],\n",
       "        [32.14450128, 24.85549872],\n",
       "        [61.46930946, 47.53069054],\n",
       "        [61.46930946, 47.53069054],\n",
       "        [23.12148338, 17.87851662]]))"
      ]
     },
     "execution_count": 143,
     "metadata": {},
     "output_type": "execute_result"
    }
   ],
   "source": [
    "scipy.stats.contingency.chi2_contingency(chisq_PUNTOS_V)\n",
    "#p-value= 0.0002\n",
    "#critical value = 29.7"
   ]
  },
  {
   "cell_type": "markdown",
   "id": "0fd7959b-8ce7-45bc-89f8-ce2527e3ae6f",
   "metadata": {},
   "source": [
    "---"
   ]
  },
  {
   "cell_type": "code",
   "execution_count": 144,
   "id": "a320e320-4c25-42ac-911c-1ff8290a095c",
   "metadata": {},
   "outputs": [
    {
     "data": {
      "text/html": [
       "<div>\n",
       "<style scoped>\n",
       "    .dataframe tbody tr th:only-of-type {\n",
       "        vertical-align: middle;\n",
       "    }\n",
       "\n",
       "    .dataframe tbody tr th {\n",
       "        vertical-align: top;\n",
       "    }\n",
       "\n",
       "    .dataframe thead th {\n",
       "        text-align: right;\n",
       "    }\n",
       "</style>\n",
       "<table border=\"1\" class=\"dataframe\">\n",
       "  <thead>\n",
       "    <tr style=\"text-align: right;\">\n",
       "      <th>resultado</th>\n",
       "      <th>0</th>\n",
       "      <th>1</th>\n",
       "    </tr>\n",
       "    <tr>\n",
       "      <th>Puntos Visitante</th>\n",
       "      <th></th>\n",
       "      <th></th>\n",
       "    </tr>\n",
       "  </thead>\n",
       "  <tbody>\n",
       "    <tr>\n",
       "      <th>menos de 3</th>\n",
       "      <td>100</td>\n",
       "      <td>102</td>\n",
       "    </tr>\n",
       "    <tr>\n",
       "      <th>de 3 a 5</th>\n",
       "      <td>182</td>\n",
       "      <td>139</td>\n",
       "    </tr>\n",
       "    <tr>\n",
       "      <th>6 o más</th>\n",
       "      <td>159</td>\n",
       "      <td>100</td>\n",
       "    </tr>\n",
       "  </tbody>\n",
       "</table>\n",
       "</div>"
      ],
      "text/plain": [
       "resultado           0    1\n",
       "Puntos Visitante          \n",
       "menos de 3        100  102\n",
       "de 3 a 5          182  139\n",
       "6 o más           159  100"
      ]
     },
     "execution_count": 144,
     "metadata": {},
     "output_type": "execute_result"
    }
   ],
   "source": [
    "chisq_PUNTOS_Vi = pd.crosstab(df['Puntos Visitante'], df['resultado'])\n",
    "chisq_PUNTOS_Vi"
   ]
  },
  {
   "cell_type": "code",
   "execution_count": 145,
   "id": "c50845d3-c164-46fb-adfb-0550a3ae49f9",
   "metadata": {},
   "outputs": [
    {
     "data": {
      "text/plain": [
       "(6.5392915866486065,\n",
       " 0.038019891589833446,\n",
       " 2,\n",
       " array([[113.91560102,  88.08439898],\n",
       "        [181.02429668, 139.97570332],\n",
       "        [146.0601023 , 112.9398977 ]]))"
      ]
     },
     "execution_count": 145,
     "metadata": {},
     "output_type": "execute_result"
    }
   ],
   "source": [
    "scipy.stats.contingency.chi2_contingency(chisq_PUNTOS_Vi)"
   ]
  },
  {
   "cell_type": "markdown",
   "id": "8ba0162f-d007-47c1-aa1b-21cdcf62bfc9",
   "metadata": {},
   "source": [
    "---"
   ]
  },
  {
   "cell_type": "markdown",
   "id": "98f13542-6d9f-4351-ae5f-c8d8e103c7ad",
   "metadata": {},
   "source": [
    "## Último partido\n",
    "---"
   ]
  },
  {
   "cell_type": "code",
   "execution_count": 146,
   "id": "b2fc7827-f108-427c-bbdb-a3d409cb7c0e",
   "metadata": {},
   "outputs": [
    {
     "data": {
      "text/html": [
       "<div>\n",
       "<style scoped>\n",
       "    .dataframe tbody tr th:only-of-type {\n",
       "        vertical-align: middle;\n",
       "    }\n",
       "\n",
       "    .dataframe tbody tr th {\n",
       "        vertical-align: top;\n",
       "    }\n",
       "\n",
       "    .dataframe thead th {\n",
       "        text-align: right;\n",
       "    }\n",
       "</style>\n",
       "<table border=\"1\" class=\"dataframe\">\n",
       "  <thead>\n",
       "    <tr style=\"text-align: right;\">\n",
       "      <th>resultado</th>\n",
       "      <th>0</th>\n",
       "      <th>1</th>\n",
       "    </tr>\n",
       "    <tr>\n",
       "      <th>último partido como local</th>\n",
       "      <th></th>\n",
       "      <th></th>\n",
       "    </tr>\n",
       "  </thead>\n",
       "  <tbody>\n",
       "    <tr>\n",
       "      <th>0</th>\n",
       "      <td>132</td>\n",
       "      <td>95</td>\n",
       "    </tr>\n",
       "    <tr>\n",
       "      <th>1</th>\n",
       "      <td>142</td>\n",
       "      <td>79</td>\n",
       "    </tr>\n",
       "    <tr>\n",
       "      <th>3</th>\n",
       "      <td>167</td>\n",
       "      <td>167</td>\n",
       "    </tr>\n",
       "  </tbody>\n",
       "</table>\n",
       "</div>"
      ],
      "text/plain": [
       "resultado                    0    1\n",
       "último partido como local          \n",
       "0                          132   95\n",
       "1                          142   79\n",
       "3                          167  167"
      ]
     },
     "execution_count": 146,
     "metadata": {},
     "output_type": "execute_result"
    }
   ],
   "source": [
    "chisq_UPL = pd.crosstab(df['último partido como local'], df['resultado'])\n",
    "chisq_UPL"
   ]
  },
  {
   "cell_type": "code",
   "execution_count": 147,
   "id": "66bc0e6f-7099-429a-8886-74263734f535",
   "metadata": {},
   "outputs": [
    {
     "data": {
      "text/plain": [
       "(11.388622691653612,\n",
       " 0.003365053739676434,\n",
       " 2,\n",
       " array([[128.0140665 ,  98.9859335 ],\n",
       "        [124.63043478,  96.36956522],\n",
       "        [188.35549872, 145.64450128]]))"
      ]
     },
     "execution_count": 147,
     "metadata": {},
     "output_type": "execute_result"
    }
   ],
   "source": [
    "scipy.stats.contingency.chi2_contingency(chisq_UPL)\n",
    "#p-value= 0.03\n",
    "#critical value = 7.0"
   ]
  },
  {
   "cell_type": "markdown",
   "id": "5642852a-f7ab-4b8b-88c9-f6f6b16afa72",
   "metadata": {},
   "source": [
    "---"
   ]
  },
  {
   "cell_type": "code",
   "execution_count": 148,
   "id": "1ffa2add-ef62-454b-bb2a-f7ef5432bbbe",
   "metadata": {},
   "outputs": [
    {
     "data": {
      "text/html": [
       "<div>\n",
       "<style scoped>\n",
       "    .dataframe tbody tr th:only-of-type {\n",
       "        vertical-align: middle;\n",
       "    }\n",
       "\n",
       "    .dataframe tbody tr th {\n",
       "        vertical-align: top;\n",
       "    }\n",
       "\n",
       "    .dataframe thead th {\n",
       "        text-align: right;\n",
       "    }\n",
       "</style>\n",
       "<table border=\"1\" class=\"dataframe\">\n",
       "  <thead>\n",
       "    <tr style=\"text-align: right;\">\n",
       "      <th>resultado</th>\n",
       "      <th>0</th>\n",
       "      <th>1</th>\n",
       "    </tr>\n",
       "    <tr>\n",
       "      <th>último partido</th>\n",
       "      <th></th>\n",
       "      <th></th>\n",
       "    </tr>\n",
       "  </thead>\n",
       "  <tbody>\n",
       "    <tr>\n",
       "      <th>0</th>\n",
       "      <td>183</td>\n",
       "      <td>137</td>\n",
       "    </tr>\n",
       "    <tr>\n",
       "      <th>1</th>\n",
       "      <td>119</td>\n",
       "      <td>88</td>\n",
       "    </tr>\n",
       "    <tr>\n",
       "      <th>3</th>\n",
       "      <td>139</td>\n",
       "      <td>116</td>\n",
       "    </tr>\n",
       "  </tbody>\n",
       "</table>\n",
       "</div>"
      ],
      "text/plain": [
       "resultado         0    1\n",
       "último partido          \n",
       "0               183  137\n",
       "1               119   88\n",
       "3               139  116"
      ]
     },
     "execution_count": 148,
     "metadata": {},
     "output_type": "execute_result"
    }
   ],
   "source": [
    "chisq_UP = pd.crosstab(df['último partido'], df['resultado'])\n",
    "chisq_UP"
   ]
  },
  {
   "cell_type": "code",
   "execution_count": 149,
   "id": "c0cbe208-8b79-45a9-801a-3919541282f1",
   "metadata": {},
   "outputs": [
    {
     "data": {
      "text/plain": [
       "(0.5508051863082588,\n",
       " 0.7592663862360295,\n",
       " 2,\n",
       " array([[180.46035806, 139.53964194],\n",
       "        [116.73529412,  90.26470588],\n",
       "        [143.80434783, 111.19565217]]))"
      ]
     },
     "execution_count": 149,
     "metadata": {},
     "output_type": "execute_result"
    }
   ],
   "source": [
    "scipy.stats.contingency.chi2_contingency(chisq_UP)"
   ]
  },
  {
   "cell_type": "markdown",
   "id": "34ddbed0-8005-4b24-92b6-c47edd5a41db",
   "metadata": {},
   "source": [
    "---"
   ]
  },
  {
   "cell_type": "code",
   "execution_count": 150,
   "id": "dfe47a25-cd9a-4fb3-9b9c-91ba84fedfe1",
   "metadata": {},
   "outputs": [
    {
     "data": {
      "text/html": [
       "<div>\n",
       "<style scoped>\n",
       "    .dataframe tbody tr th:only-of-type {\n",
       "        vertical-align: middle;\n",
       "    }\n",
       "\n",
       "    .dataframe tbody tr th {\n",
       "        vertical-align: top;\n",
       "    }\n",
       "\n",
       "    .dataframe thead th {\n",
       "        text-align: right;\n",
       "    }\n",
       "</style>\n",
       "<table border=\"1\" class=\"dataframe\">\n",
       "  <thead>\n",
       "    <tr style=\"text-align: right;\">\n",
       "      <th>resultado</th>\n",
       "      <th>0</th>\n",
       "      <th>1</th>\n",
       "    </tr>\n",
       "    <tr>\n",
       "      <th>último partido.1</th>\n",
       "      <th></th>\n",
       "      <th></th>\n",
       "    </tr>\n",
       "  </thead>\n",
       "  <tbody>\n",
       "    <tr>\n",
       "      <th>0</th>\n",
       "      <td>138</td>\n",
       "      <td>109</td>\n",
       "    </tr>\n",
       "    <tr>\n",
       "      <th>1</th>\n",
       "      <td>134</td>\n",
       "      <td>93</td>\n",
       "    </tr>\n",
       "    <tr>\n",
       "      <th>3</th>\n",
       "      <td>169</td>\n",
       "      <td>139</td>\n",
       "    </tr>\n",
       "  </tbody>\n",
       "</table>\n",
       "</div>"
      ],
      "text/plain": [
       "resultado           0    1\n",
       "último partido.1          \n",
       "0                 138  109\n",
       "1                 134   93\n",
       "3                 169  139"
      ]
     },
     "execution_count": 150,
     "metadata": {},
     "output_type": "execute_result"
    }
   ],
   "source": [
    "chisq_UPV = pd.crosstab(df['último partido.1'], df['resultado'])\n",
    "chisq_UPV"
   ]
  },
  {
   "cell_type": "code",
   "execution_count": 151,
   "id": "4de16f55-d12a-4ae0-9398-8a663d94a4b9",
   "metadata": {},
   "outputs": [
    {
     "data": {
      "text/plain": [
       "(0.9602005439742862,\n",
       " 0.618721348276499,\n",
       " 2,\n",
       " array([[139.29283887, 107.70716113],\n",
       "        [128.0140665 ,  98.9859335 ],\n",
       "        [173.69309463, 134.30690537]]))"
      ]
     },
     "execution_count": 151,
     "metadata": {},
     "output_type": "execute_result"
    }
   ],
   "source": [
    "scipy.stats.contingency.chi2_contingency(chisq_UPV)"
   ]
  },
  {
   "cell_type": "markdown",
   "id": "455bbc30-fbed-472d-a15a-818af7a4f866",
   "metadata": {},
   "source": [
    "---"
   ]
  },
  {
   "cell_type": "markdown",
   "id": "2a045c54-d7ae-41cf-8984-c72a828ed0c6",
   "metadata": {},
   "source": [
    "# Goles"
   ]
  },
  {
   "cell_type": "markdown",
   "id": "665987e4-40c9-4119-95d8-6db4ac556723",
   "metadata": {},
   "source": [
    "## Local\n",
    "---"
   ]
  },
  {
   "cell_type": "code",
   "execution_count": 152,
   "id": "de448c11-e2ba-49e5-a9c0-5cebcb5e6186",
   "metadata": {},
   "outputs": [
    {
     "data": {
      "text/html": [
       "<div>\n",
       "<style scoped>\n",
       "    .dataframe tbody tr th:only-of-type {\n",
       "        vertical-align: middle;\n",
       "    }\n",
       "\n",
       "    .dataframe tbody tr th {\n",
       "        vertical-align: top;\n",
       "    }\n",
       "\n",
       "    .dataframe thead th {\n",
       "        text-align: right;\n",
       "    }\n",
       "</style>\n",
       "<table border=\"1\" class=\"dataframe\">\n",
       "  <thead>\n",
       "    <tr style=\"text-align: right;\">\n",
       "      <th>resultado</th>\n",
       "      <th>0</th>\n",
       "      <th>1</th>\n",
       "    </tr>\n",
       "    <tr>\n",
       "      <th>GF_local</th>\n",
       "      <th></th>\n",
       "      <th></th>\n",
       "    </tr>\n",
       "  </thead>\n",
       "  <tbody>\n",
       "    <tr>\n",
       "      <th>0-1.33</th>\n",
       "      <td>303</td>\n",
       "      <td>187</td>\n",
       "    </tr>\n",
       "    <tr>\n",
       "      <th>&gt;1.33</th>\n",
       "      <td>138</td>\n",
       "      <td>154</td>\n",
       "    </tr>\n",
       "  </tbody>\n",
       "</table>\n",
       "</div>"
      ],
      "text/plain": [
       "resultado    0    1\n",
       "GF_local           \n",
       "0-1.33     303  187\n",
       ">1.33      138  154"
      ]
     },
     "execution_count": 152,
     "metadata": {},
     "output_type": "execute_result"
    }
   ],
   "source": [
    "chisq_gfl = pd.crosstab(df['GF_local'], df['resultado'])\n",
    "chisq_gfl"
   ]
  },
  {
   "cell_type": "code",
   "execution_count": 153,
   "id": "a3c5bf29-0bda-4dc0-85d9-98e4bfa4a051",
   "metadata": {},
   "outputs": [
    {
     "data": {
      "text/plain": [
       "(15.22153151134037,\n",
       " 9.560710494792811e-05,\n",
       " 1,\n",
       " array([[276.32992327, 213.67007673],\n",
       "        [164.67007673, 127.32992327]]))"
      ]
     },
     "execution_count": 153,
     "metadata": {},
     "output_type": "execute_result"
    }
   ],
   "source": [
    "scipy.stats.contingency.chi2_contingency(chisq_gfl)"
   ]
  },
  {
   "cell_type": "markdown",
   "id": "8207549f-03e7-4f79-9282-8b887b41bda8",
   "metadata": {},
   "source": [
    "---"
   ]
  },
  {
   "cell_type": "code",
   "execution_count": 154,
   "id": "4ecc5891-b500-44f7-9e06-724aa9ebc170",
   "metadata": {},
   "outputs": [
    {
     "data": {
      "text/html": [
       "<div>\n",
       "<style scoped>\n",
       "    .dataframe tbody tr th:only-of-type {\n",
       "        vertical-align: middle;\n",
       "    }\n",
       "\n",
       "    .dataframe tbody tr th {\n",
       "        vertical-align: top;\n",
       "    }\n",
       "\n",
       "    .dataframe thead th {\n",
       "        text-align: right;\n",
       "    }\n",
       "</style>\n",
       "<table border=\"1\" class=\"dataframe\">\n",
       "  <thead>\n",
       "    <tr style=\"text-align: right;\">\n",
       "      <th>resultado</th>\n",
       "      <th>0</th>\n",
       "      <th>1</th>\n",
       "    </tr>\n",
       "    <tr>\n",
       "      <th>GC_local</th>\n",
       "      <th></th>\n",
       "      <th></th>\n",
       "    </tr>\n",
       "  </thead>\n",
       "  <tbody>\n",
       "    <tr>\n",
       "      <th>0-1.2</th>\n",
       "      <td>227</td>\n",
       "      <td>203</td>\n",
       "    </tr>\n",
       "    <tr>\n",
       "      <th>&gt;1.2</th>\n",
       "      <td>214</td>\n",
       "      <td>138</td>\n",
       "    </tr>\n",
       "  </tbody>\n",
       "</table>\n",
       "</div>"
      ],
      "text/plain": [
       "resultado    0    1\n",
       "GC_local           \n",
       "0-1.2      227  203\n",
       ">1.2       214  138"
      ]
     },
     "execution_count": 154,
     "metadata": {},
     "output_type": "execute_result"
    }
   ],
   "source": [
    "chisq_gcl = pd.crosstab(df['GC_local'], df['resultado'])\n",
    "chisq_gcl"
   ]
  },
  {
   "cell_type": "code",
   "execution_count": 155,
   "id": "bf09a35a-57e9-44a5-9c5a-b332b93df6b2",
   "metadata": {},
   "outputs": [
    {
     "data": {
      "text/plain": [
       "(4.723113349790621,\n",
       " 0.02975981413122242,\n",
       " 1,\n",
       " array([[242.49360614, 187.50639386],\n",
       "        [198.50639386, 153.49360614]]))"
      ]
     },
     "execution_count": 155,
     "metadata": {},
     "output_type": "execute_result"
    }
   ],
   "source": [
    "scipy.stats.contingency.chi2_contingency(chisq_gcl)"
   ]
  },
  {
   "cell_type": "markdown",
   "id": "765fc4b3-b868-40c0-9dc1-4547d01dd90a",
   "metadata": {},
   "source": [
    "---"
   ]
  },
  {
   "cell_type": "markdown",
   "id": "42a151e2-4751-4fa7-9435-623f401fdb97",
   "metadata": {},
   "source": [
    "## Visitante"
   ]
  },
  {
   "cell_type": "markdown",
   "id": "7a05333b-0630-44bf-a64f-9d83e3be42dc",
   "metadata": {},
   "source": [
    "---"
   ]
  },
  {
   "cell_type": "code",
   "execution_count": 156,
   "id": "17276fc5-a8a5-4d75-a734-afe79efbfd31",
   "metadata": {},
   "outputs": [
    {
     "data": {
      "text/html": [
       "<div>\n",
       "<style scoped>\n",
       "    .dataframe tbody tr th:only-of-type {\n",
       "        vertical-align: middle;\n",
       "    }\n",
       "\n",
       "    .dataframe tbody tr th {\n",
       "        vertical-align: top;\n",
       "    }\n",
       "\n",
       "    .dataframe thead th {\n",
       "        text-align: right;\n",
       "    }\n",
       "</style>\n",
       "<table border=\"1\" class=\"dataframe\">\n",
       "  <thead>\n",
       "    <tr style=\"text-align: right;\">\n",
       "      <th>resultado</th>\n",
       "      <th>0</th>\n",
       "      <th>1</th>\n",
       "    </tr>\n",
       "    <tr>\n",
       "      <th>GF_visitante</th>\n",
       "      <th></th>\n",
       "      <th></th>\n",
       "    </tr>\n",
       "  </thead>\n",
       "  <tbody>\n",
       "    <tr>\n",
       "      <th>0-1.1</th>\n",
       "      <td>227</td>\n",
       "      <td>247</td>\n",
       "    </tr>\n",
       "    <tr>\n",
       "      <th>&gt;1.1</th>\n",
       "      <td>214</td>\n",
       "      <td>94</td>\n",
       "    </tr>\n",
       "  </tbody>\n",
       "</table>\n",
       "</div>"
      ],
      "text/plain": [
       "resultado       0    1\n",
       "GF_visitante          \n",
       "0-1.1         227  247\n",
       ">1.1          214   94"
      ]
     },
     "execution_count": 156,
     "metadata": {},
     "output_type": "execute_result"
    }
   ],
   "source": [
    "chisq_gfv = pd.crosstab(df['GF_visitante'], df['resultado'])\n",
    "chisq_gfv"
   ]
  },
  {
   "cell_type": "code",
   "execution_count": 157,
   "id": "ce91109d-9e5e-4c3a-b7e8-49046619cfea",
   "metadata": {},
   "outputs": [
    {
     "data": {
      "text/plain": [
       "(34.51557123221811,\n",
       " 4.228550288846306e-09,\n",
       " 1,\n",
       " array([[267.30690537, 206.69309463],\n",
       "        [173.69309463, 134.30690537]]))"
      ]
     },
     "execution_count": 157,
     "metadata": {},
     "output_type": "execute_result"
    }
   ],
   "source": [
    "scipy.stats.contingency.chi2_contingency(chisq_gfv)"
   ]
  },
  {
   "cell_type": "markdown",
   "id": "85ea3d73-9a69-4c83-8271-cfdebc698df7",
   "metadata": {},
   "source": [
    "---"
   ]
  },
  {
   "cell_type": "code",
   "execution_count": 158,
   "id": "f4f16b0e-255a-4093-b41e-6526f546b782",
   "metadata": {},
   "outputs": [
    {
     "data": {
      "text/html": [
       "<div>\n",
       "<style scoped>\n",
       "    .dataframe tbody tr th:only-of-type {\n",
       "        vertical-align: middle;\n",
       "    }\n",
       "\n",
       "    .dataframe tbody tr th {\n",
       "        vertical-align: top;\n",
       "    }\n",
       "\n",
       "    .dataframe thead th {\n",
       "        text-align: right;\n",
       "    }\n",
       "</style>\n",
       "<table border=\"1\" class=\"dataframe\">\n",
       "  <thead>\n",
       "    <tr style=\"text-align: right;\">\n",
       "      <th>resultado</th>\n",
       "      <th>0</th>\n",
       "      <th>1</th>\n",
       "    </tr>\n",
       "    <tr>\n",
       "      <th>GC_visitante</th>\n",
       "      <th></th>\n",
       "      <th></th>\n",
       "    </tr>\n",
       "  </thead>\n",
       "  <tbody>\n",
       "    <tr>\n",
       "      <th>0-1.1</th>\n",
       "      <td>262</td>\n",
       "      <td>170</td>\n",
       "    </tr>\n",
       "    <tr>\n",
       "      <th>&gt;1.4</th>\n",
       "      <td>179</td>\n",
       "      <td>171</td>\n",
       "    </tr>\n",
       "  </tbody>\n",
       "</table>\n",
       "</div>"
      ],
      "text/plain": [
       "resultado       0    1\n",
       "GC_visitante          \n",
       "0-1.1         262  170\n",
       ">1.4          179  171"
      ]
     },
     "execution_count": 158,
     "metadata": {},
     "output_type": "execute_result"
    }
   ],
   "source": [
    "chisq_gcv = pd.crosstab(df['GC_visitante'], df['resultado'])\n",
    "chisq_gcv"
   ]
  },
  {
   "cell_type": "code",
   "execution_count": 159,
   "id": "451a6f61-fcbf-4f6c-a296-594215b4c294",
   "metadata": {},
   "outputs": [
    {
     "data": {
      "text/plain": [
       "(6.722618477726181,\n",
       " 0.009519775905817733,\n",
       " 1,\n",
       " array([[243.62148338, 188.37851662],\n",
       "        [197.37851662, 152.62148338]]))"
      ]
     },
     "execution_count": 159,
     "metadata": {},
     "output_type": "execute_result"
    }
   ],
   "source": [
    "scipy.stats.contingency.chi2_contingency(chisq_gcv)"
   ]
  },
  {
   "cell_type": "markdown",
   "id": "eb259115-ad2f-456e-8625-3b48078e1140",
   "metadata": {},
   "source": [
    "---"
   ]
  },
  {
   "cell_type": "markdown",
   "id": "c9a818ed-9a49-4918-9865-0d87b81200bf",
   "metadata": {},
   "source": [
    "## Desempeño del equipo"
   ]
  },
  {
   "cell_type": "code",
   "execution_count": 160,
   "id": "1997ac36-38c2-47ac-b473-b3b60ea20da7",
   "metadata": {},
   "outputs": [
    {
     "data": {
      "text/html": [
       "<div>\n",
       "<style scoped>\n",
       "    .dataframe tbody tr th:only-of-type {\n",
       "        vertical-align: middle;\n",
       "    }\n",
       "\n",
       "    .dataframe tbody tr th {\n",
       "        vertical-align: top;\n",
       "    }\n",
       "\n",
       "    .dataframe thead th {\n",
       "        text-align: right;\n",
       "    }\n",
       "</style>\n",
       "<table border=\"1\" class=\"dataframe\">\n",
       "  <thead>\n",
       "    <tr style=\"text-align: right;\">\n",
       "      <th>resultado</th>\n",
       "      <th>0</th>\n",
       "      <th>1</th>\n",
       "    </tr>\n",
       "    <tr>\n",
       "      <th>MPSP_l</th>\n",
       "      <th></th>\n",
       "      <th></th>\n",
       "    </tr>\n",
       "  </thead>\n",
       "  <tbody>\n",
       "    <tr>\n",
       "      <th>(0.999, 2.27]</th>\n",
       "      <td>204</td>\n",
       "      <td>109</td>\n",
       "    </tr>\n",
       "    <tr>\n",
       "      <th>(2.27, 12.0]</th>\n",
       "      <td>237</td>\n",
       "      <td>232</td>\n",
       "    </tr>\n",
       "  </tbody>\n",
       "</table>\n",
       "</div>"
      ],
      "text/plain": [
       "resultado        0    1\n",
       "MPSP_l                 \n",
       "(0.999, 2.27]  204  109\n",
       "(2.27, 12.0]   237  232"
      ]
     },
     "execution_count": 160,
     "metadata": {},
     "output_type": "execute_result"
    }
   ],
   "source": [
    "chisq_mpsp_l = pd.crosstab(df['MPSP_l'], df['resultado'])\n",
    "chisq_mpsp_l"
   ]
  },
  {
   "cell_type": "code",
   "execution_count": 161,
   "id": "d6a3c7ca-d39b-49d7-95ed-3c1992da5079",
   "metadata": {},
   "outputs": [
    {
     "data": {
      "text/plain": [
       "(15.777063036614969,\n",
       " 7.126120888236549e-05,\n",
       " 1,\n",
       " array([[176.51278772, 136.48721228],\n",
       "        [264.48721228, 204.51278772]]))"
      ]
     },
     "execution_count": 161,
     "metadata": {},
     "output_type": "execute_result"
    }
   ],
   "source": [
    "scipy.stats.contingency.chi2_contingency(chisq_mpsp_l)"
   ]
  },
  {
   "cell_type": "markdown",
   "id": "0fbfb574-95e5-43fb-9432-ec94e8cab60c",
   "metadata": {},
   "source": [
    "---"
   ]
  },
  {
   "cell_type": "code",
   "execution_count": 162,
   "id": "1b01b1b5-db3b-41ae-9f6b-ccb8bb55a021",
   "metadata": {},
   "outputs": [
    {
     "data": {
      "text/html": [
       "<div>\n",
       "<style scoped>\n",
       "    .dataframe tbody tr th:only-of-type {\n",
       "        vertical-align: middle;\n",
       "    }\n",
       "\n",
       "    .dataframe tbody tr th {\n",
       "        vertical-align: top;\n",
       "    }\n",
       "\n",
       "    .dataframe thead th {\n",
       "        text-align: right;\n",
       "    }\n",
       "</style>\n",
       "<table border=\"1\" class=\"dataframe\">\n",
       "  <thead>\n",
       "    <tr style=\"text-align: right;\">\n",
       "      <th>resultado</th>\n",
       "      <th>0</th>\n",
       "      <th>1</th>\n",
       "    </tr>\n",
       "    <tr>\n",
       "      <th>MPSG_l</th>\n",
       "      <th></th>\n",
       "      <th></th>\n",
       "    </tr>\n",
       "  </thead>\n",
       "  <tbody>\n",
       "    <tr>\n",
       "      <th>(-0.001, 2.25]</th>\n",
       "      <td>130</td>\n",
       "      <td>190</td>\n",
       "    </tr>\n",
       "    <tr>\n",
       "      <th>(2.25, 11.0]</th>\n",
       "      <td>311</td>\n",
       "      <td>151</td>\n",
       "    </tr>\n",
       "  </tbody>\n",
       "</table>\n",
       "</div>"
      ],
      "text/plain": [
       "resultado         0    1\n",
       "MPSG_l                  \n",
       "(-0.001, 2.25]  130  190\n",
       "(2.25, 11.0]    311  151"
      ]
     },
     "execution_count": 162,
     "metadata": {},
     "output_type": "execute_result"
    }
   ],
   "source": [
    "chisq_mpsg_l = pd.crosstab(df['MPSG_l'], df['resultado'])\n",
    "chisq_mpsg_l"
   ]
  },
  {
   "cell_type": "code",
   "execution_count": 163,
   "id": "b07cc13e-53a9-4c42-906f-1ade007ccfbf",
   "metadata": {},
   "outputs": [
    {
     "data": {
      "text/plain": [
       "(53.6891367671245,\n",
       " 2.348582821321265e-13,\n",
       " 1,\n",
       " array([[180.46035806, 139.53964194],\n",
       "        [260.53964194, 201.46035806]]))"
      ]
     },
     "execution_count": 163,
     "metadata": {},
     "output_type": "execute_result"
    }
   ],
   "source": [
    "scipy.stats.contingency.chi2_contingency(chisq_mpsg_l)"
   ]
  },
  {
   "cell_type": "markdown",
   "id": "a7405fb3-f202-4250-bf20-a65f88f08a04",
   "metadata": {},
   "source": [
    "---"
   ]
  },
  {
   "cell_type": "code",
   "execution_count": 164,
   "id": "3304bf50-06ea-43c4-b3b1-46b2411bc330",
   "metadata": {},
   "outputs": [
    {
     "data": {
      "text/html": [
       "<div>\n",
       "<style scoped>\n",
       "    .dataframe tbody tr th:only-of-type {\n",
       "        vertical-align: middle;\n",
       "    }\n",
       "\n",
       "    .dataframe tbody tr th {\n",
       "        vertical-align: top;\n",
       "    }\n",
       "\n",
       "    .dataframe thead th {\n",
       "        text-align: right;\n",
       "    }\n",
       "</style>\n",
       "<table border=\"1\" class=\"dataframe\">\n",
       "  <thead>\n",
       "    <tr style=\"text-align: right;\">\n",
       "      <th>resultado</th>\n",
       "      <th>0</th>\n",
       "      <th>1</th>\n",
       "    </tr>\n",
       "    <tr>\n",
       "      <th>MPSP_v</th>\n",
       "      <th></th>\n",
       "      <th></th>\n",
       "    </tr>\n",
       "  </thead>\n",
       "  <tbody>\n",
       "    <tr>\n",
       "      <th>(0.999, 2.233]</th>\n",
       "      <td>127</td>\n",
       "      <td>186</td>\n",
       "    </tr>\n",
       "    <tr>\n",
       "      <th>(2.233, 12.0]</th>\n",
       "      <td>314</td>\n",
       "      <td>155</td>\n",
       "    </tr>\n",
       "  </tbody>\n",
       "</table>\n",
       "</div>"
      ],
      "text/plain": [
       "resultado         0    1\n",
       "MPSP_v                  \n",
       "(0.999, 2.233]  127  186\n",
       "(2.233, 12.0]   314  155"
      ]
     },
     "execution_count": 164,
     "metadata": {},
     "output_type": "execute_result"
    }
   ],
   "source": [
    "chisq_mpsp_v = pd.crosstab(df['MPSP_v'], df['resultado'])\n",
    "chisq_mpsp_v"
   ]
  },
  {
   "cell_type": "code",
   "execution_count": 165,
   "id": "7bc356c2-9f53-40b6-bd7c-dfad271ab1df",
   "metadata": {},
   "outputs": [
    {
     "data": {
      "text/plain": [
       "(52.03899731907869,\n",
       " 5.440924906224995e-13,\n",
       " 1,\n",
       " array([[176.51278772, 136.48721228],\n",
       "        [264.48721228, 204.51278772]]))"
      ]
     },
     "execution_count": 165,
     "metadata": {},
     "output_type": "execute_result"
    }
   ],
   "source": [
    "scipy.stats.contingency.chi2_contingency(chisq_mpsp_v)"
   ]
  },
  {
   "cell_type": "markdown",
   "id": "5eda3034-f453-4a04-8a0b-8bbd08e9192d",
   "metadata": {},
   "source": [
    "---"
   ]
  },
  {
   "cell_type": "code",
   "execution_count": 166,
   "id": "0435e00e-62f6-42db-8c80-d391324f5690",
   "metadata": {},
   "outputs": [
    {
     "data": {
      "text/html": [
       "<div>\n",
       "<style scoped>\n",
       "    .dataframe tbody tr th:only-of-type {\n",
       "        vertical-align: middle;\n",
       "    }\n",
       "\n",
       "    .dataframe tbody tr th {\n",
       "        vertical-align: top;\n",
       "    }\n",
       "\n",
       "    .dataframe thead th {\n",
       "        text-align: right;\n",
       "    }\n",
       "</style>\n",
       "<table border=\"1\" class=\"dataframe\">\n",
       "  <thead>\n",
       "    <tr style=\"text-align: right;\">\n",
       "      <th>resultado</th>\n",
       "      <th>0</th>\n",
       "      <th>1</th>\n",
       "    </tr>\n",
       "    <tr>\n",
       "      <th>MPSG_v</th>\n",
       "      <th></th>\n",
       "      <th></th>\n",
       "    </tr>\n",
       "  </thead>\n",
       "  <tbody>\n",
       "    <tr>\n",
       "      <th>(-0.001, 2.25]</th>\n",
       "      <td>221</td>\n",
       "      <td>94</td>\n",
       "    </tr>\n",
       "    <tr>\n",
       "      <th>(2.25, 11.0]</th>\n",
       "      <td>220</td>\n",
       "      <td>247</td>\n",
       "    </tr>\n",
       "  </tbody>\n",
       "</table>\n",
       "</div>"
      ],
      "text/plain": [
       "resultado         0    1\n",
       "MPSG_v                  \n",
       "(-0.001, 2.25]  221   94\n",
       "(2.25, 11.0]    220  247"
      ]
     },
     "execution_count": 166,
     "metadata": {},
     "output_type": "execute_result"
    }
   ],
   "source": [
    "chisq_mpsg_v = pd.crosstab(df['MPSG_v'], df['resultado'])\n",
    "chisq_mpsg_v"
   ]
  },
  {
   "cell_type": "code",
   "execution_count": 167,
   "id": "65d071c1-6ecf-4c51-909f-c67549d19a96",
   "metadata": {},
   "outputs": [
    {
     "data": {
      "text/plain": [
       "(39.709161240086175,\n",
       " 2.947396948170779e-10,\n",
       " 1,\n",
       " array([[177.64066496, 137.35933504],\n",
       "        [263.35933504, 203.64066496]]))"
      ]
     },
     "execution_count": 167,
     "metadata": {},
     "output_type": "execute_result"
    }
   ],
   "source": [
    "scipy.stats.contingency.chi2_contingency(chisq_mpsg_v)"
   ]
  },
  {
   "cell_type": "markdown",
   "id": "34c1d842-805b-49da-b1fb-46103ae7be55",
   "metadata": {},
   "source": [
    "---"
   ]
  }
 ],
 "metadata": {
  "kernelspec": {
   "display_name": "Python 3 (ipykernel)",
   "language": "python",
   "name": "python3"
  },
  "language_info": {
   "codemirror_mode": {
    "name": "ipython",
    "version": 3
   },
   "file_extension": ".py",
   "mimetype": "text/x-python",
   "name": "python",
   "nbconvert_exporter": "python",
   "pygments_lexer": "ipython3",
   "version": "3.9.12"
  }
 },
 "nbformat": 4,
 "nbformat_minor": 5
}
